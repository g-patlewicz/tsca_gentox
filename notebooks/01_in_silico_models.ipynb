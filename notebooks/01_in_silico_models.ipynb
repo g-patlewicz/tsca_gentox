{
 "cells": [
  {
   "cell_type": "code",
   "execution_count": 1,
   "metadata": {},
   "outputs": [],
   "source": [
    "import numpy as np\n",
    "import pandas as pd\n",
    "import matplotlib.pyplot as plt\n",
    "import seaborn as sns\n",
    "%matplotlib inline"
   ]
  },
  {
   "cell_type": "code",
   "execution_count": 2,
   "metadata": {},
   "outputs": [],
   "source": [
    "import os"
   ]
  },
  {
   "cell_type": "markdown",
   "metadata": {},
   "source": [
    "#### Importing relevant libraries and setting up directory structure to open and export files more readily."
   ]
  },
  {
   "cell_type": "code",
   "execution_count": 3,
   "metadata": {},
   "outputs": [],
   "source": [
    "TOP = os.getcwd().replace('notebooks', '')\n",
    "raw_dir = TOP + 'data/raw/'\n",
    "processed_dir = TOP + 'data/processed/'\n",
    "interim_dir = TOP + 'data/interim/'\n",
    "external_dir = TOP + 'data/external/'\n",
    "figures_dir = TOP + 'reports/figures/'"
   ]
  },
  {
   "cell_type": "markdown",
   "metadata": {},
   "source": [
    "#### Processing predictions from the TEST software"
   ]
  },
  {
   "cell_type": "code",
   "execution_count": 5,
   "metadata": {},
   "outputs": [],
   "source": [
    "TEST_1 = pd.read_csv(processed_dir+ 'TSCA_1_out.csv')"
   ]
  },
  {
   "cell_type": "code",
   "execution_count": 6,
   "metadata": {},
   "outputs": [],
   "source": [
    "TEST_2 = pd.read_csv(processed_dir+ 'TSCA_2_out.csv')"
   ]
  },
  {
   "cell_type": "code",
   "execution_count": 7,
   "metadata": {},
   "outputs": [],
   "source": [
    "TEST_1.set_index('ID', inplace = True)\n",
    "TEST_2.set_index('ID', inplace = True)"
   ]
  },
  {
   "cell_type": "code",
   "execution_count": 8,
   "metadata": {},
   "outputs": [],
   "source": [
    "df_test = pd.concat([TEST_1, TEST_2], axis = 0)"
   ]
  },
  {
   "cell_type": "code",
   "execution_count": 9,
   "metadata": {},
   "outputs": [
    {
     "data": {
      "text/plain": [
       "Index(['Index', 'Query', 'SmilesRan', 'Error', 'Exp_Value', 'Pred_Value',\n",
       "       'Exp_Result', 'Pred_Result'],\n",
       "      dtype='object')"
      ]
     },
     "execution_count": 9,
     "metadata": {},
     "output_type": "execute_result"
    }
   ],
   "source": [
    "df_test.columns"
   ]
  },
  {
   "cell_type": "code",
   "execution_count": 10,
   "metadata": {},
   "outputs": [
    {
     "data": {
      "text/plain": [
       "array([nan, 'Multiple molecules', 'FindPaths',\n",
       "       'Molecule contains unsupported element',\n",
       "       'Molecule does not contain carbon', 'Only one nonhydrogen atom',\n",
       "       'FindRings'], dtype=object)"
      ]
     },
     "execution_count": 10,
     "metadata": {},
     "output_type": "execute_result"
    }
   ],
   "source": [
    "df_test.Error.unique()"
   ]
  },
  {
   "cell_type": "code",
   "execution_count": 11,
   "metadata": {},
   "outputs": [],
   "source": [
    "df_test['TEST_prediction'] = df_test.apply(lambda x : 1 if x['Pred_Value'] >=0.5 else (np.nan if x['Error'] in ['Multiple molecules', 'FindPaths',\n",
    "       'Molecule contains unsupported element',\n",
    "       'Molecule does not contain carbon', 'Only one nonhydrogen atom',\n",
    "       'FindRings'] else 0), axis = 1)"
   ]
  },
  {
   "cell_type": "code",
   "execution_count": 12,
   "metadata": {},
   "outputs": [
    {
     "data": {
      "text/plain": [
       "0.0    10526\n",
       "NaN     6941\n",
       "1.0     2156\n",
       "Name: TEST_prediction, dtype: int64"
      ]
     },
     "execution_count": 12,
     "metadata": {},
     "output_type": "execute_result"
    }
   ],
   "source": [
    "df_test.TEST_prediction.value_counts(dropna = False)"
   ]
  },
  {
   "cell_type": "code",
   "execution_count": 11,
   "metadata": {},
   "outputs": [],
   "source": [
    "df_test[~df_test['Error'].isnull()].to_csv(processed_dir+'TEST_errors.csv')"
   ]
  },
  {
   "cell_type": "code",
   "execution_count": 12,
   "metadata": {},
   "outputs": [],
   "source": [
    "test_missing_1 = pd.read_excel('TEST_missing_1.xlsx')"
   ]
  },
  {
   "cell_type": "code",
   "execution_count": 13,
   "metadata": {},
   "outputs": [],
   "source": [
    "test_missing_2 = pd.read_excel('TEST_missing_2.xlsx')"
   ]
  },
  {
   "cell_type": "code",
   "execution_count": 14,
   "metadata": {},
   "outputs": [
    {
     "data": {
      "text/plain": [
       "(4998, 7)"
      ]
     },
     "execution_count": 14,
     "metadata": {},
     "output_type": "execute_result"
    }
   ],
   "source": [
    "test_missing_1.shape"
   ]
  },
  {
   "cell_type": "code",
   "execution_count": 15,
   "metadata": {},
   "outputs": [
    {
     "data": {
      "text/plain": [
       "(1943, 6)"
      ]
     },
     "execution_count": 15,
     "metadata": {},
     "output_type": "execute_result"
    }
   ],
   "source": [
    "test_missing_2.shape"
   ]
  },
  {
   "cell_type": "code",
   "execution_count": 16,
   "metadata": {},
   "outputs": [
    {
     "name": "stderr",
     "output_type": "stream",
     "text": [
      "/home/gpatlewi/anaconda3/lib/python3.6/site-packages/ipykernel_launcher.py:4: FutureWarning: Sorting because non-concatenation axis is not aligned. A future version\n",
      "of pandas will change to not sort by default.\n",
      "\n",
      "To accept the future behavior, pass 'sort=True'.\n",
      "\n",
      "To retain the current behavior and silence the warning, pass sort=False\n",
      "\n",
      "  after removing the cwd from sys.path.\n"
     ]
    }
   ],
   "source": [
    "test_missing_1.set_index('INPUT', inplace = True)\n",
    "test_missing_2.set_index('INPUT', inplace = True)\n",
    "\n",
    "test_missing = pd.concat([test_missing_1, test_missing_2], axis = 0)"
   ]
  },
  {
   "cell_type": "code",
   "execution_count": 17,
   "metadata": {},
   "outputs": [
    {
     "data": {
      "text/plain": [
       "(6941, 6)"
      ]
     },
     "execution_count": 17,
     "metadata": {},
     "output_type": "execute_result"
    }
   ],
   "source": [
    "test_missing.shape"
   ]
  },
  {
   "cell_type": "code",
   "execution_count": 30,
   "metadata": {},
   "outputs": [],
   "source": [
    "test_missing.to_csv(processed_dir'TEST_errors_smi.csv')"
   ]
  },
  {
   "cell_type": "code",
   "execution_count": 18,
   "metadata": {},
   "outputs": [
    {
     "data": {
      "text/plain": [
       "(6941, 6)"
      ]
     },
     "execution_count": 18,
     "metadata": {},
     "output_type": "execute_result"
    }
   ],
   "source": [
    "test_missing.shape"
   ]
  },
  {
   "cell_type": "code",
   "execution_count": 19,
   "metadata": {},
   "outputs": [],
   "source": [
    "test_missing_smi = pd.read_csv(processed_dir+'TEST_missing_new.csv')"
   ]
  },
  {
   "cell_type": "code",
   "execution_count": 20,
   "metadata": {},
   "outputs": [
    {
     "data": {
      "text/html": [
       "<div>\n",
       "<style scoped>\n",
       "    .dataframe tbody tr th:only-of-type {\n",
       "        vertical-align: middle;\n",
       "    }\n",
       "\n",
       "    .dataframe tbody tr th {\n",
       "        vertical-align: top;\n",
       "    }\n",
       "\n",
       "    .dataframe thead th {\n",
       "        text-align: right;\n",
       "    }\n",
       "</style>\n",
       "<table border=\"1\" class=\"dataframe\">\n",
       "  <thead>\n",
       "    <tr style=\"text-align: right;\">\n",
       "      <th></th>\n",
       "      <th>INPUT</th>\n",
       "      <th>QSAR_READY_SMILES</th>\n",
       "    </tr>\n",
       "  </thead>\n",
       "  <tbody>\n",
       "    <tr>\n",
       "      <th>0</th>\n",
       "      <td>DTXSID5020075</td>\n",
       "      <td>NC1=CC=C(C=C1)N(CCO)CCO</td>\n",
       "    </tr>\n",
       "    <tr>\n",
       "      <th>1</th>\n",
       "      <td>DTXSID5020079</td>\n",
       "      <td>OC(=O)CC(O)(CC(O)=O)C(O)=O</td>\n",
       "    </tr>\n",
       "    <tr>\n",
       "      <th>2</th>\n",
       "      <td>DTXSID3020091</td>\n",
       "      <td>NC1=CC=CC=C1</td>\n",
       "    </tr>\n",
       "    <tr>\n",
       "      <th>3</th>\n",
       "      <td>DTXSID3020093</td>\n",
       "      <td>COC1=CC=C(N)C=C1</td>\n",
       "    </tr>\n",
       "    <tr>\n",
       "      <th>4</th>\n",
       "      <td>DTXSID3020095</td>\n",
       "      <td>O=C1C2=C(C=CC=C2)C(=O)C2=C1C=CC=C2</td>\n",
       "    </tr>\n",
       "  </tbody>\n",
       "</table>\n",
       "</div>"
      ],
      "text/plain": [
       "           INPUT                   QSAR_READY_SMILES\n",
       "0  DTXSID5020075             NC1=CC=C(C=C1)N(CCO)CCO\n",
       "1  DTXSID5020079          OC(=O)CC(O)(CC(O)=O)C(O)=O\n",
       "2  DTXSID3020091                        NC1=CC=CC=C1\n",
       "3  DTXSID3020093                    COC1=CC=C(N)C=C1\n",
       "4  DTXSID3020095  O=C1C2=C(C=CC=C2)C(=O)C2=C1C=CC=C2"
      ]
     },
     "execution_count": 20,
     "metadata": {},
     "output_type": "execute_result"
    }
   ],
   "source": [
    "test_missing_smi.head()"
   ]
  },
  {
   "cell_type": "code",
   "execution_count": 21,
   "metadata": {},
   "outputs": [
    {
     "data": {
      "text/html": [
       "<div>\n",
       "<style scoped>\n",
       "    .dataframe tbody tr th:only-of-type {\n",
       "        vertical-align: middle;\n",
       "    }\n",
       "\n",
       "    .dataframe tbody tr th {\n",
       "        vertical-align: top;\n",
       "    }\n",
       "\n",
       "    .dataframe thead th {\n",
       "        text-align: right;\n",
       "    }\n",
       "</style>\n",
       "<table border=\"1\" class=\"dataframe\">\n",
       "  <thead>\n",
       "    <tr style=\"text-align: right;\">\n",
       "      <th></th>\n",
       "      <th>Index</th>\n",
       "      <th>Query</th>\n",
       "      <th>SmilesRan</th>\n",
       "      <th>Error</th>\n",
       "      <th>Exp_Value</th>\n",
       "      <th>Pred_Value</th>\n",
       "      <th>Exp_Result</th>\n",
       "      <th>Pred_Result</th>\n",
       "      <th>TEST_prediction</th>\n",
       "    </tr>\n",
       "    <tr>\n",
       "      <th>ID</th>\n",
       "      <th></th>\n",
       "      <th></th>\n",
       "      <th></th>\n",
       "      <th></th>\n",
       "      <th></th>\n",
       "      <th></th>\n",
       "      <th></th>\n",
       "      <th></th>\n",
       "      <th></th>\n",
       "    </tr>\n",
       "  </thead>\n",
       "  <tbody>\n",
       "    <tr>\n",
       "      <th>DTXSID2020004</th>\n",
       "      <td>1</td>\n",
       "      <td>DTXSID2020004</td>\n",
       "      <td>ON=CC</td>\n",
       "      <td>NaN</td>\n",
       "      <td>1.0</td>\n",
       "      <td>0.70</td>\n",
       "      <td>Mutagenicity Positive</td>\n",
       "      <td>Mutagenicity Positive</td>\n",
       "      <td>1.0</td>\n",
       "    </tr>\n",
       "    <tr>\n",
       "      <th>DTXSID7020005</th>\n",
       "      <td>2</td>\n",
       "      <td>DTXSID7020005</td>\n",
       "      <td>O=C(N)C</td>\n",
       "      <td>NaN</td>\n",
       "      <td>0.0</td>\n",
       "      <td>-0.04</td>\n",
       "      <td>Mutagenicity Negative</td>\n",
       "      <td>Mutagenicity Negative</td>\n",
       "      <td>0.0</td>\n",
       "    </tr>\n",
       "    <tr>\n",
       "      <th>DTXSID2020006</th>\n",
       "      <td>3</td>\n",
       "      <td>DTXSID2020006</td>\n",
       "      <td>O=C(NC1=CC=C(O)C=C1)C</td>\n",
       "      <td>NaN</td>\n",
       "      <td>0.0</td>\n",
       "      <td>0.28</td>\n",
       "      <td>Mutagenicity Negative</td>\n",
       "      <td>Mutagenicity Negative</td>\n",
       "      <td>0.0</td>\n",
       "    </tr>\n",
       "    <tr>\n",
       "      <th>DTXSID7020009</th>\n",
       "      <td>4</td>\n",
       "      <td>DTXSID7020009</td>\n",
       "      <td>N#CC</td>\n",
       "      <td>NaN</td>\n",
       "      <td>0.0</td>\n",
       "      <td>0.04</td>\n",
       "      <td>Mutagenicity Negative</td>\n",
       "      <td>Mutagenicity Negative</td>\n",
       "      <td>0.0</td>\n",
       "    </tr>\n",
       "    <tr>\n",
       "      <th>DTXSID6020010</th>\n",
       "      <td>5</td>\n",
       "      <td>DTXSID6020010</td>\n",
       "      <td>ON=C(C)C</td>\n",
       "      <td>NaN</td>\n",
       "      <td>NaN</td>\n",
       "      <td>0.44</td>\n",
       "      <td>NaN</td>\n",
       "      <td>Mutagenicity Negative</td>\n",
       "      <td>0.0</td>\n",
       "    </tr>\n",
       "  </tbody>\n",
       "</table>\n",
       "</div>"
      ],
      "text/plain": [
       "               Index          Query              SmilesRan Error  Exp_Value  \\\n",
       "ID                                                                            \n",
       "DTXSID2020004      1  DTXSID2020004                  ON=CC   NaN        1.0   \n",
       "DTXSID7020005      2  DTXSID7020005                O=C(N)C   NaN        0.0   \n",
       "DTXSID2020006      3  DTXSID2020006  O=C(NC1=CC=C(O)C=C1)C   NaN        0.0   \n",
       "DTXSID7020009      4  DTXSID7020009                   N#CC   NaN        0.0   \n",
       "DTXSID6020010      5  DTXSID6020010               ON=C(C)C   NaN        NaN   \n",
       "\n",
       "               Pred_Value             Exp_Result            Pred_Result  \\\n",
       "ID                                                                        \n",
       "DTXSID2020004        0.70  Mutagenicity Positive  Mutagenicity Positive   \n",
       "DTXSID7020005       -0.04  Mutagenicity Negative  Mutagenicity Negative   \n",
       "DTXSID2020006        0.28  Mutagenicity Negative  Mutagenicity Negative   \n",
       "DTXSID7020009        0.04  Mutagenicity Negative  Mutagenicity Negative   \n",
       "DTXSID6020010        0.44                    NaN  Mutagenicity Negative   \n",
       "\n",
       "               TEST_prediction  \n",
       "ID                              \n",
       "DTXSID2020004              1.0  \n",
       "DTXSID7020005              0.0  \n",
       "DTXSID2020006              0.0  \n",
       "DTXSID7020009              0.0  \n",
       "DTXSID6020010              0.0  "
      ]
     },
     "execution_count": 21,
     "metadata": {},
     "output_type": "execute_result"
    }
   ],
   "source": [
    "df_test.head()"
   ]
  },
  {
   "cell_type": "code",
   "execution_count": 13,
   "metadata": {},
   "outputs": [],
   "source": [
    "import glob"
   ]
  },
  {
   "cell_type": "code",
   "execution_count": 17,
   "metadata": {},
   "outputs": [],
   "source": [
    "test_redone = glob.glob(processed_dir+'TEST_errors_out*.csv')"
   ]
  },
  {
   "cell_type": "code",
   "execution_count": 18,
   "metadata": {},
   "outputs": [],
   "source": [
    "test_redone.sort()"
   ]
  },
  {
   "cell_type": "code",
   "execution_count": 20,
   "metadata": {},
   "outputs": [
    {
     "data": {
      "text/plain": [
       "['/home/grace/Documents/python/genetox_tsca/data/processed/TEST_errors_out1.csv',\n",
       " '/home/grace/Documents/python/genetox_tsca/data/processed/TEST_errors_out2.csv',\n",
       " '/home/grace/Documents/python/genetox_tsca/data/processed/TEST_errors_out3.csv',\n",
       " '/home/grace/Documents/python/genetox_tsca/data/processed/TEST_errors_out4.csv',\n",
       " '/home/grace/Documents/python/genetox_tsca/data/processed/TEST_errors_out5.csv',\n",
       " '/home/grace/Documents/python/genetox_tsca/data/processed/TEST_errors_out6.csv',\n",
       " '/home/grace/Documents/python/genetox_tsca/data/processed/TEST_errors_out7.csv',\n",
       " '/home/grace/Documents/python/genetox_tsca/data/processed/TEST_errors_out8.csv',\n",
       " '/home/grace/Documents/python/genetox_tsca/data/processed/TEST_errors_out9.csv']"
      ]
     },
     "execution_count": 20,
     "metadata": {},
     "output_type": "execute_result"
    }
   ],
   "source": [
    "test_redone"
   ]
  },
  {
   "cell_type": "code",
   "execution_count": 21,
   "metadata": {},
   "outputs": [],
   "source": [
    "all_data = pd.DataFrame()\n",
    "for f in test_redone:\n",
    "    df = pd.read_csv(f)\n",
    "    all_data = all_data.append(df, ignore_index = True)"
   ]
  },
  {
   "cell_type": "code",
   "execution_count": 22,
   "metadata": {},
   "outputs": [
    {
     "data": {
      "text/html": [
       "<div>\n",
       "<style scoped>\n",
       "    .dataframe tbody tr th:only-of-type {\n",
       "        vertical-align: middle;\n",
       "    }\n",
       "\n",
       "    .dataframe tbody tr th {\n",
       "        vertical-align: top;\n",
       "    }\n",
       "\n",
       "    .dataframe thead th {\n",
       "        text-align: right;\n",
       "    }\n",
       "</style>\n",
       "<table border=\"1\" class=\"dataframe\">\n",
       "  <thead>\n",
       "    <tr style=\"text-align: right;\">\n",
       "      <th></th>\n",
       "      <th>Index</th>\n",
       "      <th>ID</th>\n",
       "      <th>Query</th>\n",
       "      <th>SmilesRan</th>\n",
       "      <th>Error</th>\n",
       "      <th>Exp_Value</th>\n",
       "      <th>Pred_Value</th>\n",
       "      <th>Exp_Result</th>\n",
       "      <th>Pred_Result</th>\n",
       "    </tr>\n",
       "  </thead>\n",
       "  <tbody>\n",
       "    <tr>\n",
       "      <th>0</th>\n",
       "      <td>1</td>\n",
       "      <td>7575-35-1</td>\n",
       "      <td>7575-35-1</td>\n",
       "      <td>OCCN(C1=CC=C(N)C=C1)CCO</td>\n",
       "      <td>NaN</td>\n",
       "      <td>NaN</td>\n",
       "      <td>0.24</td>\n",
       "      <td>NaN</td>\n",
       "      <td>Mutagenicity Negative</td>\n",
       "    </tr>\n",
       "    <tr>\n",
       "      <th>1</th>\n",
       "      <td>2</td>\n",
       "      <td>77-92-9</td>\n",
       "      <td>77-92-9</td>\n",
       "      <td>O=C(O)CC(O)(C(=O)O)CC(=O)O</td>\n",
       "      <td>NaN</td>\n",
       "      <td>0.0</td>\n",
       "      <td>0.21</td>\n",
       "      <td>Mutagenicity Negative</td>\n",
       "      <td>Mutagenicity Negative</td>\n",
       "    </tr>\n",
       "    <tr>\n",
       "      <th>2</th>\n",
       "      <td>3</td>\n",
       "      <td>62-53-3</td>\n",
       "      <td>62-53-3</td>\n",
       "      <td>NC=1C=CC=CC1</td>\n",
       "      <td>NaN</td>\n",
       "      <td>NaN</td>\n",
       "      <td>0.36</td>\n",
       "      <td>NaN</td>\n",
       "      <td>Mutagenicity Negative</td>\n",
       "    </tr>\n",
       "    <tr>\n",
       "      <th>3</th>\n",
       "      <td>4</td>\n",
       "      <td>104-94-9</td>\n",
       "      <td>104-94-9</td>\n",
       "      <td>O(C1=CC=C(N)C=C1)C</td>\n",
       "      <td>NaN</td>\n",
       "      <td>1.0</td>\n",
       "      <td>0.62</td>\n",
       "      <td>Mutagenicity Positive</td>\n",
       "      <td>Mutagenicity Positive</td>\n",
       "    </tr>\n",
       "    <tr>\n",
       "      <th>4</th>\n",
       "      <td>5</td>\n",
       "      <td>84-65-1</td>\n",
       "      <td>84-65-1</td>\n",
       "      <td>O=C1C=2C=CC=CC2C(=O)C=3C=CC=CC13</td>\n",
       "      <td>NaN</td>\n",
       "      <td>1.0</td>\n",
       "      <td>0.71</td>\n",
       "      <td>Mutagenicity Positive</td>\n",
       "      <td>Mutagenicity Positive</td>\n",
       "    </tr>\n",
       "  </tbody>\n",
       "</table>\n",
       "</div>"
      ],
      "text/plain": [
       "   Index         ID      Query                         SmilesRan Error  \\\n",
       "0      1  7575-35-1  7575-35-1           OCCN(C1=CC=C(N)C=C1)CCO   NaN   \n",
       "1      2    77-92-9    77-92-9        O=C(O)CC(O)(C(=O)O)CC(=O)O   NaN   \n",
       "2      3    62-53-3    62-53-3                      NC=1C=CC=CC1   NaN   \n",
       "3      4   104-94-9   104-94-9                O(C1=CC=C(N)C=C1)C   NaN   \n",
       "4      5    84-65-1    84-65-1  O=C1C=2C=CC=CC2C(=O)C=3C=CC=CC13   NaN   \n",
       "\n",
       "   Exp_Value  Pred_Value             Exp_Result            Pred_Result  \n",
       "0        NaN        0.24                    NaN  Mutagenicity Negative  \n",
       "1        0.0        0.21  Mutagenicity Negative  Mutagenicity Negative  \n",
       "2        NaN        0.36                    NaN  Mutagenicity Negative  \n",
       "3        1.0        0.62  Mutagenicity Positive  Mutagenicity Positive  \n",
       "4        1.0        0.71  Mutagenicity Positive  Mutagenicity Positive  "
      ]
     },
     "execution_count": 22,
     "metadata": {},
     "output_type": "execute_result"
    }
   ],
   "source": [
    "all_data.head()"
   ]
  },
  {
   "cell_type": "code",
   "execution_count": 102,
   "metadata": {},
   "outputs": [],
   "source": [
    "#pd.read_csv('TEST_errors_out1.csv').head()"
   ]
  },
  {
   "cell_type": "code",
   "execution_count": 29,
   "metadata": {},
   "outputs": [],
   "source": [
    "test_redone_df = pd.concat([test_missing_smi, all_data], axis = 1)"
   ]
  },
  {
   "cell_type": "code",
   "execution_count": 30,
   "metadata": {},
   "outputs": [
    {
     "data": {
      "text/html": [
       "<div>\n",
       "<style scoped>\n",
       "    .dataframe tbody tr th:only-of-type {\n",
       "        vertical-align: middle;\n",
       "    }\n",
       "\n",
       "    .dataframe tbody tr th {\n",
       "        vertical-align: top;\n",
       "    }\n",
       "\n",
       "    .dataframe thead th {\n",
       "        text-align: right;\n",
       "    }\n",
       "</style>\n",
       "<table border=\"1\" class=\"dataframe\">\n",
       "  <thead>\n",
       "    <tr style=\"text-align: right;\">\n",
       "      <th></th>\n",
       "      <th>INPUT</th>\n",
       "      <th>QSAR_READY_SMILES</th>\n",
       "      <th>Index</th>\n",
       "      <th>ID</th>\n",
       "      <th>Query</th>\n",
       "      <th>SmilesRan</th>\n",
       "      <th>Error</th>\n",
       "      <th>Exp_Value</th>\n",
       "      <th>Pred_Value</th>\n",
       "      <th>Exp_Result</th>\n",
       "      <th>Pred_Result</th>\n",
       "    </tr>\n",
       "  </thead>\n",
       "  <tbody>\n",
       "    <tr>\n",
       "      <th>0</th>\n",
       "      <td>DTXSID5020075</td>\n",
       "      <td>NC1=CC=C(C=C1)N(CCO)CCO</td>\n",
       "      <td>1</td>\n",
       "      <td>7575-35-1</td>\n",
       "      <td>7575-35-1</td>\n",
       "      <td>OCCN(C1=CC=C(N)C=C1)CCO</td>\n",
       "      <td>NaN</td>\n",
       "      <td>NaN</td>\n",
       "      <td>0.24</td>\n",
       "      <td>NaN</td>\n",
       "      <td>Mutagenicity Negative</td>\n",
       "    </tr>\n",
       "    <tr>\n",
       "      <th>1</th>\n",
       "      <td>DTXSID5020079</td>\n",
       "      <td>OC(=O)CC(O)(CC(O)=O)C(O)=O</td>\n",
       "      <td>2</td>\n",
       "      <td>77-92-9</td>\n",
       "      <td>77-92-9</td>\n",
       "      <td>O=C(O)CC(O)(C(=O)O)CC(=O)O</td>\n",
       "      <td>NaN</td>\n",
       "      <td>0.0</td>\n",
       "      <td>0.21</td>\n",
       "      <td>Mutagenicity Negative</td>\n",
       "      <td>Mutagenicity Negative</td>\n",
       "    </tr>\n",
       "    <tr>\n",
       "      <th>2</th>\n",
       "      <td>DTXSID3020091</td>\n",
       "      <td>NC1=CC=CC=C1</td>\n",
       "      <td>3</td>\n",
       "      <td>62-53-3</td>\n",
       "      <td>62-53-3</td>\n",
       "      <td>NC=1C=CC=CC1</td>\n",
       "      <td>NaN</td>\n",
       "      <td>NaN</td>\n",
       "      <td>0.36</td>\n",
       "      <td>NaN</td>\n",
       "      <td>Mutagenicity Negative</td>\n",
       "    </tr>\n",
       "    <tr>\n",
       "      <th>3</th>\n",
       "      <td>DTXSID3020093</td>\n",
       "      <td>COC1=CC=C(N)C=C1</td>\n",
       "      <td>4</td>\n",
       "      <td>104-94-9</td>\n",
       "      <td>104-94-9</td>\n",
       "      <td>O(C1=CC=C(N)C=C1)C</td>\n",
       "      <td>NaN</td>\n",
       "      <td>1.0</td>\n",
       "      <td>0.62</td>\n",
       "      <td>Mutagenicity Positive</td>\n",
       "      <td>Mutagenicity Positive</td>\n",
       "    </tr>\n",
       "    <tr>\n",
       "      <th>4</th>\n",
       "      <td>DTXSID3020095</td>\n",
       "      <td>O=C1C2=C(C=CC=C2)C(=O)C2=C1C=CC=C2</td>\n",
       "      <td>5</td>\n",
       "      <td>84-65-1</td>\n",
       "      <td>84-65-1</td>\n",
       "      <td>O=C1C=2C=CC=CC2C(=O)C=3C=CC=CC13</td>\n",
       "      <td>NaN</td>\n",
       "      <td>1.0</td>\n",
       "      <td>0.71</td>\n",
       "      <td>Mutagenicity Positive</td>\n",
       "      <td>Mutagenicity Positive</td>\n",
       "    </tr>\n",
       "  </tbody>\n",
       "</table>\n",
       "</div>"
      ],
      "text/plain": [
       "           INPUT                   QSAR_READY_SMILES  Index         ID  \\\n",
       "0  DTXSID5020075             NC1=CC=C(C=C1)N(CCO)CCO      1  7575-35-1   \n",
       "1  DTXSID5020079          OC(=O)CC(O)(CC(O)=O)C(O)=O      2    77-92-9   \n",
       "2  DTXSID3020091                        NC1=CC=CC=C1      3    62-53-3   \n",
       "3  DTXSID3020093                    COC1=CC=C(N)C=C1      4   104-94-9   \n",
       "4  DTXSID3020095  O=C1C2=C(C=CC=C2)C(=O)C2=C1C=CC=C2      5    84-65-1   \n",
       "\n",
       "       Query                         SmilesRan Error  Exp_Value  Pred_Value  \\\n",
       "0  7575-35-1           OCCN(C1=CC=C(N)C=C1)CCO   NaN        NaN        0.24   \n",
       "1    77-92-9        O=C(O)CC(O)(C(=O)O)CC(=O)O   NaN        0.0        0.21   \n",
       "2    62-53-3                      NC=1C=CC=CC1   NaN        NaN        0.36   \n",
       "3   104-94-9                O(C1=CC=C(N)C=C1)C   NaN        1.0        0.62   \n",
       "4    84-65-1  O=C1C=2C=CC=CC2C(=O)C=3C=CC=CC13   NaN        1.0        0.71   \n",
       "\n",
       "              Exp_Result            Pred_Result  \n",
       "0                    NaN  Mutagenicity Negative  \n",
       "1  Mutagenicity Negative  Mutagenicity Negative  \n",
       "2                    NaN  Mutagenicity Negative  \n",
       "3  Mutagenicity Positive  Mutagenicity Positive  \n",
       "4  Mutagenicity Positive  Mutagenicity Positive  "
      ]
     },
     "execution_count": 30,
     "metadata": {},
     "output_type": "execute_result"
    }
   ],
   "source": [
    "test_redone_df.head()"
   ]
  },
  {
   "cell_type": "code",
   "execution_count": 31,
   "metadata": {},
   "outputs": [
    {
     "data": {
      "text/plain": [
       "array([nan, 'FindPaths', 'Molecule contains unsupported element',\n",
       "       'Only one nonhydrogen atom', 'FindRings'], dtype=object)"
      ]
     },
     "execution_count": 31,
     "metadata": {},
     "output_type": "execute_result"
    }
   ],
   "source": [
    "test_redone_df['Error'].unique()"
   ]
  },
  {
   "cell_type": "code",
   "execution_count": 32,
   "metadata": {},
   "outputs": [],
   "source": [
    "test_redone_df['TEST_prediction'] = test_redone_df.apply(lambda x : 1 if x['Pred_Value'] >=0.5 else (np.nan if x['Error'] in ['Multiple molecules', 'FindPaths',\n",
    "       'Molecule contains unsupported element',\n",
    "       'Molecule does not contain carbon', 'Only one nonhydrogen atom',\n",
    "       'FindRings'] else 0), axis = 1)"
   ]
  },
  {
   "cell_type": "code",
   "execution_count": 33,
   "metadata": {},
   "outputs": [
    {
     "data": {
      "text/html": [
       "<div>\n",
       "<style scoped>\n",
       "    .dataframe tbody tr th:only-of-type {\n",
       "        vertical-align: middle;\n",
       "    }\n",
       "\n",
       "    .dataframe tbody tr th {\n",
       "        vertical-align: top;\n",
       "    }\n",
       "\n",
       "    .dataframe thead th {\n",
       "        text-align: right;\n",
       "    }\n",
       "</style>\n",
       "<table border=\"1\" class=\"dataframe\">\n",
       "  <thead>\n",
       "    <tr style=\"text-align: right;\">\n",
       "      <th></th>\n",
       "      <th>INPUT</th>\n",
       "      <th>QSAR_READY_SMILES</th>\n",
       "      <th>Index</th>\n",
       "      <th>ID</th>\n",
       "      <th>Query</th>\n",
       "      <th>SmilesRan</th>\n",
       "      <th>Error</th>\n",
       "      <th>Exp_Value</th>\n",
       "      <th>Pred_Value</th>\n",
       "      <th>Exp_Result</th>\n",
       "      <th>Pred_Result</th>\n",
       "      <th>TEST_prediction</th>\n",
       "    </tr>\n",
       "  </thead>\n",
       "  <tbody>\n",
       "    <tr>\n",
       "      <th>0</th>\n",
       "      <td>DTXSID5020075</td>\n",
       "      <td>NC1=CC=C(C=C1)N(CCO)CCO</td>\n",
       "      <td>1</td>\n",
       "      <td>7575-35-1</td>\n",
       "      <td>7575-35-1</td>\n",
       "      <td>OCCN(C1=CC=C(N)C=C1)CCO</td>\n",
       "      <td>NaN</td>\n",
       "      <td>NaN</td>\n",
       "      <td>0.24</td>\n",
       "      <td>NaN</td>\n",
       "      <td>Mutagenicity Negative</td>\n",
       "      <td>0.0</td>\n",
       "    </tr>\n",
       "    <tr>\n",
       "      <th>1</th>\n",
       "      <td>DTXSID5020079</td>\n",
       "      <td>OC(=O)CC(O)(CC(O)=O)C(O)=O</td>\n",
       "      <td>2</td>\n",
       "      <td>77-92-9</td>\n",
       "      <td>77-92-9</td>\n",
       "      <td>O=C(O)CC(O)(C(=O)O)CC(=O)O</td>\n",
       "      <td>NaN</td>\n",
       "      <td>0.0</td>\n",
       "      <td>0.21</td>\n",
       "      <td>Mutagenicity Negative</td>\n",
       "      <td>Mutagenicity Negative</td>\n",
       "      <td>0.0</td>\n",
       "    </tr>\n",
       "    <tr>\n",
       "      <th>2</th>\n",
       "      <td>DTXSID3020091</td>\n",
       "      <td>NC1=CC=CC=C1</td>\n",
       "      <td>3</td>\n",
       "      <td>62-53-3</td>\n",
       "      <td>62-53-3</td>\n",
       "      <td>NC=1C=CC=CC1</td>\n",
       "      <td>NaN</td>\n",
       "      <td>NaN</td>\n",
       "      <td>0.36</td>\n",
       "      <td>NaN</td>\n",
       "      <td>Mutagenicity Negative</td>\n",
       "      <td>0.0</td>\n",
       "    </tr>\n",
       "    <tr>\n",
       "      <th>3</th>\n",
       "      <td>DTXSID3020093</td>\n",
       "      <td>COC1=CC=C(N)C=C1</td>\n",
       "      <td>4</td>\n",
       "      <td>104-94-9</td>\n",
       "      <td>104-94-9</td>\n",
       "      <td>O(C1=CC=C(N)C=C1)C</td>\n",
       "      <td>NaN</td>\n",
       "      <td>1.0</td>\n",
       "      <td>0.62</td>\n",
       "      <td>Mutagenicity Positive</td>\n",
       "      <td>Mutagenicity Positive</td>\n",
       "      <td>1.0</td>\n",
       "    </tr>\n",
       "    <tr>\n",
       "      <th>4</th>\n",
       "      <td>DTXSID3020095</td>\n",
       "      <td>O=C1C2=C(C=CC=C2)C(=O)C2=C1C=CC=C2</td>\n",
       "      <td>5</td>\n",
       "      <td>84-65-1</td>\n",
       "      <td>84-65-1</td>\n",
       "      <td>O=C1C=2C=CC=CC2C(=O)C=3C=CC=CC13</td>\n",
       "      <td>NaN</td>\n",
       "      <td>1.0</td>\n",
       "      <td>0.71</td>\n",
       "      <td>Mutagenicity Positive</td>\n",
       "      <td>Mutagenicity Positive</td>\n",
       "      <td>1.0</td>\n",
       "    </tr>\n",
       "  </tbody>\n",
       "</table>\n",
       "</div>"
      ],
      "text/plain": [
       "           INPUT                   QSAR_READY_SMILES  Index         ID  \\\n",
       "0  DTXSID5020075             NC1=CC=C(C=C1)N(CCO)CCO      1  7575-35-1   \n",
       "1  DTXSID5020079          OC(=O)CC(O)(CC(O)=O)C(O)=O      2    77-92-9   \n",
       "2  DTXSID3020091                        NC1=CC=CC=C1      3    62-53-3   \n",
       "3  DTXSID3020093                    COC1=CC=C(N)C=C1      4   104-94-9   \n",
       "4  DTXSID3020095  O=C1C2=C(C=CC=C2)C(=O)C2=C1C=CC=C2      5    84-65-1   \n",
       "\n",
       "       Query                         SmilesRan Error  Exp_Value  Pred_Value  \\\n",
       "0  7575-35-1           OCCN(C1=CC=C(N)C=C1)CCO   NaN        NaN        0.24   \n",
       "1    77-92-9        O=C(O)CC(O)(C(=O)O)CC(=O)O   NaN        0.0        0.21   \n",
       "2    62-53-3                      NC=1C=CC=CC1   NaN        NaN        0.36   \n",
       "3   104-94-9                O(C1=CC=C(N)C=C1)C   NaN        1.0        0.62   \n",
       "4    84-65-1  O=C1C=2C=CC=CC2C(=O)C=3C=CC=CC13   NaN        1.0        0.71   \n",
       "\n",
       "              Exp_Result            Pred_Result  TEST_prediction  \n",
       "0                    NaN  Mutagenicity Negative              0.0  \n",
       "1  Mutagenicity Negative  Mutagenicity Negative              0.0  \n",
       "2                    NaN  Mutagenicity Negative              0.0  \n",
       "3  Mutagenicity Positive  Mutagenicity Positive              1.0  \n",
       "4  Mutagenicity Positive  Mutagenicity Positive              1.0  "
      ]
     },
     "execution_count": 33,
     "metadata": {},
     "output_type": "execute_result"
    }
   ],
   "source": [
    "test_redone_df.head()"
   ]
  },
  {
   "cell_type": "code",
   "execution_count": 34,
   "metadata": {},
   "outputs": [
    {
     "data": {
      "text/plain": [
       "Index(['INPUT', 'QSAR_READY_SMILES', 'Index', 'ID', 'Query', 'SmilesRan',\n",
       "       'Error', 'Exp_Value', 'Pred_Value', 'Exp_Result', 'Pred_Result',\n",
       "       'TEST_prediction'],\n",
       "      dtype='object')"
      ]
     },
     "execution_count": 34,
     "metadata": {},
     "output_type": "execute_result"
    }
   ],
   "source": [
    "test_redone_df.columns"
   ]
  },
  {
   "cell_type": "code",
   "execution_count": 35,
   "metadata": {},
   "outputs": [],
   "source": [
    "test_redone_df.set_index('INPUT', inplace = True)"
   ]
  },
  {
   "cell_type": "code",
   "execution_count": 36,
   "metadata": {},
   "outputs": [],
   "source": [
    "test_redone_df2 = test_redone_df[['TEST_prediction']]"
   ]
  },
  {
   "cell_type": "code",
   "execution_count": 37,
   "metadata": {},
   "outputs": [
    {
     "data": {
      "text/html": [
       "<div>\n",
       "<style scoped>\n",
       "    .dataframe tbody tr th:only-of-type {\n",
       "        vertical-align: middle;\n",
       "    }\n",
       "\n",
       "    .dataframe tbody tr th {\n",
       "        vertical-align: top;\n",
       "    }\n",
       "\n",
       "    .dataframe thead th {\n",
       "        text-align: right;\n",
       "    }\n",
       "</style>\n",
       "<table border=\"1\" class=\"dataframe\">\n",
       "  <thead>\n",
       "    <tr style=\"text-align: right;\">\n",
       "      <th></th>\n",
       "      <th>TEST_prediction</th>\n",
       "    </tr>\n",
       "    <tr>\n",
       "      <th>INPUT</th>\n",
       "      <th></th>\n",
       "    </tr>\n",
       "  </thead>\n",
       "  <tbody>\n",
       "    <tr>\n",
       "      <th>DTXSID5020075</th>\n",
       "      <td>0.0</td>\n",
       "    </tr>\n",
       "    <tr>\n",
       "      <th>DTXSID5020079</th>\n",
       "      <td>0.0</td>\n",
       "    </tr>\n",
       "    <tr>\n",
       "      <th>DTXSID3020091</th>\n",
       "      <td>0.0</td>\n",
       "    </tr>\n",
       "    <tr>\n",
       "      <th>DTXSID3020093</th>\n",
       "      <td>1.0</td>\n",
       "    </tr>\n",
       "    <tr>\n",
       "      <th>DTXSID3020095</th>\n",
       "      <td>1.0</td>\n",
       "    </tr>\n",
       "  </tbody>\n",
       "</table>\n",
       "</div>"
      ],
      "text/plain": [
       "               TEST_prediction\n",
       "INPUT                         \n",
       "DTXSID5020075              0.0\n",
       "DTXSID5020079              0.0\n",
       "DTXSID3020091              0.0\n",
       "DTXSID3020093              1.0\n",
       "DTXSID3020095              1.0"
      ]
     },
     "execution_count": 37,
     "metadata": {},
     "output_type": "execute_result"
    }
   ],
   "source": [
    "test_redone_df2.head()"
   ]
  },
  {
   "cell_type": "code",
   "execution_count": 38,
   "metadata": {},
   "outputs": [],
   "source": [
    "df_test2 = df_test[['TEST_prediction']]"
   ]
  },
  {
   "cell_type": "code",
   "execution_count": 39,
   "metadata": {},
   "outputs": [
    {
     "data": {
      "text/html": [
       "<div>\n",
       "<style scoped>\n",
       "    .dataframe tbody tr th:only-of-type {\n",
       "        vertical-align: middle;\n",
       "    }\n",
       "\n",
       "    .dataframe tbody tr th {\n",
       "        vertical-align: top;\n",
       "    }\n",
       "\n",
       "    .dataframe thead th {\n",
       "        text-align: right;\n",
       "    }\n",
       "</style>\n",
       "<table border=\"1\" class=\"dataframe\">\n",
       "  <thead>\n",
       "    <tr style=\"text-align: right;\">\n",
       "      <th></th>\n",
       "      <th>TEST_prediction</th>\n",
       "    </tr>\n",
       "    <tr>\n",
       "      <th>ID</th>\n",
       "      <th></th>\n",
       "    </tr>\n",
       "  </thead>\n",
       "  <tbody>\n",
       "    <tr>\n",
       "      <th>DTXSID5020075</th>\n",
       "      <td>NaN</td>\n",
       "    </tr>\n",
       "  </tbody>\n",
       "</table>\n",
       "</div>"
      ],
      "text/plain": [
       "               TEST_prediction\n",
       "ID                            \n",
       "DTXSID5020075              NaN"
      ]
     },
     "execution_count": 39,
     "metadata": {},
     "output_type": "execute_result"
    }
   ],
   "source": [
    "df_test2.head()\n",
    "df_test2[df_test2.index == 'DTXSID5020075']"
   ]
  },
  {
   "cell_type": "code",
   "execution_count": 40,
   "metadata": {},
   "outputs": [],
   "source": [
    "all_test = pd.concat([df_test2, test_redone_df2], axis = 0)"
   ]
  },
  {
   "cell_type": "code",
   "execution_count": 41,
   "metadata": {},
   "outputs": [],
   "source": [
    "all_test_df = all_test.reset_index().drop_duplicates(subset = 'index', keep = 'last')"
   ]
  },
  {
   "cell_type": "code",
   "execution_count": 42,
   "metadata": {},
   "outputs": [
    {
     "data": {
      "text/html": [
       "<div>\n",
       "<style scoped>\n",
       "    .dataframe tbody tr th:only-of-type {\n",
       "        vertical-align: middle;\n",
       "    }\n",
       "\n",
       "    .dataframe tbody tr th {\n",
       "        vertical-align: top;\n",
       "    }\n",
       "\n",
       "    .dataframe thead th {\n",
       "        text-align: right;\n",
       "    }\n",
       "</style>\n",
       "<table border=\"1\" class=\"dataframe\">\n",
       "  <thead>\n",
       "    <tr style=\"text-align: right;\">\n",
       "      <th></th>\n",
       "      <th>index</th>\n",
       "      <th>TEST_prediction</th>\n",
       "    </tr>\n",
       "  </thead>\n",
       "  <tbody>\n",
       "    <tr>\n",
       "      <th>19623</th>\n",
       "      <td>DTXSID5020075</td>\n",
       "      <td>0.0</td>\n",
       "    </tr>\n",
       "  </tbody>\n",
       "</table>\n",
       "</div>"
      ],
      "text/plain": [
       "               index  TEST_prediction\n",
       "19623  DTXSID5020075              0.0"
      ]
     },
     "execution_count": 42,
     "metadata": {},
     "output_type": "execute_result"
    }
   ],
   "source": [
    "all_test_df[all_test_df['index'] == 'DTXSID5020075']"
   ]
  },
  {
   "cell_type": "code",
   "execution_count": 43,
   "metadata": {},
   "outputs": [],
   "source": [
    "all_test_df.set_index('index', inplace = True)"
   ]
  },
  {
   "cell_type": "code",
   "execution_count": 137,
   "metadata": {},
   "outputs": [],
   "source": [
    "\n",
    "\n",
    "# Create a Pandas Excel writer using XlsxWriter as the engine.\n",
    "writer = pd.ExcelWriter(processed_dir+'TEST_genetox_150221.xlsx', engine='xlsxwriter')\n",
    "\n",
    "# Convert the dataframe to an XlsxWriter Excel object.\n",
    "all_test_df.to_excel(writer, sheet_name='TEST_TSCA')\n",
    "\n",
    "# Close the Pandas Excel writer and output the Excel file.\n",
    "writer.save()"
   ]
  },
  {
   "cell_type": "code",
   "execution_count": 23,
   "metadata": {},
   "outputs": [],
   "source": [
    "all_test_df = pd.read_excel(processed_dir+'TEST_genetox_150221.xlsx')"
   ]
  },
  {
   "cell_type": "code",
   "execution_count": 44,
   "metadata": {},
   "outputs": [
    {
     "data": {
      "text/plain": [
       " 0.0    14088\n",
       " 1.0     2802\n",
       "NaN      2733\n",
       "Name: TEST_prediction, dtype: int64"
      ]
     },
     "execution_count": 44,
     "metadata": {},
     "output_type": "execute_result"
    }
   ],
   "source": [
    "all_test_df.TEST_prediction.value_counts(dropna = False)"
   ]
  },
  {
   "cell_type": "code",
   "execution_count": 45,
   "metadata": {},
   "outputs": [],
   "source": [
    "all_test_df['aggregate_study_type'] = 'TEST_Mutagenicity'"
   ]
  },
  {
   "cell_type": "code",
   "execution_count": 46,
   "metadata": {},
   "outputs": [],
   "source": [
    "all_test_df = all_test_df.reset_index()"
   ]
  },
  {
   "cell_type": "code",
   "execution_count": 47,
   "metadata": {},
   "outputs": [],
   "source": [
    "all_test_df.columns = ['DTXSID','assay_outcome', 'aggregate_study_type']"
   ]
  },
  {
   "cell_type": "code",
   "execution_count": 48,
   "metadata": {},
   "outputs": [
    {
     "data": {
      "text/html": [
       "<div>\n",
       "<style scoped>\n",
       "    .dataframe tbody tr th:only-of-type {\n",
       "        vertical-align: middle;\n",
       "    }\n",
       "\n",
       "    .dataframe tbody tr th {\n",
       "        vertical-align: top;\n",
       "    }\n",
       "\n",
       "    .dataframe thead th {\n",
       "        text-align: right;\n",
       "    }\n",
       "</style>\n",
       "<table border=\"1\" class=\"dataframe\">\n",
       "  <thead>\n",
       "    <tr style=\"text-align: right;\">\n",
       "      <th></th>\n",
       "      <th>DTXSID</th>\n",
       "      <th>assay_outcome</th>\n",
       "      <th>aggregate_study_type</th>\n",
       "    </tr>\n",
       "  </thead>\n",
       "  <tbody>\n",
       "    <tr>\n",
       "      <th>0</th>\n",
       "      <td>DTXSID2020004</td>\n",
       "      <td>1.0</td>\n",
       "      <td>TEST_Mutagenicity</td>\n",
       "    </tr>\n",
       "    <tr>\n",
       "      <th>1</th>\n",
       "      <td>DTXSID7020005</td>\n",
       "      <td>0.0</td>\n",
       "      <td>TEST_Mutagenicity</td>\n",
       "    </tr>\n",
       "    <tr>\n",
       "      <th>2</th>\n",
       "      <td>DTXSID2020006</td>\n",
       "      <td>0.0</td>\n",
       "      <td>TEST_Mutagenicity</td>\n",
       "    </tr>\n",
       "    <tr>\n",
       "      <th>3</th>\n",
       "      <td>DTXSID7020009</td>\n",
       "      <td>0.0</td>\n",
       "      <td>TEST_Mutagenicity</td>\n",
       "    </tr>\n",
       "    <tr>\n",
       "      <th>4</th>\n",
       "      <td>DTXSID6020010</td>\n",
       "      <td>0.0</td>\n",
       "      <td>TEST_Mutagenicity</td>\n",
       "    </tr>\n",
       "  </tbody>\n",
       "</table>\n",
       "</div>"
      ],
      "text/plain": [
       "          DTXSID  assay_outcome aggregate_study_type\n",
       "0  DTXSID2020004            1.0    TEST_Mutagenicity\n",
       "1  DTXSID7020005            0.0    TEST_Mutagenicity\n",
       "2  DTXSID2020006            0.0    TEST_Mutagenicity\n",
       "3  DTXSID7020009            0.0    TEST_Mutagenicity\n",
       "4  DTXSID6020010            0.0    TEST_Mutagenicity"
      ]
     },
     "execution_count": 48,
     "metadata": {},
     "output_type": "execute_result"
    }
   ],
   "source": [
    "all_test_df.head()"
   ]
  },
  {
   "cell_type": "markdown",
   "metadata": {},
   "source": [
    "#### Processing OECD Toolbox predictions"
   ]
  },
  {
   "cell_type": "code",
   "execution_count": 49,
   "metadata": {},
   "outputs": [],
   "source": [
    "df_oecd = pd.read_excel(processed_dir+'TSCA_genetox_TB_out.xlsx')"
   ]
  },
  {
   "cell_type": "code",
   "execution_count": 50,
   "metadata": {},
   "outputs": [
    {
     "data": {
      "text/plain": [
       "(19251, 11)"
      ]
     },
     "execution_count": 50,
     "metadata": {},
     "output_type": "execute_result"
    }
   ],
   "source": [
    "df_oecd.shape"
   ]
  },
  {
   "cell_type": "code",
   "execution_count": 51,
   "metadata": {},
   "outputs": [],
   "source": [
    "import re\n",
    "p = re.compile(r'DTXSID\\d{1,}')"
   ]
  },
  {
   "cell_type": "code",
   "execution_count": 52,
   "metadata": {},
   "outputs": [],
   "source": [
    "dtxsid = [m.group(0) for l in df_oecd['Chemical name(s)'] for m in [p.search(l)] if m]"
   ]
  },
  {
   "cell_type": "code",
   "execution_count": 53,
   "metadata": {},
   "outputs": [
    {
     "data": {
      "text/plain": [
       "19251"
      ]
     },
     "execution_count": 53,
     "metadata": {},
     "output_type": "execute_result"
    }
   ],
   "source": [
    "len(dtxsid)"
   ]
  },
  {
   "cell_type": "code",
   "execution_count": 54,
   "metadata": {},
   "outputs": [],
   "source": [
    "df_oecd['dtxsid'] = dtxsid"
   ]
  },
  {
   "cell_type": "code",
   "execution_count": 55,
   "metadata": {},
   "outputs": [
    {
     "data": {
      "text/plain": [
       "Index(['Chemical name(s)',\n",
       "       'Carcinogenicity (genotox and nongenotox) alerts by ISS',\n",
       "       'DNA alerts for AMES, CA and MNT by OASIS', 'DNA binding by OASIS',\n",
       "       'DNA binding by OECD', 'Oncologic Primary Classification',\n",
       "       'Protein binding alerts for Chromosomal aberration by OASIS',\n",
       "       'Protein binding by OASIS', 'Protein binding by OECD',\n",
       "       'in vitro mutagenicity (Ames test) alerts by ISS',\n",
       "       'in vivo mutagenicity (Micronucleus) alerts by ISS', 'dtxsid'],\n",
       "      dtype='object')"
      ]
     },
     "execution_count": 55,
     "metadata": {},
     "output_type": "execute_result"
    }
   ],
   "source": [
    "df_oecd.columns"
   ]
  },
  {
   "cell_type": "code",
   "execution_count": 56,
   "metadata": {},
   "outputs": [],
   "source": [
    "df_oecd = df_oecd[['dtxsid','Carcinogenicity (genotox and nongenotox) alerts by ISS',\n",
    "       'DNA alerts for AMES, CA and MNT by OASIS', 'DNA binding by OASIS',\n",
    "       'DNA binding by OECD', 'Oncologic Primary Classification',\n",
    "       'Protein binding alerts for Chromosomal aberration by OASIS',\n",
    "       'Protein binding by OASIS', 'Protein binding by OECD',\n",
    "       'in vitro mutagenicity (Ames test) alerts by ISS',\n",
    "       'in vivo mutagenicity (Micronucleus) alerts by ISS']]"
   ]
  },
  {
   "cell_type": "code",
   "execution_count": 57,
   "metadata": {},
   "outputs": [],
   "source": [
    "df_oecd.rename(columns = {'Carcinogenicity (genotox and nongenotox) alerts by ISS': 'Carc_ISS',\n",
    "       'DNA alerts for AMES, CA and MNT by OASIS': 'DNA_Ames_CA_MNT_OASIS', 'DNA binding by OASIS': 'DNA_binding_OASIS',\n",
    "       'DNA binding by OECD': 'DNA_binding_OECD', 'Oncologic Primary Classification': 'Oncologic',\n",
    "       'Protein binding alerts for Chromosomal aberration by OASIS': 'Protein_binding_CA_OASIS',\n",
    "       'Protein binding by OASIS': 'Protein_binding_OASIS', 'Protein binding by OECD': 'Protein_binding_OECD',\n",
    "       'in vitro mutagenicity (Ames test) alerts by ISS': 'Ames_ISS',\n",
    "       'in vivo mutagenicity (Micronucleus) alerts by ISS': 'MNT_ISS'}, inplace = True)"
   ]
  },
  {
   "cell_type": "code",
   "execution_count": 58,
   "metadata": {},
   "outputs": [],
   "source": [
    "df_oecd_numeric = df_oecd.copy()"
   ]
  },
  {
   "cell_type": "code",
   "execution_count": 59,
   "metadata": {},
   "outputs": [],
   "source": [
    "df_oecd_numeric.replace({'No alert found' :0, 'N/A': np.nan, 'Not classified' : 0}, inplace = True)"
   ]
  },
  {
   "cell_type": "code",
   "execution_count": 60,
   "metadata": {},
   "outputs": [],
   "source": [
    "df_oecd_numeric.set_index('dtxsid', inplace = True)"
   ]
  },
  {
   "cell_type": "code",
   "execution_count": 61,
   "metadata": {},
   "outputs": [],
   "source": [
    "df_oecd_numeric.replace({'\\w+':1}, regex = True, inplace = True)"
   ]
  },
  {
   "cell_type": "code",
   "execution_count": 61,
   "metadata": {},
   "outputs": [],
   "source": [
    "\n",
    "\n",
    "\n",
    "# Create a Pandas Excel writer using XlsxWriter as the engine.\n",
    "writer = pd.ExcelWriter(processed_dir+'OECD_Toolbox_genetox_150221.xlsx', engine='xlsxwriter')\n",
    "\n",
    "# Convert the dataframe to an XlsxWriter Excel object.\n",
    "df_oecd_numeric.to_excel(writer, sheet_name='OECD_numeric_TSCA')\n",
    "df_oecd.to_excel(writer, sheet_name='OECD_TSCA')\n",
    "\n",
    "# Close the Pandas Excel writer and output the Excel file.\n",
    "writer.save()"
   ]
  },
  {
   "cell_type": "code",
   "execution_count": 26,
   "metadata": {},
   "outputs": [],
   "source": [
    "oecd = pd.read_excel(processed_dir+'OECD_Toolbox_genetox_150221.xlsx', sheet_name = 'OECD_numeric_TSCA')"
   ]
  },
  {
   "cell_type": "code",
   "execution_count": 28,
   "metadata": {},
   "outputs": [
    {
     "data": {
      "text/html": [
       "<div>\n",
       "<style scoped>\n",
       "    .dataframe tbody tr th:only-of-type {\n",
       "        vertical-align: middle;\n",
       "    }\n",
       "\n",
       "    .dataframe tbody tr th {\n",
       "        vertical-align: top;\n",
       "    }\n",
       "\n",
       "    .dataframe thead th {\n",
       "        text-align: right;\n",
       "    }\n",
       "</style>\n",
       "<table border=\"1\" class=\"dataframe\">\n",
       "  <thead>\n",
       "    <tr style=\"text-align: right;\">\n",
       "      <th></th>\n",
       "      <th>dtxsid</th>\n",
       "      <th>Carc_ISS</th>\n",
       "      <th>DNA_Ames_CA_MNT_OASIS</th>\n",
       "      <th>DNA_binding_OASIS</th>\n",
       "      <th>DNA_binding_OECD</th>\n",
       "      <th>Oncologic</th>\n",
       "      <th>Protein_binding_CA_OASIS</th>\n",
       "      <th>Protein_binding_OASIS</th>\n",
       "      <th>Protein_binding_OECD</th>\n",
       "      <th>Ames_ISS</th>\n",
       "      <th>MNT_ISS</th>\n",
       "    </tr>\n",
       "  </thead>\n",
       "  <tbody>\n",
       "    <tr>\n",
       "      <th>0</th>\n",
       "      <td>DTXSID2020004</td>\n",
       "      <td>0</td>\n",
       "      <td>0</td>\n",
       "      <td>0</td>\n",
       "      <td>0</td>\n",
       "      <td>1</td>\n",
       "      <td>0</td>\n",
       "      <td>0</td>\n",
       "      <td>0</td>\n",
       "      <td>0</td>\n",
       "      <td>0</td>\n",
       "    </tr>\n",
       "    <tr>\n",
       "      <th>1</th>\n",
       "      <td>DTXSID7020005</td>\n",
       "      <td>0</td>\n",
       "      <td>0</td>\n",
       "      <td>0</td>\n",
       "      <td>0</td>\n",
       "      <td>0</td>\n",
       "      <td>0</td>\n",
       "      <td>0</td>\n",
       "      <td>0</td>\n",
       "      <td>0</td>\n",
       "      <td>0</td>\n",
       "    </tr>\n",
       "    <tr>\n",
       "      <th>2</th>\n",
       "      <td>DTXSID2020006</td>\n",
       "      <td>1</td>\n",
       "      <td>0</td>\n",
       "      <td>0</td>\n",
       "      <td>0</td>\n",
       "      <td>1</td>\n",
       "      <td>1</td>\n",
       "      <td>0</td>\n",
       "      <td>1</td>\n",
       "      <td>1</td>\n",
       "      <td>1</td>\n",
       "    </tr>\n",
       "    <tr>\n",
       "      <th>3</th>\n",
       "      <td>DTXSID7020009</td>\n",
       "      <td>0</td>\n",
       "      <td>0</td>\n",
       "      <td>0</td>\n",
       "      <td>0</td>\n",
       "      <td>0</td>\n",
       "      <td>0</td>\n",
       "      <td>0</td>\n",
       "      <td>0</td>\n",
       "      <td>0</td>\n",
       "      <td>0</td>\n",
       "    </tr>\n",
       "    <tr>\n",
       "      <th>4</th>\n",
       "      <td>DTXSID6020010</td>\n",
       "      <td>0</td>\n",
       "      <td>0</td>\n",
       "      <td>0</td>\n",
       "      <td>0</td>\n",
       "      <td>1</td>\n",
       "      <td>0</td>\n",
       "      <td>0</td>\n",
       "      <td>0</td>\n",
       "      <td>0</td>\n",
       "      <td>0</td>\n",
       "    </tr>\n",
       "  </tbody>\n",
       "</table>\n",
       "</div>"
      ],
      "text/plain": [
       "          dtxsid  Carc_ISS  DNA_Ames_CA_MNT_OASIS  DNA_binding_OASIS  \\\n",
       "0  DTXSID2020004         0                      0                  0   \n",
       "1  DTXSID7020005         0                      0                  0   \n",
       "2  DTXSID2020006         1                      0                  0   \n",
       "3  DTXSID7020009         0                      0                  0   \n",
       "4  DTXSID6020010         0                      0                  0   \n",
       "\n",
       "   DNA_binding_OECD  Oncologic  Protein_binding_CA_OASIS  \\\n",
       "0                 0          1                         0   \n",
       "1                 0          0                         0   \n",
       "2                 0          1                         1   \n",
       "3                 0          0                         0   \n",
       "4                 0          1                         0   \n",
       "\n",
       "   Protein_binding_OASIS  Protein_binding_OECD  Ames_ISS  MNT_ISS  \n",
       "0                      0                     0         0        0  \n",
       "1                      0                     0         0        0  \n",
       "2                      0                     1         1        1  \n",
       "3                      0                     0         0        0  \n",
       "4                      0                     0         0        0  "
      ]
     },
     "execution_count": 28,
     "metadata": {},
     "output_type": "execute_result"
    }
   ],
   "source": [
    "oecd.head()"
   ]
  },
  {
   "cell_type": "code",
   "execution_count": 62,
   "metadata": {},
   "outputs": [],
   "source": [
    "#oecd = df_oecd_numeric.reset_index()"
   ]
  },
  {
   "cell_type": "code",
   "execution_count": 29,
   "metadata": {},
   "outputs": [],
   "source": [
    "oecd  = oecd[['dtxsid', 'DNA_Ames_CA_MNT_OASIS', 'DNA_binding_OASIS',\n",
    "       'DNA_binding_OECD',  'Protein_binding_CA_OASIS',\n",
    "        'Ames_ISS', 'MNT_ISS']]"
   ]
  },
  {
   "cell_type": "code",
   "execution_count": 30,
   "metadata": {},
   "outputs": [
    {
     "data": {
      "text/html": [
       "<div>\n",
       "<style scoped>\n",
       "    .dataframe tbody tr th:only-of-type {\n",
       "        vertical-align: middle;\n",
       "    }\n",
       "\n",
       "    .dataframe tbody tr th {\n",
       "        vertical-align: top;\n",
       "    }\n",
       "\n",
       "    .dataframe thead th {\n",
       "        text-align: right;\n",
       "    }\n",
       "</style>\n",
       "<table border=\"1\" class=\"dataframe\">\n",
       "  <thead>\n",
       "    <tr style=\"text-align: right;\">\n",
       "      <th></th>\n",
       "      <th>dtxsid</th>\n",
       "      <th>DNA_Ames_CA_MNT_OASIS</th>\n",
       "      <th>DNA_binding_OASIS</th>\n",
       "      <th>DNA_binding_OECD</th>\n",
       "      <th>Protein_binding_CA_OASIS</th>\n",
       "      <th>Ames_ISS</th>\n",
       "      <th>MNT_ISS</th>\n",
       "    </tr>\n",
       "  </thead>\n",
       "  <tbody>\n",
       "    <tr>\n",
       "      <th>0</th>\n",
       "      <td>DTXSID2020004</td>\n",
       "      <td>0</td>\n",
       "      <td>0</td>\n",
       "      <td>0</td>\n",
       "      <td>0</td>\n",
       "      <td>0</td>\n",
       "      <td>0</td>\n",
       "    </tr>\n",
       "    <tr>\n",
       "      <th>1</th>\n",
       "      <td>DTXSID7020005</td>\n",
       "      <td>0</td>\n",
       "      <td>0</td>\n",
       "      <td>0</td>\n",
       "      <td>0</td>\n",
       "      <td>0</td>\n",
       "      <td>0</td>\n",
       "    </tr>\n",
       "    <tr>\n",
       "      <th>2</th>\n",
       "      <td>DTXSID2020006</td>\n",
       "      <td>0</td>\n",
       "      <td>0</td>\n",
       "      <td>0</td>\n",
       "      <td>1</td>\n",
       "      <td>1</td>\n",
       "      <td>1</td>\n",
       "    </tr>\n",
       "    <tr>\n",
       "      <th>3</th>\n",
       "      <td>DTXSID7020009</td>\n",
       "      <td>0</td>\n",
       "      <td>0</td>\n",
       "      <td>0</td>\n",
       "      <td>0</td>\n",
       "      <td>0</td>\n",
       "      <td>0</td>\n",
       "    </tr>\n",
       "    <tr>\n",
       "      <th>4</th>\n",
       "      <td>DTXSID6020010</td>\n",
       "      <td>0</td>\n",
       "      <td>0</td>\n",
       "      <td>0</td>\n",
       "      <td>0</td>\n",
       "      <td>0</td>\n",
       "      <td>0</td>\n",
       "    </tr>\n",
       "  </tbody>\n",
       "</table>\n",
       "</div>"
      ],
      "text/plain": [
       "          dtxsid  DNA_Ames_CA_MNT_OASIS  DNA_binding_OASIS  DNA_binding_OECD  \\\n",
       "0  DTXSID2020004                      0                  0                 0   \n",
       "1  DTXSID7020005                      0                  0                 0   \n",
       "2  DTXSID2020006                      0                  0                 0   \n",
       "3  DTXSID7020009                      0                  0                 0   \n",
       "4  DTXSID6020010                      0                  0                 0   \n",
       "\n",
       "   Protein_binding_CA_OASIS  Ames_ISS  MNT_ISS  \n",
       "0                         0         0        0  \n",
       "1                         0         0        0  \n",
       "2                         1         1        1  \n",
       "3                         0         0        0  \n",
       "4                         0         0        0  "
      ]
     },
     "execution_count": 30,
     "metadata": {},
     "output_type": "execute_result"
    }
   ],
   "source": [
    "oecd.head()"
   ]
  },
  {
   "cell_type": "code",
   "execution_count": 65,
   "metadata": {},
   "outputs": [],
   "source": [
    "toolbox_new_df = pd.melt(oecd, id_vars = ['dtxsid'], value_vars = [\n",
    " 'DNA_Ames_CA_MNT_OASIS', 'DNA_binding_OASIS',\n",
    "       'DNA_binding_OECD',  'Protein_binding_CA_OASIS',\n",
    "        'Ames_ISS', 'MNT_ISS'])"
   ]
  },
  {
   "cell_type": "code",
   "execution_count": 66,
   "metadata": {},
   "outputs": [],
   "source": [
    "toolbox_new_df.rename(columns = {'variable': 'aggregate_study_type', 'value': 'assay_outcome'}, inplace = True)"
   ]
  },
  {
   "cell_type": "code",
   "execution_count": 67,
   "metadata": {},
   "outputs": [],
   "source": [
    "toolbox_new_df.set_index('dtxsid', inplace = True)"
   ]
  },
  {
   "cell_type": "code",
   "execution_count": 68,
   "metadata": {},
   "outputs": [],
   "source": [
    "all_test_df.set_index('DTXSID', inplace = True)"
   ]
  },
  {
   "cell_type": "code",
   "execution_count": 69,
   "metadata": {},
   "outputs": [
    {
     "name": "stderr",
     "output_type": "stream",
     "text": [
      "/home/gpatlewi/anaconda3/lib/python3.6/site-packages/ipykernel_launcher.py:1: FutureWarning: Sorting because non-concatenation axis is not aligned. A future version\n",
      "of pandas will change to not sort by default.\n",
      "\n",
      "To accept the future behavior, pass 'sort=True'.\n",
      "\n",
      "To retain the current behavior and silence the warning, pass sort=False\n",
      "\n",
      "  \"\"\"Entry point for launching an IPython kernel.\n"
     ]
    }
   ],
   "source": [
    "insilico = pd.concat([toolbox_new_df, all_test_df ])"
   ]
  },
  {
   "cell_type": "code",
   "execution_count": 70,
   "metadata": {},
   "outputs": [
    {
     "data": {
      "text/plain": [
       "array(['DNA_Ames_CA_MNT_OASIS', 'DNA_binding_OASIS', 'DNA_binding_OECD',\n",
       "       'Protein_binding_CA_OASIS', 'Ames_ISS', 'MNT_ISS',\n",
       "       'TEST_Mutagenicity'], dtype=object)"
      ]
     },
     "execution_count": 70,
     "metadata": {},
     "output_type": "execute_result"
    }
   ],
   "source": [
    "insilico.aggregate_study_type.unique()"
   ]
  },
  {
   "cell_type": "code",
   "execution_count": 71,
   "metadata": {},
   "outputs": [],
   "source": [
    "tag_sar = {'DNA_Ames_CA_MNT_OASIS': 'pAmes', 'DNA_binding_OASIS': 'pAmes',\n",
    "       'DNA_binding_OECD': 'pAmes',  'Protein_binding_CA_OASIS': 'pclastogen',\n",
    "        'Ames_ISS': 'pAmes', 'MNT_ISS': 'pclastogen', 'TEST_Mutagenicity': 'pAmes'}"
   ]
  },
  {
   "cell_type": "code",
   "execution_count": 72,
   "metadata": {},
   "outputs": [],
   "source": [
    "insilico['simple_aggregate'] = insilico['aggregate_study_type']"
   ]
  },
  {
   "cell_type": "code",
   "execution_count": 73,
   "metadata": {},
   "outputs": [],
   "source": [
    "insilico['simple_aggregate'].replace(tag_sar , inplace = True)"
   ]
  },
  {
   "cell_type": "code",
   "execution_count": 74,
   "metadata": {},
   "outputs": [
    {
     "data": {
      "text/html": [
       "<div>\n",
       "<style scoped>\n",
       "    .dataframe tbody tr th:only-of-type {\n",
       "        vertical-align: middle;\n",
       "    }\n",
       "\n",
       "    .dataframe tbody tr th {\n",
       "        vertical-align: top;\n",
       "    }\n",
       "\n",
       "    .dataframe thead th {\n",
       "        text-align: right;\n",
       "    }\n",
       "</style>\n",
       "<table border=\"1\" class=\"dataframe\">\n",
       "  <thead>\n",
       "    <tr style=\"text-align: right;\">\n",
       "      <th></th>\n",
       "      <th>aggregate_study_type</th>\n",
       "      <th>assay_outcome</th>\n",
       "      <th>simple_aggregate</th>\n",
       "    </tr>\n",
       "  </thead>\n",
       "  <tbody>\n",
       "    <tr>\n",
       "      <th>DTXSID2020004</th>\n",
       "      <td>DNA_Ames_CA_MNT_OASIS</td>\n",
       "      <td>0.0</td>\n",
       "      <td>pAmes</td>\n",
       "    </tr>\n",
       "    <tr>\n",
       "      <th>DTXSID7020005</th>\n",
       "      <td>DNA_Ames_CA_MNT_OASIS</td>\n",
       "      <td>0.0</td>\n",
       "      <td>pAmes</td>\n",
       "    </tr>\n",
       "    <tr>\n",
       "      <th>DTXSID2020006</th>\n",
       "      <td>DNA_Ames_CA_MNT_OASIS</td>\n",
       "      <td>0.0</td>\n",
       "      <td>pAmes</td>\n",
       "    </tr>\n",
       "    <tr>\n",
       "      <th>DTXSID7020009</th>\n",
       "      <td>DNA_Ames_CA_MNT_OASIS</td>\n",
       "      <td>0.0</td>\n",
       "      <td>pAmes</td>\n",
       "    </tr>\n",
       "    <tr>\n",
       "      <th>DTXSID6020010</th>\n",
       "      <td>DNA_Ames_CA_MNT_OASIS</td>\n",
       "      <td>0.0</td>\n",
       "      <td>pAmes</td>\n",
       "    </tr>\n",
       "  </tbody>\n",
       "</table>\n",
       "</div>"
      ],
      "text/plain": [
       "                aggregate_study_type  assay_outcome simple_aggregate\n",
       "DTXSID2020004  DNA_Ames_CA_MNT_OASIS            0.0            pAmes\n",
       "DTXSID7020005  DNA_Ames_CA_MNT_OASIS            0.0            pAmes\n",
       "DTXSID2020006  DNA_Ames_CA_MNT_OASIS            0.0            pAmes\n",
       "DTXSID7020009  DNA_Ames_CA_MNT_OASIS            0.0            pAmes\n",
       "DTXSID6020010  DNA_Ames_CA_MNT_OASIS            0.0            pAmes"
      ]
     },
     "execution_count": 74,
     "metadata": {},
     "output_type": "execute_result"
    }
   ],
   "source": [
    "insilico.head()"
   ]
  },
  {
   "cell_type": "code",
   "execution_count": 159,
   "metadata": {},
   "outputs": [],
   "source": [
    "# Create a Pandas Excel writer using XlsxWriter as the engine.\n",
    "writer = pd.ExcelWriter('insilico_genetox_predictions_all_TSCA_150221.xlsx', engine='xlsxwriter')\n",
    "\n",
    "# Convert the dataframe to an XlsxWriter Excel object.\n",
    "insilico.to_excel(writer, sheet_name='TSCA_insilico_all_numeric')\n",
    "\n",
    "# Close the Pandas Excel writer and output the Excel file.\n",
    "writer.save()"
   ]
  },
  {
   "cell_type": "code",
   "execution_count": null,
   "metadata": {},
   "outputs": [],
   "source": []
  }
 ],
 "metadata": {
  "kernelspec": {
   "display_name": "Python 3",
   "language": "python",
   "name": "python3"
  },
  "language_info": {
   "codemirror_mode": {
    "name": "ipython",
    "version": 3
   },
   "file_extension": ".py",
   "mimetype": "text/x-python",
   "name": "python",
   "nbconvert_exporter": "python",
   "pygments_lexer": "ipython3",
   "version": "3.7.6"
  }
 },
 "nbformat": 4,
 "nbformat_minor": 4
}
