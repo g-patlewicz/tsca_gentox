{
 "cells": [
  {
   "cell_type": "code",
   "execution_count": 5,
   "metadata": {},
   "outputs": [],
   "source": [
    "import numpy as np\n",
    "import pandas as pd\n",
    "import matplotlib.pyplot as plt\n",
    "import seaborn as sns\n",
    "%matplotlib inline"
   ]
  },
  {
   "cell_type": "code",
   "execution_count": 6,
   "metadata": {},
   "outputs": [],
   "source": [
    "import os"
   ]
  },
  {
   "cell_type": "markdown",
   "metadata": {},
   "source": [
    "#### Importing relevant libraries and setting up directory structure to open and export files more readily."
   ]
  },
  {
   "cell_type": "code",
   "execution_count": 7,
   "metadata": {},
   "outputs": [],
   "source": [
    "TOP = os.getcwd().replace('notebooks', '')\n",
    "raw_dir = TOP + 'data/raw/'\n",
    "processed_dir = TOP + 'data/processed/'\n",
    "interim_dir = TOP + 'data/interim/'\n",
    "external_dir = TOP + 'data/external/'\n",
    "figures_dir = TOP + 'reports/figures/'"
   ]
  },
  {
   "cell_type": "code",
   "execution_count": 9,
   "metadata": {},
   "outputs": [],
   "source": [
    "insilico = pd.read_excel(processed_dir+'insilico_genetox_predictions_all_TSCA_150221.xlsx')"
   ]
  },
  {
   "cell_type": "code",
   "execution_count": 10,
   "metadata": {},
   "outputs": [
    {
     "data": {
      "text/html": [
       "<div>\n",
       "<style scoped>\n",
       "    .dataframe tbody tr th:only-of-type {\n",
       "        vertical-align: middle;\n",
       "    }\n",
       "\n",
       "    .dataframe tbody tr th {\n",
       "        vertical-align: top;\n",
       "    }\n",
       "\n",
       "    .dataframe thead th {\n",
       "        text-align: right;\n",
       "    }\n",
       "</style>\n",
       "<table border=\"1\" class=\"dataframe\">\n",
       "  <thead>\n",
       "    <tr style=\"text-align: right;\">\n",
       "      <th></th>\n",
       "      <th>Unnamed: 0</th>\n",
       "      <th>aggregate_study_type</th>\n",
       "      <th>assay_outcome</th>\n",
       "      <th>simple_aggregate</th>\n",
       "    </tr>\n",
       "  </thead>\n",
       "  <tbody>\n",
       "    <tr>\n",
       "      <th>0</th>\n",
       "      <td>DTXSID2020004</td>\n",
       "      <td>DNA_Ames_CA_MNT_OASIS</td>\n",
       "      <td>0.0</td>\n",
       "      <td>pAmes</td>\n",
       "    </tr>\n",
       "    <tr>\n",
       "      <th>1</th>\n",
       "      <td>DTXSID7020005</td>\n",
       "      <td>DNA_Ames_CA_MNT_OASIS</td>\n",
       "      <td>0.0</td>\n",
       "      <td>pAmes</td>\n",
       "    </tr>\n",
       "    <tr>\n",
       "      <th>2</th>\n",
       "      <td>DTXSID2020006</td>\n",
       "      <td>DNA_Ames_CA_MNT_OASIS</td>\n",
       "      <td>0.0</td>\n",
       "      <td>pAmes</td>\n",
       "    </tr>\n",
       "    <tr>\n",
       "      <th>3</th>\n",
       "      <td>DTXSID7020009</td>\n",
       "      <td>DNA_Ames_CA_MNT_OASIS</td>\n",
       "      <td>0.0</td>\n",
       "      <td>pAmes</td>\n",
       "    </tr>\n",
       "    <tr>\n",
       "      <th>4</th>\n",
       "      <td>DTXSID6020010</td>\n",
       "      <td>DNA_Ames_CA_MNT_OASIS</td>\n",
       "      <td>0.0</td>\n",
       "      <td>pAmes</td>\n",
       "    </tr>\n",
       "  </tbody>\n",
       "</table>\n",
       "</div>"
      ],
      "text/plain": [
       "      Unnamed: 0   aggregate_study_type  assay_outcome simple_aggregate\n",
       "0  DTXSID2020004  DNA_Ames_CA_MNT_OASIS            0.0            pAmes\n",
       "1  DTXSID7020005  DNA_Ames_CA_MNT_OASIS            0.0            pAmes\n",
       "2  DTXSID2020006  DNA_Ames_CA_MNT_OASIS            0.0            pAmes\n",
       "3  DTXSID7020009  DNA_Ames_CA_MNT_OASIS            0.0            pAmes\n",
       "4  DTXSID6020010  DNA_Ames_CA_MNT_OASIS            0.0            pAmes"
      ]
     },
     "execution_count": 10,
     "metadata": {},
     "output_type": "execute_result"
    }
   ],
   "source": [
    "insilico.head()"
   ]
  },
  {
   "cell_type": "code",
   "execution_count": 13,
   "metadata": {},
   "outputs": [],
   "source": [
    "insilico.columns = ['dtxsid', 'aggregate_study_type', 'assay_outcome',\n",
    "       'simple_aggregate']"
   ]
  },
  {
   "cell_type": "code",
   "execution_count": 14,
   "metadata": {},
   "outputs": [
    {
     "data": {
      "text/plain": [
       "(135129, 4)"
      ]
     },
     "execution_count": 14,
     "metadata": {},
     "output_type": "execute_result"
    }
   ],
   "source": [
    "insilico.shape"
   ]
  },
  {
   "cell_type": "code",
   "execution_count": 15,
   "metadata": {},
   "outputs": [
    {
     "data": {
      "text/plain": [
       "19623"
      ]
     },
     "execution_count": 15,
     "metadata": {},
     "output_type": "execute_result"
    }
   ],
   "source": [
    "insilico.dtxsid.nunique()"
   ]
  },
  {
   "cell_type": "code",
   "execution_count": 21,
   "metadata": {},
   "outputs": [],
   "source": [
    "insilico = insilico.set_index('dtxsid')"
   ]
  },
  {
   "cell_type": "code",
   "execution_count": 16,
   "metadata": {},
   "outputs": [],
   "source": [
    "genetox_df = pd.read_excel(processed_dir+'genetox_merged_110221_final.xlsx')"
   ]
  },
  {
   "cell_type": "code",
   "execution_count": 17,
   "metadata": {},
   "outputs": [],
   "source": [
    "genetox_df.drop(['Unnamed: 0'], axis = 1, inplace = True)"
   ]
  },
  {
   "cell_type": "code",
   "execution_count": 18,
   "metadata": {},
   "outputs": [
    {
     "data": {
      "text/plain": [
       "(54805, 35)"
      ]
     },
     "execution_count": 18,
     "metadata": {},
     "output_type": "execute_result"
    }
   ],
   "source": [
    "genetox_df.shape"
   ]
  },
  {
   "cell_type": "code",
   "execution_count": 20,
   "metadata": {},
   "outputs": [],
   "source": [
    "genetox_df = genetox_df.set_index('dtxsid')"
   ]
  },
  {
   "cell_type": "code",
   "execution_count": 22,
   "metadata": {},
   "outputs": [],
   "source": [
    "genetox_final = pd.concat([genetox_df, insilico])"
   ]
  },
  {
   "cell_type": "code",
   "execution_count": 23,
   "metadata": {},
   "outputs": [
    {
     "data": {
      "text/plain": [
       "(189934, 34)"
      ]
     },
     "execution_count": 23,
     "metadata": {},
     "output_type": "execute_result"
    }
   ],
   "source": [
    "genetox_final.shape"
   ]
  },
  {
   "cell_type": "code",
   "execution_count": 24,
   "metadata": {},
   "outputs": [
    {
     "data": {
      "text/html": [
       "<div>\n",
       "<style scoped>\n",
       "    .dataframe tbody tr th:only-of-type {\n",
       "        vertical-align: middle;\n",
       "    }\n",
       "\n",
       "    .dataframe tbody tr th {\n",
       "        vertical-align: top;\n",
       "    }\n",
       "\n",
       "    .dataframe thead th {\n",
       "        text-align: right;\n",
       "    }\n",
       "</style>\n",
       "<table border=\"1\" class=\"dataframe\">\n",
       "  <thead>\n",
       "    <tr style=\"text-align: right;\">\n",
       "      <th></th>\n",
       "      <th>source</th>\n",
       "      <th>name</th>\n",
       "      <th>casrn</th>\n",
       "      <th>assay_category</th>\n",
       "      <th>assay_type</th>\n",
       "      <th>assay_result</th>\n",
       "      <th>species</th>\n",
       "      <th>strain</th>\n",
       "      <th>metabolic_activation</th>\n",
       "      <th>cytotoxicity</th>\n",
       "      <th>...</th>\n",
       "      <th>sex</th>\n",
       "      <th>dose_response</th>\n",
       "      <th>panel_report</th>\n",
       "      <th>glp</th>\n",
       "      <th>guideline</th>\n",
       "      <th>standard_assay_type</th>\n",
       "      <th>assay_result_std</th>\n",
       "      <th>assay_outcome</th>\n",
       "      <th>aggregate_study_type</th>\n",
       "      <th>simple_aggregate</th>\n",
       "    </tr>\n",
       "    <tr>\n",
       "      <th>dtxsid</th>\n",
       "      <th></th>\n",
       "      <th></th>\n",
       "      <th></th>\n",
       "      <th></th>\n",
       "      <th></th>\n",
       "      <th></th>\n",
       "      <th></th>\n",
       "      <th></th>\n",
       "      <th></th>\n",
       "      <th></th>\n",
       "      <th></th>\n",
       "      <th></th>\n",
       "      <th></th>\n",
       "      <th></th>\n",
       "      <th></th>\n",
       "      <th></th>\n",
       "      <th></th>\n",
       "      <th></th>\n",
       "      <th></th>\n",
       "      <th></th>\n",
       "      <th></th>\n",
       "    </tr>\n",
       "  </thead>\n",
       "  <tbody>\n",
       "    <tr>\n",
       "      <th>DTXSID9024142</th>\n",
       "      <td>eChemPortal</td>\n",
       "      <td>1,3,5-trinitro-1,3,5-triazinane</td>\n",
       "      <td>121-82-4</td>\n",
       "      <td>in vitro</td>\n",
       "      <td>fluctuation test</td>\n",
       "      <td>negative</td>\n",
       "      <td>S. typhimurium TA 98</td>\n",
       "      <td>NaN</td>\n",
       "      <td>with and without</td>\n",
       "      <td>not determined</td>\n",
       "      <td>...</td>\n",
       "      <td>NaN</td>\n",
       "      <td>NaN</td>\n",
       "      <td>NaN</td>\n",
       "      <td>no data</td>\n",
       "      <td>equivalent or similar to OECD Guideline 471 (B...</td>\n",
       "      <td>bacterial fluctuation assay</td>\n",
       "      <td>negative</td>\n",
       "      <td>0.0</td>\n",
       "      <td>other</td>\n",
       "      <td>other</td>\n",
       "    </tr>\n",
       "    <tr>\n",
       "      <th>DTXSID9024142</th>\n",
       "      <td>eChemPortal</td>\n",
       "      <td>1,3,5-trinitro-1,3,5-triazinane</td>\n",
       "      <td>121-82-4</td>\n",
       "      <td>in vitro</td>\n",
       "      <td>fluctuation test</td>\n",
       "      <td>negative</td>\n",
       "      <td>S. typhimurium TA 100</td>\n",
       "      <td>NaN</td>\n",
       "      <td>with and without</td>\n",
       "      <td>not determined</td>\n",
       "      <td>...</td>\n",
       "      <td>NaN</td>\n",
       "      <td>NaN</td>\n",
       "      <td>NaN</td>\n",
       "      <td>no data</td>\n",
       "      <td>equivalent or similar to OECD Guideline 471 (B...</td>\n",
       "      <td>bacterial fluctuation assay</td>\n",
       "      <td>negative</td>\n",
       "      <td>0.0</td>\n",
       "      <td>other</td>\n",
       "      <td>other</td>\n",
       "    </tr>\n",
       "    <tr>\n",
       "      <th>DTXSID9024142</th>\n",
       "      <td>eChemPortal</td>\n",
       "      <td>1,3,5-trinitro-1,3,5-triazinane</td>\n",
       "      <td>121-82-4</td>\n",
       "      <td>in vitro</td>\n",
       "      <td>fluctuation test</td>\n",
       "      <td>negative</td>\n",
       "      <td>S. typhimurium TA 98</td>\n",
       "      <td>NaN</td>\n",
       "      <td>with and without</td>\n",
       "      <td>not determined</td>\n",
       "      <td>...</td>\n",
       "      <td>NaN</td>\n",
       "      <td>NaN</td>\n",
       "      <td>NaN</td>\n",
       "      <td>no data</td>\n",
       "      <td>equivalent or similar to OECD Guideline 471 (B...</td>\n",
       "      <td>bacterial fluctuation assay</td>\n",
       "      <td>negative</td>\n",
       "      <td>0.0</td>\n",
       "      <td>other</td>\n",
       "      <td>other</td>\n",
       "    </tr>\n",
       "    <tr>\n",
       "      <th>DTXSID7040316</th>\n",
       "      <td>eChemPortal</td>\n",
       "      <td>nickel(2+) dichloride</td>\n",
       "      <td>7718-54-9</td>\n",
       "      <td>in vitro</td>\n",
       "      <td>bacterial fluctuation assay</td>\n",
       "      <td>negative</td>\n",
       "      <td>other: E. coli strains WP2+, WP2-, WP6, WP67, ...</td>\n",
       "      <td>NaN</td>\n",
       "      <td>with</td>\n",
       "      <td>yes</td>\n",
       "      <td>...</td>\n",
       "      <td>NaN</td>\n",
       "      <td>NaN</td>\n",
       "      <td>NaN</td>\n",
       "      <td>no data</td>\n",
       "      <td>according to other guideline: Gatehouse 1978 (...</td>\n",
       "      <td>bacterial fluctuation assay</td>\n",
       "      <td>negative</td>\n",
       "      <td>0.0</td>\n",
       "      <td>other</td>\n",
       "      <td>other</td>\n",
       "    </tr>\n",
       "    <tr>\n",
       "      <th>DTXSID7040316</th>\n",
       "      <td>eChemPortal</td>\n",
       "      <td>nickel(2+) ion dichloride</td>\n",
       "      <td>7718-54-9</td>\n",
       "      <td>in vitro</td>\n",
       "      <td>bacterial fluctuation assay</td>\n",
       "      <td>negative</td>\n",
       "      <td>other: E. coli strains WP2+, WP2-, WP6, WP67, ...</td>\n",
       "      <td>NaN</td>\n",
       "      <td>with</td>\n",
       "      <td>yes</td>\n",
       "      <td>...</td>\n",
       "      <td>NaN</td>\n",
       "      <td>NaN</td>\n",
       "      <td>NaN</td>\n",
       "      <td>no data</td>\n",
       "      <td>according to other guideline: Gatehouse 1978 (...</td>\n",
       "      <td>bacterial fluctuation assay</td>\n",
       "      <td>negative</td>\n",
       "      <td>0.0</td>\n",
       "      <td>other</td>\n",
       "      <td>other</td>\n",
       "    </tr>\n",
       "  </tbody>\n",
       "</table>\n",
       "<p>5 rows × 34 columns</p>\n",
       "</div>"
      ],
      "text/plain": [
       "                    source                             name      casrn  \\\n",
       "dtxsid                                                                   \n",
       "DTXSID9024142  eChemPortal  1,3,5-trinitro-1,3,5-triazinane   121-82-4   \n",
       "DTXSID9024142  eChemPortal  1,3,5-trinitro-1,3,5-triazinane   121-82-4   \n",
       "DTXSID9024142  eChemPortal  1,3,5-trinitro-1,3,5-triazinane   121-82-4   \n",
       "DTXSID7040316  eChemPortal            nickel(2+) dichloride  7718-54-9   \n",
       "DTXSID7040316  eChemPortal        nickel(2+) ion dichloride  7718-54-9   \n",
       "\n",
       "              assay_category                   assay_type assay_result  \\\n",
       "dtxsid                                                                   \n",
       "DTXSID9024142       in vitro             fluctuation test     negative   \n",
       "DTXSID9024142       in vitro             fluctuation test     negative   \n",
       "DTXSID9024142       in vitro             fluctuation test     negative   \n",
       "DTXSID7040316       in vitro  bacterial fluctuation assay     negative   \n",
       "DTXSID7040316       in vitro  bacterial fluctuation assay     negative   \n",
       "\n",
       "                                                         species strain  \\\n",
       "dtxsid                                                                    \n",
       "DTXSID9024142                               S. typhimurium TA 98    NaN   \n",
       "DTXSID9024142                              S. typhimurium TA 100    NaN   \n",
       "DTXSID9024142                               S. typhimurium TA 98    NaN   \n",
       "DTXSID7040316  other: E. coli strains WP2+, WP2-, WP6, WP67, ...    NaN   \n",
       "DTXSID7040316  other: E. coli strains WP2+, WP2-, WP6, WP67, ...    NaN   \n",
       "\n",
       "              metabolic_activation    cytotoxicity  ...  sex dose_response  \\\n",
       "dtxsid                                              ...                      \n",
       "DTXSID9024142     with and without  not determined  ...  NaN           NaN   \n",
       "DTXSID9024142     with and without  not determined  ...  NaN           NaN   \n",
       "DTXSID9024142     with and without  not determined  ...  NaN           NaN   \n",
       "DTXSID7040316                 with             yes  ...  NaN           NaN   \n",
       "DTXSID7040316                 with             yes  ...  NaN           NaN   \n",
       "\n",
       "              panel_report      glp  \\\n",
       "dtxsid                                \n",
       "DTXSID9024142          NaN  no data   \n",
       "DTXSID9024142          NaN  no data   \n",
       "DTXSID9024142          NaN  no data   \n",
       "DTXSID7040316          NaN  no data   \n",
       "DTXSID7040316          NaN  no data   \n",
       "\n",
       "                                                       guideline  \\\n",
       "dtxsid                                                             \n",
       "DTXSID9024142  equivalent or similar to OECD Guideline 471 (B...   \n",
       "DTXSID9024142  equivalent or similar to OECD Guideline 471 (B...   \n",
       "DTXSID9024142  equivalent or similar to OECD Guideline 471 (B...   \n",
       "DTXSID7040316  according to other guideline: Gatehouse 1978 (...   \n",
       "DTXSID7040316  according to other guideline: Gatehouse 1978 (...   \n",
       "\n",
       "                       standard_assay_type assay_result_std  assay_outcome  \\\n",
       "dtxsid                                                                       \n",
       "DTXSID9024142  bacterial fluctuation assay         negative            0.0   \n",
       "DTXSID9024142  bacterial fluctuation assay         negative            0.0   \n",
       "DTXSID9024142  bacterial fluctuation assay         negative            0.0   \n",
       "DTXSID7040316  bacterial fluctuation assay         negative            0.0   \n",
       "DTXSID7040316  bacterial fluctuation assay         negative            0.0   \n",
       "\n",
       "               aggregate_study_type simple_aggregate  \n",
       "dtxsid                                                \n",
       "DTXSID9024142                 other            other  \n",
       "DTXSID9024142                 other            other  \n",
       "DTXSID9024142                 other            other  \n",
       "DTXSID7040316                 other            other  \n",
       "DTXSID7040316                 other            other  \n",
       "\n",
       "[5 rows x 34 columns]"
      ]
     },
     "execution_count": 24,
     "metadata": {},
     "output_type": "execute_result"
    }
   ],
   "source": [
    "genetox_final.head()"
   ]
  },
  {
   "cell_type": "code",
   "execution_count": 25,
   "metadata": {},
   "outputs": [
    {
     "data": {
      "text/plain": [
       "array([ 0.,  1.,  2., nan])"
      ]
     },
     "execution_count": 25,
     "metadata": {},
     "output_type": "execute_result"
    }
   ],
   "source": [
    "genetox_final.assay_outcome.unique()"
   ]
  },
  {
   "cell_type": "code",
   "execution_count": 26,
   "metadata": {},
   "outputs": [],
   "source": [
    "genetox_final = genetox_final.reset_index()\n",
    "genetox_final.rename(columns = {'index': 'dtxsid'}, inplace = True)"
   ]
  },
  {
   "cell_type": "code",
   "execution_count": 27,
   "metadata": {},
   "outputs": [
    {
     "data": {
      "text/plain": [
       "23345"
      ]
     },
     "execution_count": 27,
     "metadata": {},
     "output_type": "execute_result"
    }
   ],
   "source": [
    "genetox_final.dtxsid.nunique()"
   ]
  },
  {
   "cell_type": "code",
   "execution_count": 29,
   "metadata": {},
   "outputs": [
    {
     "data": {
      "text/html": [
       "<div>\n",
       "<style scoped>\n",
       "    .dataframe tbody tr th:only-of-type {\n",
       "        vertical-align: middle;\n",
       "    }\n",
       "\n",
       "    .dataframe tbody tr th {\n",
       "        vertical-align: top;\n",
       "    }\n",
       "\n",
       "    .dataframe thead th {\n",
       "        text-align: right;\n",
       "    }\n",
       "</style>\n",
       "<table border=\"1\" class=\"dataframe\">\n",
       "  <thead>\n",
       "    <tr style=\"text-align: right;\">\n",
       "      <th></th>\n",
       "      <th>dtxsid</th>\n",
       "      <th>source</th>\n",
       "      <th>name</th>\n",
       "      <th>casrn</th>\n",
       "      <th>assay_category</th>\n",
       "      <th>assay_type</th>\n",
       "      <th>assay_result</th>\n",
       "      <th>species</th>\n",
       "      <th>strain</th>\n",
       "      <th>metabolic_activation</th>\n",
       "      <th>...</th>\n",
       "      <th>sex</th>\n",
       "      <th>dose_response</th>\n",
       "      <th>panel_report</th>\n",
       "      <th>glp</th>\n",
       "      <th>guideline</th>\n",
       "      <th>standard_assay_type</th>\n",
       "      <th>assay_result_std</th>\n",
       "      <th>assay_outcome</th>\n",
       "      <th>aggregate_study_type</th>\n",
       "      <th>simple_aggregate</th>\n",
       "    </tr>\n",
       "  </thead>\n",
       "  <tbody>\n",
       "    <tr>\n",
       "      <th>0</th>\n",
       "      <td>DTXSID9024142</td>\n",
       "      <td>eChemPortal</td>\n",
       "      <td>1,3,5-trinitro-1,3,5-triazinane</td>\n",
       "      <td>121-82-4</td>\n",
       "      <td>in vitro</td>\n",
       "      <td>fluctuation test</td>\n",
       "      <td>negative</td>\n",
       "      <td>S. typhimurium TA 98</td>\n",
       "      <td>NaN</td>\n",
       "      <td>with and without</td>\n",
       "      <td>...</td>\n",
       "      <td>NaN</td>\n",
       "      <td>NaN</td>\n",
       "      <td>NaN</td>\n",
       "      <td>no data</td>\n",
       "      <td>equivalent or similar to OECD Guideline 471 (B...</td>\n",
       "      <td>bacterial fluctuation assay</td>\n",
       "      <td>negative</td>\n",
       "      <td>0.0</td>\n",
       "      <td>other</td>\n",
       "      <td>other</td>\n",
       "    </tr>\n",
       "    <tr>\n",
       "      <th>1</th>\n",
       "      <td>DTXSID9024142</td>\n",
       "      <td>eChemPortal</td>\n",
       "      <td>1,3,5-trinitro-1,3,5-triazinane</td>\n",
       "      <td>121-82-4</td>\n",
       "      <td>in vitro</td>\n",
       "      <td>fluctuation test</td>\n",
       "      <td>negative</td>\n",
       "      <td>S. typhimurium TA 100</td>\n",
       "      <td>NaN</td>\n",
       "      <td>with and without</td>\n",
       "      <td>...</td>\n",
       "      <td>NaN</td>\n",
       "      <td>NaN</td>\n",
       "      <td>NaN</td>\n",
       "      <td>no data</td>\n",
       "      <td>equivalent or similar to OECD Guideline 471 (B...</td>\n",
       "      <td>bacterial fluctuation assay</td>\n",
       "      <td>negative</td>\n",
       "      <td>0.0</td>\n",
       "      <td>other</td>\n",
       "      <td>other</td>\n",
       "    </tr>\n",
       "    <tr>\n",
       "      <th>2</th>\n",
       "      <td>DTXSID9024142</td>\n",
       "      <td>eChemPortal</td>\n",
       "      <td>1,3,5-trinitro-1,3,5-triazinane</td>\n",
       "      <td>121-82-4</td>\n",
       "      <td>in vitro</td>\n",
       "      <td>fluctuation test</td>\n",
       "      <td>negative</td>\n",
       "      <td>S. typhimurium TA 98</td>\n",
       "      <td>NaN</td>\n",
       "      <td>with and without</td>\n",
       "      <td>...</td>\n",
       "      <td>NaN</td>\n",
       "      <td>NaN</td>\n",
       "      <td>NaN</td>\n",
       "      <td>no data</td>\n",
       "      <td>equivalent or similar to OECD Guideline 471 (B...</td>\n",
       "      <td>bacterial fluctuation assay</td>\n",
       "      <td>negative</td>\n",
       "      <td>0.0</td>\n",
       "      <td>other</td>\n",
       "      <td>other</td>\n",
       "    </tr>\n",
       "    <tr>\n",
       "      <th>3</th>\n",
       "      <td>DTXSID7040316</td>\n",
       "      <td>eChemPortal</td>\n",
       "      <td>nickel(2+) dichloride</td>\n",
       "      <td>7718-54-9</td>\n",
       "      <td>in vitro</td>\n",
       "      <td>bacterial fluctuation assay</td>\n",
       "      <td>negative</td>\n",
       "      <td>other: E. coli strains WP2+, WP2-, WP6, WP67, ...</td>\n",
       "      <td>NaN</td>\n",
       "      <td>with</td>\n",
       "      <td>...</td>\n",
       "      <td>NaN</td>\n",
       "      <td>NaN</td>\n",
       "      <td>NaN</td>\n",
       "      <td>no data</td>\n",
       "      <td>according to other guideline: Gatehouse 1978 (...</td>\n",
       "      <td>bacterial fluctuation assay</td>\n",
       "      <td>negative</td>\n",
       "      <td>0.0</td>\n",
       "      <td>other</td>\n",
       "      <td>other</td>\n",
       "    </tr>\n",
       "    <tr>\n",
       "      <th>4</th>\n",
       "      <td>DTXSID7040316</td>\n",
       "      <td>eChemPortal</td>\n",
       "      <td>nickel(2+) ion dichloride</td>\n",
       "      <td>7718-54-9</td>\n",
       "      <td>in vitro</td>\n",
       "      <td>bacterial fluctuation assay</td>\n",
       "      <td>negative</td>\n",
       "      <td>other: E. coli strains WP2+, WP2-, WP6, WP67, ...</td>\n",
       "      <td>NaN</td>\n",
       "      <td>with</td>\n",
       "      <td>...</td>\n",
       "      <td>NaN</td>\n",
       "      <td>NaN</td>\n",
       "      <td>NaN</td>\n",
       "      <td>no data</td>\n",
       "      <td>according to other guideline: Gatehouse 1978 (...</td>\n",
       "      <td>bacterial fluctuation assay</td>\n",
       "      <td>negative</td>\n",
       "      <td>0.0</td>\n",
       "      <td>other</td>\n",
       "      <td>other</td>\n",
       "    </tr>\n",
       "  </tbody>\n",
       "</table>\n",
       "<p>5 rows × 35 columns</p>\n",
       "</div>"
      ],
      "text/plain": [
       "          dtxsid       source                             name      casrn  \\\n",
       "0  DTXSID9024142  eChemPortal  1,3,5-trinitro-1,3,5-triazinane   121-82-4   \n",
       "1  DTXSID9024142  eChemPortal  1,3,5-trinitro-1,3,5-triazinane   121-82-4   \n",
       "2  DTXSID9024142  eChemPortal  1,3,5-trinitro-1,3,5-triazinane   121-82-4   \n",
       "3  DTXSID7040316  eChemPortal            nickel(2+) dichloride  7718-54-9   \n",
       "4  DTXSID7040316  eChemPortal        nickel(2+) ion dichloride  7718-54-9   \n",
       "\n",
       "  assay_category                   assay_type assay_result  \\\n",
       "0       in vitro             fluctuation test     negative   \n",
       "1       in vitro             fluctuation test     negative   \n",
       "2       in vitro             fluctuation test     negative   \n",
       "3       in vitro  bacterial fluctuation assay     negative   \n",
       "4       in vitro  bacterial fluctuation assay     negative   \n",
       "\n",
       "                                             species strain  \\\n",
       "0                               S. typhimurium TA 98    NaN   \n",
       "1                              S. typhimurium TA 100    NaN   \n",
       "2                               S. typhimurium TA 98    NaN   \n",
       "3  other: E. coli strains WP2+, WP2-, WP6, WP67, ...    NaN   \n",
       "4  other: E. coli strains WP2+, WP2-, WP6, WP67, ...    NaN   \n",
       "\n",
       "  metabolic_activation  ...  sex dose_response panel_report      glp  \\\n",
       "0     with and without  ...  NaN           NaN          NaN  no data   \n",
       "1     with and without  ...  NaN           NaN          NaN  no data   \n",
       "2     with and without  ...  NaN           NaN          NaN  no data   \n",
       "3                 with  ...  NaN           NaN          NaN  no data   \n",
       "4                 with  ...  NaN           NaN          NaN  no data   \n",
       "\n",
       "                                           guideline  \\\n",
       "0  equivalent or similar to OECD Guideline 471 (B...   \n",
       "1  equivalent or similar to OECD Guideline 471 (B...   \n",
       "2  equivalent or similar to OECD Guideline 471 (B...   \n",
       "3  according to other guideline: Gatehouse 1978 (...   \n",
       "4  according to other guideline: Gatehouse 1978 (...   \n",
       "\n",
       "           standard_assay_type  assay_result_std assay_outcome  \\\n",
       "0  bacterial fluctuation assay          negative           0.0   \n",
       "1  bacterial fluctuation assay          negative           0.0   \n",
       "2  bacterial fluctuation assay          negative           0.0   \n",
       "3  bacterial fluctuation assay          negative           0.0   \n",
       "4  bacterial fluctuation assay          negative           0.0   \n",
       "\n",
       "   aggregate_study_type  simple_aggregate  \n",
       "0                 other             other  \n",
       "1                 other             other  \n",
       "2                 other             other  \n",
       "3                 other             other  \n",
       "4                 other             other  \n",
       "\n",
       "[5 rows x 35 columns]"
      ]
     },
     "execution_count": 29,
     "metadata": {},
     "output_type": "execute_result"
    }
   ],
   "source": [
    "genetox_final.head()"
   ]
  },
  {
   "cell_type": "code",
   "execution_count": 30,
   "metadata": {},
   "outputs": [],
   "source": [
    "calls = {}\n",
    "for i, group in genetox_final.groupby('dtxsid'):\n",
    "    subset = group[['simple_aggregate', 'assay_outcome']]\n",
    "    tuples = [tuple(x) for x in subset.values]\n",
    "    if ('Ames', 1) in tuples:\n",
    "        calls[i]='gentox'\n",
    "    elif ('clastogen', 1) in tuples:\n",
    "        calls[i]='clastogen'  \n",
    "    elif ('Ames', 2) in tuples:\n",
    "        calls[i]='inconclusive'    \n",
    "    elif ('clastogen', 2) in tuples:\n",
    "        calls[i]='inconclusive' \n",
    "    elif ('Ames', 0) in tuples:\n",
    "        calls[i]='non gentox'\n",
    "    elif ('clastogen', 0) in tuples:\n",
    "        calls[i]='not clastogen'    \n",
    "    elif ('pAmes', 1) in tuples:\n",
    "        calls[i]='pred gentox'\n",
    "    elif ('pclastogen', 1) in tuples:\n",
    "        calls[i]='pred clastogen'\n",
    "    elif ('pAmes', 0) in tuples:\n",
    "        calls[i]='pred non gentox'\n",
    "    elif ('pclastogen', 0) in tuples:\n",
    "        calls[i]='pred non clastogen'\n",
    "    else:\n",
    "        None"
   ]
  },
  {
   "cell_type": "code",
   "execution_count": 31,
   "metadata": {},
   "outputs": [],
   "source": [
    "calls_df = pd.DataFrame(list(calls.items()), columns = ['dtxsid', 'Overall_genetox_call'])"
   ]
  },
  {
   "cell_type": "code",
   "execution_count": 32,
   "metadata": {},
   "outputs": [
    {
     "data": {
      "text/html": [
       "<div>\n",
       "<style scoped>\n",
       "    .dataframe tbody tr th:only-of-type {\n",
       "        vertical-align: middle;\n",
       "    }\n",
       "\n",
       "    .dataframe tbody tr th {\n",
       "        vertical-align: top;\n",
       "    }\n",
       "\n",
       "    .dataframe thead th {\n",
       "        text-align: right;\n",
       "    }\n",
       "</style>\n",
       "<table border=\"1\" class=\"dataframe\">\n",
       "  <thead>\n",
       "    <tr style=\"text-align: right;\">\n",
       "      <th></th>\n",
       "      <th>dtxsid</th>\n",
       "      <th>Overall_genetox_call</th>\n",
       "    </tr>\n",
       "  </thead>\n",
       "  <tbody>\n",
       "    <tr>\n",
       "      <th>0</th>\n",
       "      <td>DTXSID001000726</td>\n",
       "      <td>pred clastogen</td>\n",
       "    </tr>\n",
       "    <tr>\n",
       "      <th>1</th>\n",
       "      <td>DTXSID001003875</td>\n",
       "      <td>pred gentox</td>\n",
       "    </tr>\n",
       "    <tr>\n",
       "      <th>2</th>\n",
       "      <td>DTXSID00100498</td>\n",
       "      <td>not clastogen</td>\n",
       "    </tr>\n",
       "    <tr>\n",
       "      <th>3</th>\n",
       "      <td>DTXSID001006300</td>\n",
       "      <td>pred gentox</td>\n",
       "    </tr>\n",
       "    <tr>\n",
       "      <th>4</th>\n",
       "      <td>DTXSID00100670</td>\n",
       "      <td>non gentox</td>\n",
       "    </tr>\n",
       "  </tbody>\n",
       "</table>\n",
       "</div>"
      ],
      "text/plain": [
       "            dtxsid Overall_genetox_call\n",
       "0  DTXSID001000726       pred clastogen\n",
       "1  DTXSID001003875          pred gentox\n",
       "2   DTXSID00100498        not clastogen\n",
       "3  DTXSID001006300          pred gentox\n",
       "4   DTXSID00100670           non gentox"
      ]
     },
     "execution_count": 32,
     "metadata": {},
     "output_type": "execute_result"
    }
   ],
   "source": [
    "calls_df.head()"
   ]
  },
  {
   "cell_type": "code",
   "execution_count": 33,
   "metadata": {},
   "outputs": [],
   "source": [
    "calls_df['overall_genetox_score'] = calls_df['Overall_genetox_call']"
   ]
  },
  {
   "cell_type": "code",
   "execution_count": 34,
   "metadata": {},
   "outputs": [],
   "source": [
    "tag_judson = {'pred gentox': 3, np.nan: 0, 'non gentox': 1, 'gentox': 4, 'inconclusive': 2, 'clastogen': 4, 'pred clastogen' :3, 'not clastogen': 1, 'pred non clastogen': 1,'pred non gentox': 1}"
   ]
  },
  {
   "cell_type": "code",
   "execution_count": 35,
   "metadata": {},
   "outputs": [],
   "source": [
    "calls_df['overall_genetox_score'].replace(tag_judson , inplace = True)"
   ]
  },
  {
   "cell_type": "code",
   "execution_count": 36,
   "metadata": {},
   "outputs": [
    {
     "data": {
      "text/plain": [
       "(22516, 3)"
      ]
     },
     "execution_count": 36,
     "metadata": {},
     "output_type": "execute_result"
    }
   ],
   "source": [
    "calls_df.shape"
   ]
  },
  {
   "cell_type": "code",
   "execution_count": 37,
   "metadata": {},
   "outputs": [
    {
     "data": {
      "text/html": [
       "<div>\n",
       "<style scoped>\n",
       "    .dataframe tbody tr th:only-of-type {\n",
       "        vertical-align: middle;\n",
       "    }\n",
       "\n",
       "    .dataframe tbody tr th {\n",
       "        vertical-align: top;\n",
       "    }\n",
       "\n",
       "    .dataframe thead th {\n",
       "        text-align: right;\n",
       "    }\n",
       "</style>\n",
       "<table border=\"1\" class=\"dataframe\">\n",
       "  <thead>\n",
       "    <tr style=\"text-align: right;\">\n",
       "      <th></th>\n",
       "      <th>dtxsid</th>\n",
       "      <th>Overall_genetox_call</th>\n",
       "      <th>overall_genetox_score</th>\n",
       "    </tr>\n",
       "  </thead>\n",
       "  <tbody>\n",
       "    <tr>\n",
       "      <th>0</th>\n",
       "      <td>DTXSID001000726</td>\n",
       "      <td>pred clastogen</td>\n",
       "      <td>3</td>\n",
       "    </tr>\n",
       "    <tr>\n",
       "      <th>1</th>\n",
       "      <td>DTXSID001003875</td>\n",
       "      <td>pred gentox</td>\n",
       "      <td>3</td>\n",
       "    </tr>\n",
       "    <tr>\n",
       "      <th>2</th>\n",
       "      <td>DTXSID00100498</td>\n",
       "      <td>not clastogen</td>\n",
       "      <td>1</td>\n",
       "    </tr>\n",
       "    <tr>\n",
       "      <th>3</th>\n",
       "      <td>DTXSID001006300</td>\n",
       "      <td>pred gentox</td>\n",
       "      <td>3</td>\n",
       "    </tr>\n",
       "    <tr>\n",
       "      <th>4</th>\n",
       "      <td>DTXSID00100670</td>\n",
       "      <td>non gentox</td>\n",
       "      <td>1</td>\n",
       "    </tr>\n",
       "  </tbody>\n",
       "</table>\n",
       "</div>"
      ],
      "text/plain": [
       "            dtxsid Overall_genetox_call  overall_genetox_score\n",
       "0  DTXSID001000726       pred clastogen                      3\n",
       "1  DTXSID001003875          pred gentox                      3\n",
       "2   DTXSID00100498        not clastogen                      1\n",
       "3  DTXSID001006300          pred gentox                      3\n",
       "4   DTXSID00100670           non gentox                      1"
      ]
     },
     "execution_count": 37,
     "metadata": {},
     "output_type": "execute_result"
    }
   ],
   "source": [
    "calls_df.head()"
   ]
  },
  {
   "cell_type": "code",
   "execution_count": 193,
   "metadata": {},
   "outputs": [],
   "source": [
    "# Create a Pandas Excel writer using XlsxWriter as the engine.\n",
    "writer = pd.ExcelWriter(processed_dir+'calls_150221.xlsx', engine='xlsxwriter')\n",
    "\n",
    "# Convert the dataframe to an XlsxWriter Excel object.\n",
    "calls_df.to_excel(writer, sheet_name='DeMarini_predictions')\n",
    "\n",
    "# Close the Pandas Excel writer and output the Excel file.\n",
    "writer.save()"
   ]
  },
  {
   "cell_type": "markdown",
   "metadata": {},
   "source": [
    "#### Filter all the calls made against the actual TSCA set of substances"
   ]
  },
  {
   "cell_type": "code",
   "execution_count": 39,
   "metadata": {},
   "outputs": [],
   "source": [
    "tsca_all = pd.read_excel(processed_dir+'TSCA_all.xlsx')"
   ]
  },
  {
   "cell_type": "code",
   "execution_count": 41,
   "metadata": {},
   "outputs": [
    {
     "data": {
      "text/plain": [
       "(33364, 14)"
      ]
     },
     "execution_count": 41,
     "metadata": {},
     "output_type": "execute_result"
    }
   ],
   "source": [
    "tsca_all"
   ]
  },
  {
   "cell_type": "code",
   "execution_count": 43,
   "metadata": {},
   "outputs": [],
   "source": [
    "tsca_lst = tsca_all['DTXSID'].tolist()"
   ]
  },
  {
   "cell_type": "code",
   "execution_count": 44,
   "metadata": {},
   "outputs": [
    {
     "data": {
      "text/plain": [
       "33364"
      ]
     },
     "execution_count": 44,
     "metadata": {},
     "output_type": "execute_result"
    }
   ],
   "source": [
    "len(tsca_lst)"
   ]
  },
  {
   "cell_type": "code",
   "execution_count": 45,
   "metadata": {},
   "outputs": [],
   "source": [
    "calls_tsca = calls_df[calls_df['dtxsid'].isin(tsca_lst)]"
   ]
  },
  {
   "cell_type": "code",
   "execution_count": 47,
   "metadata": {},
   "outputs": [
    {
     "data": {
      "text/plain": [
       "(20371, 3)"
      ]
     },
     "execution_count": 47,
     "metadata": {},
     "output_type": "execute_result"
    }
   ],
   "source": [
    "calls_tsca.shape"
   ]
  },
  {
   "cell_type": "code",
   "execution_count": 49,
   "metadata": {},
   "outputs": [
    {
     "data": {
      "text/plain": [
       "1    9507\n",
       "3    8949\n",
       "4    1812\n",
       "2     103\n",
       "Name: overall_genetox_score, dtype: int64"
      ]
     },
     "execution_count": 49,
     "metadata": {},
     "output_type": "execute_result"
    }
   ],
   "source": [
    "calls_tsca['overall_genetox_score'].value_counts(dropna = False)"
   ]
  },
  {
   "cell_type": "code",
   "execution_count": 50,
   "metadata": {},
   "outputs": [
    {
     "data": {
      "text/plain": [
       "1    0.466693\n",
       "3    0.439301\n",
       "4    0.088950\n",
       "2    0.005056\n",
       "Name: overall_genetox_score, dtype: float64"
      ]
     },
     "execution_count": 50,
     "metadata": {},
     "output_type": "execute_result"
    }
   ],
   "source": [
    "calls_tsca['overall_genetox_score'].value_counts(dropna = False, normalize = True)"
   ]
  },
  {
   "cell_type": "code",
   "execution_count": 52,
   "metadata": {},
   "outputs": [
    {
     "data": {
      "image/png": "[encoded data removed]",
      "text/plain": [
       "<Figure size 648x432 with 1 Axes>"
      ]
     },
     "metadata": {},
     "output_type": "display_data"
    }
   ],
   "source": [
    "plt.style.use('ggplot')\n",
    "plt.figure(figsize = (9,6))\n",
    "calls_tsca.overall_genetox_score.value_counts().sort_index().plot.bar()\n",
    "plt.xlabel('Overall Genotoxicity call')\n",
    "plt.ylabel('Count')\n",
    "plt.xticks(rotation = 0)\n",
    "plt.tight_layout()\n",
    "plt.savefig(figures_dir+'Figure5_TSCA_scores.png', dpi = 300)"
   ]
  },
  {
   "cell_type": "markdown",
   "metadata": {},
   "source": [
    "#### Filtered against the POC238 set for which calls could be determined"
   ]
  },
  {
   "cell_type": "code",
   "execution_count": 54,
   "metadata": {},
   "outputs": [],
   "source": [
    "poc238 = pd.read_excel(processed_dir+'POC238_280419.xlsx')"
   ]
  },
  {
   "cell_type": "code",
   "execution_count": 57,
   "metadata": {},
   "outputs": [
    {
     "data": {
      "text/plain": [
       "238"
      ]
     },
     "execution_count": 57,
     "metadata": {},
     "output_type": "execute_result"
    }
   ],
   "source": [
    "poc238.dsstox_substance_id.nunique()"
   ]
  },
  {
   "cell_type": "code",
   "execution_count": 58,
   "metadata": {},
   "outputs": [
    {
     "data": {
      "text/html": [
       "<div>\n",
       "<style scoped>\n",
       "    .dataframe tbody tr th:only-of-type {\n",
       "        vertical-align: middle;\n",
       "    }\n",
       "\n",
       "    .dataframe tbody tr th {\n",
       "        vertical-align: top;\n",
       "    }\n",
       "\n",
       "    .dataframe thead th {\n",
       "        text-align: right;\n",
       "    }\n",
       "</style>\n",
       "<table border=\"1\" class=\"dataframe\">\n",
       "  <thead>\n",
       "    <tr style=\"text-align: right;\">\n",
       "      <th></th>\n",
       "      <th>casrn</th>\n",
       "      <th>name</th>\n",
       "      <th>dsstox_substance_id</th>\n",
       "      <th>TSCA_90</th>\n",
       "      <th>TSCA_POC</th>\n",
       "    </tr>\n",
       "  </thead>\n",
       "  <tbody>\n",
       "    <tr>\n",
       "      <th>0</th>\n",
       "      <td>100-00-5</td>\n",
       "      <td>1-Chloro-4-nitrobenzene</td>\n",
       "      <td>DTXSID5020281</td>\n",
       "      <td>NaN</td>\n",
       "      <td>1</td>\n",
       "    </tr>\n",
       "    <tr>\n",
       "      <th>1</th>\n",
       "      <td>100-41-4</td>\n",
       "      <td>Ethylbenzene</td>\n",
       "      <td>DTXSID3020596</td>\n",
       "      <td>1.0</td>\n",
       "      <td>1</td>\n",
       "    </tr>\n",
       "    <tr>\n",
       "      <th>2</th>\n",
       "      <td>100-42-5</td>\n",
       "      <td>Styrene</td>\n",
       "      <td>DTXSID2021284</td>\n",
       "      <td>1.0</td>\n",
       "      <td>1</td>\n",
       "    </tr>\n",
       "    <tr>\n",
       "      <th>3</th>\n",
       "      <td>101-14-4</td>\n",
       "      <td>4,4-Methylenebis(2-chloroaniline)</td>\n",
       "      <td>DTXSID5020865</td>\n",
       "      <td>1.0</td>\n",
       "      <td>1</td>\n",
       "    </tr>\n",
       "    <tr>\n",
       "      <th>4</th>\n",
       "      <td>101-20-2</td>\n",
       "      <td>Triclocarban</td>\n",
       "      <td>DTXSID4026214</td>\n",
       "      <td>NaN</td>\n",
       "      <td>1</td>\n",
       "    </tr>\n",
       "    <tr>\n",
       "      <th>...</th>\n",
       "      <td>...</td>\n",
       "      <td>...</td>\n",
       "      <td>...</td>\n",
       "      <td>...</td>\n",
       "      <td>...</td>\n",
       "    </tr>\n",
       "    <tr>\n",
       "      <th>233</th>\n",
       "      <td>NOCAS_872421</td>\n",
       "      <td>Lead &amp; Lead Compounds</td>\n",
       "      <td>DTXSID00872421</td>\n",
       "      <td>1.0</td>\n",
       "      <td>1</td>\n",
       "    </tr>\n",
       "    <tr>\n",
       "      <th>234</th>\n",
       "      <td>NOCAS_872422</td>\n",
       "      <td>Long-chain chlorinated paraffins (C18-20)</td>\n",
       "      <td>DTXSID60872422</td>\n",
       "      <td>1.0</td>\n",
       "      <td>1</td>\n",
       "    </tr>\n",
       "    <tr>\n",
       "      <th>235</th>\n",
       "      <td>NOCAS_872423</td>\n",
       "      <td>Medium-chain chlorinated paraffins (C14-17)</td>\n",
       "      <td>DTXSID20872423</td>\n",
       "      <td>1.0</td>\n",
       "      <td>1</td>\n",
       "    </tr>\n",
       "    <tr>\n",
       "      <th>236</th>\n",
       "      <td>NOCAS_872424</td>\n",
       "      <td>Molybdenum &amp; Molybdenum Compounds</td>\n",
       "      <td>DTXSID80872424</td>\n",
       "      <td>1.0</td>\n",
       "      <td>1</td>\n",
       "    </tr>\n",
       "    <tr>\n",
       "      <th>237</th>\n",
       "      <td>NOCAS_872425</td>\n",
       "      <td>Nickel &amp; Nickel Compounds</td>\n",
       "      <td>DTXSID40872425</td>\n",
       "      <td>1.0</td>\n",
       "      <td>1</td>\n",
       "    </tr>\n",
       "  </tbody>\n",
       "</table>\n",
       "<p>238 rows × 5 columns</p>\n",
       "</div>"
      ],
      "text/plain": [
       "            casrn                                         name  \\\n",
       "0        100-00-5                      1-Chloro-4-nitrobenzene   \n",
       "1        100-41-4                                 Ethylbenzene   \n",
       "2        100-42-5                                      Styrene   \n",
       "3        101-14-4            4,4-Methylenebis(2-chloroaniline)   \n",
       "4        101-20-2                                 Triclocarban   \n",
       "..            ...                                          ...   \n",
       "233  NOCAS_872421                        Lead & Lead Compounds   \n",
       "234  NOCAS_872422    Long-chain chlorinated paraffins (C18-20)   \n",
       "235  NOCAS_872423  Medium-chain chlorinated paraffins (C14-17)   \n",
       "236  NOCAS_872424            Molybdenum & Molybdenum Compounds   \n",
       "237  NOCAS_872425                    Nickel & Nickel Compounds   \n",
       "\n",
       "    dsstox_substance_id  TSCA_90  TSCA_POC  \n",
       "0         DTXSID5020281      NaN         1  \n",
       "1         DTXSID3020596      1.0         1  \n",
       "2         DTXSID2021284      1.0         1  \n",
       "3         DTXSID5020865      1.0         1  \n",
       "4         DTXSID4026214      NaN         1  \n",
       "..                  ...      ...       ...  \n",
       "233      DTXSID00872421      1.0         1  \n",
       "234      DTXSID60872422      1.0         1  \n",
       "235      DTXSID20872423      1.0         1  \n",
       "236      DTXSID80872424      1.0         1  \n",
       "237      DTXSID40872425      1.0         1  \n",
       "\n",
       "[238 rows x 5 columns]"
      ]
     },
     "execution_count": 58,
     "metadata": {},
     "output_type": "execute_result"
    }
   ],
   "source": [
    "poc238"
   ]
  },
  {
   "cell_type": "code",
   "execution_count": 59,
   "metadata": {},
   "outputs": [],
   "source": [
    "poc238_lst = poc238[poc238['TSCA_POC']==1]['dsstox_substance_id'].tolist()"
   ]
  },
  {
   "cell_type": "code",
   "execution_count": 60,
   "metadata": {},
   "outputs": [],
   "source": [
    "calls_poc = calls_df[calls_df['dtxsid'].isin(poc238_lst)]"
   ]
  },
  {
   "cell_type": "code",
   "execution_count": 61,
   "metadata": {},
   "outputs": [
    {
     "data": {
      "text/plain": [
       "gentox             81\n",
       "non gentox         77\n",
       "clastogen          33\n",
       "pred non gentox    10\n",
       "pred gentox         8\n",
       "inconclusive        6\n",
       "pred clastogen      6\n",
       "not clastogen       4\n",
       "Name: Overall_genetox_call, dtype: int64"
      ]
     },
     "execution_count": 61,
     "metadata": {},
     "output_type": "execute_result"
    }
   ],
   "source": [
    "calls_poc['Overall_genetox_call'].value_counts(dropna = False, normalize = False)"
   ]
  },
  {
   "cell_type": "code",
   "execution_count": 63,
   "metadata": {},
   "outputs": [
    {
     "data": {
      "text/plain": [
       "Index(['dtxsid', 'Overall_genetox_call', 'overall_genetox_score'], dtype='object')"
      ]
     },
     "execution_count": 63,
     "metadata": {},
     "output_type": "execute_result"
    }
   ],
   "source": [
    "calls_poc.columns"
   ]
  },
  {
   "cell_type": "code",
   "execution_count": 64,
   "metadata": {},
   "outputs": [
    {
     "data": {
      "text/plain": [
       "4    0.506667\n",
       "1    0.404444\n",
       "3    0.062222\n",
       "2    0.026667\n",
       "Name: overall_genetox_score, dtype: float64"
      ]
     },
     "execution_count": 64,
     "metadata": {},
     "output_type": "execute_result"
    }
   ],
   "source": [
    "calls_poc['overall_genetox_score'].value_counts(dropna = False, normalize = True)"
   ]
  },
  {
   "cell_type": "code",
   "execution_count": 65,
   "metadata": {},
   "outputs": [
    {
     "data": {
      "text/plain": [
       "(225, 3)"
      ]
     },
     "execution_count": 65,
     "metadata": {},
     "output_type": "execute_result"
    }
   ],
   "source": [
    "calls_poc.shape\n"
   ]
  },
  {
   "cell_type": "code",
   "execution_count": 66,
   "metadata": {},
   "outputs": [
    {
     "data": {
      "text/plain": [
       "4    114\n",
       "1     91\n",
       "3     14\n",
       "2      6\n",
       "Name: overall_genetox_score, dtype: int64"
      ]
     },
     "execution_count": 66,
     "metadata": {},
     "output_type": "execute_result"
    }
   ],
   "source": [
    "calls_poc['overall_genetox_score'].value_counts(dropna = False, normalize = False)"
   ]
  },
  {
   "cell_type": "code",
   "execution_count": 68,
   "metadata": {},
   "outputs": [
    {
     "data": {
      "image/png": "[encoded data removed]",
      "text/plain": [
       "<Figure size 648x432 with 1 Axes>"
      ]
     },
     "metadata": {},
     "output_type": "display_data"
    }
   ],
   "source": [
    "plt.style.use('ggplot')\n",
    "plt.figure(figsize = (9,6))\n",
    "calls_poc.overall_genetox_score.value_counts().sort_index().plot.bar()\n",
    "plt.xlabel('Overall Genotoxicity call')\n",
    "plt.ylabel('Count')\n",
    "plt.xticks(rotation = 0)\n",
    "plt.tight_layout()\n",
    "plt.savefig(figures_dir+'Figure6_POC_scores.png', dpi = 300)"
   ]
  },
  {
   "cell_type": "markdown",
   "metadata": {},
   "source": [
    "#### Picking one chemical for interpretation"
   ]
  },
  {
   "cell_type": "code",
   "execution_count": 69,
   "metadata": {},
   "outputs": [
    {
     "data": {
      "text/html": [
       "<div>\n",
       "<style scoped>\n",
       "    .dataframe tbody tr th:only-of-type {\n",
       "        vertical-align: middle;\n",
       "    }\n",
       "\n",
       "    .dataframe tbody tr th {\n",
       "        vertical-align: top;\n",
       "    }\n",
       "\n",
       "    .dataframe thead th {\n",
       "        text-align: right;\n",
       "    }\n",
       "</style>\n",
       "<table border=\"1\" class=\"dataframe\">\n",
       "  <thead>\n",
       "    <tr style=\"text-align: right;\">\n",
       "      <th></th>\n",
       "      <th>dtxsid</th>\n",
       "      <th>Overall_genetox_call</th>\n",
       "      <th>overall_genetox_score</th>\n",
       "    </tr>\n",
       "  </thead>\n",
       "  <tbody>\n",
       "    <tr>\n",
       "      <th>145</th>\n",
       "      <td>DTXSID0020280</td>\n",
       "      <td>gentox</td>\n",
       "      <td>4</td>\n",
       "    </tr>\n",
       "  </tbody>\n",
       "</table>\n",
       "</div>"
      ],
      "text/plain": [
       "            dtxsid Overall_genetox_call  overall_genetox_score\n",
       "145  DTXSID0020280               gentox                      4"
      ]
     },
     "execution_count": 69,
     "metadata": {},
     "output_type": "execute_result"
    }
   ],
   "source": [
    "calls_poc[calls_poc['dtxsid'] == 'DTXSID0020280']"
   ]
  },
  {
   "cell_type": "code",
   "execution_count": 70,
   "metadata": {},
   "outputs": [],
   "source": [
    "dtx_spec = genetox_final[genetox_final['dtxsid'] == 'DTXSID0020280']"
   ]
  },
  {
   "cell_type": "code",
   "execution_count": 75,
   "metadata": {},
   "outputs": [
    {
     "data": {
      "text/plain": [
       "(88, 35)"
      ]
     },
     "execution_count": 75,
     "metadata": {},
     "output_type": "execute_result"
    }
   ],
   "source": [
    "dtx_spec.shape"
   ]
  },
  {
   "cell_type": "code",
   "execution_count": 81,
   "metadata": {},
   "outputs": [
    {
     "data": {
      "text/plain": [
       "1.0    30\n",
       "0.0    19\n",
       "Name: assay_outcome, dtype: int64"
      ]
     },
     "execution_count": 81,
     "metadata": {},
     "output_type": "execute_result"
    }
   ],
   "source": [
    "dtx_spec[dtx_spec['simple_aggregate'].isin(['Ames'])]['assay_outcome'].value_counts()"
   ]
  },
  {
   "cell_type": "code",
   "execution_count": 82,
   "metadata": {},
   "outputs": [
    {
     "data": {
      "text/plain": [
       "0.0    7\n",
       "2.0    4\n",
       "1.0    3\n",
       "Name: assay_outcome, dtype: int64"
      ]
     },
     "execution_count": 82,
     "metadata": {},
     "output_type": "execute_result"
    }
   ],
   "source": [
    "dtx_spec[dtx_spec['simple_aggregate'].isin(['clastogen'])]['assay_outcome'].value_counts()"
   ]
  },
  {
   "cell_type": "code",
   "execution_count": 71,
   "metadata": {},
   "outputs": [
    {
     "data": {
      "text/plain": [
       "1.0    1\n",
       "0.0    1\n",
       "Name: assay_outcome, dtype: int64"
      ]
     },
     "execution_count": 71,
     "metadata": {},
     "output_type": "execute_result"
    }
   ],
   "source": [
    "dtx_spec[dtx_spec['simple_aggregate']== 'pclastogen']['assay_outcome'].value_counts()"
   ]
  },
  {
   "cell_type": "code",
   "execution_count": 83,
   "metadata": {},
   "outputs": [
    {
     "data": {
      "text/plain": [
       "1.0    4\n",
       "0.0    1\n",
       "Name: assay_outcome, dtype: int64"
      ]
     },
     "execution_count": 83,
     "metadata": {},
     "output_type": "execute_result"
    }
   ],
   "source": [
    "dtx_spec[dtx_spec['simple_aggregate']== 'pAmes']['assay_outcome'].value_counts()"
   ]
  },
  {
   "cell_type": "markdown",
   "metadata": {},
   "source": [
    "#### Filter overall TSCA calls to only retain experimental data"
   ]
  },
  {
   "cell_type": "code",
   "execution_count": 84,
   "metadata": {},
   "outputs": [],
   "source": [
    "expt_calls_df = calls_tsca[calls_tsca.Overall_genetox_call.isin(['non gentox',\n",
    "       'gentox', 'clastogen','not clastogen', 'non gentox'])]"
   ]
  },
  {
   "cell_type": "code",
   "execution_count": 87,
   "metadata": {},
   "outputs": [
    {
     "data": {
      "text/plain": [
       "6194"
      ]
     },
     "execution_count": 87,
     "metadata": {},
     "output_type": "execute_result"
    }
   ],
   "source": [
    "expt_calls_df.dtxsid.nunique()"
   ]
  },
  {
   "cell_type": "code",
   "execution_count": 88,
   "metadata": {},
   "outputs": [],
   "source": [
    "expt_ids = expt_calls_df.dtxsid.tolist()"
   ]
  },
  {
   "cell_type": "code",
   "execution_count": 89,
   "metadata": {},
   "outputs": [],
   "source": [
    "insilico_df = insilico.reset_index()"
   ]
  },
  {
   "cell_type": "code",
   "execution_count": 90,
   "metadata": {},
   "outputs": [
    {
     "data": {
      "text/html": [
       "<div>\n",
       "<style scoped>\n",
       "    .dataframe tbody tr th:only-of-type {\n",
       "        vertical-align: middle;\n",
       "    }\n",
       "\n",
       "    .dataframe tbody tr th {\n",
       "        vertical-align: top;\n",
       "    }\n",
       "\n",
       "    .dataframe thead th {\n",
       "        text-align: right;\n",
       "    }\n",
       "</style>\n",
       "<table border=\"1\" class=\"dataframe\">\n",
       "  <thead>\n",
       "    <tr style=\"text-align: right;\">\n",
       "      <th></th>\n",
       "      <th>dtxsid</th>\n",
       "      <th>aggregate_study_type</th>\n",
       "      <th>assay_outcome</th>\n",
       "      <th>simple_aggregate</th>\n",
       "    </tr>\n",
       "  </thead>\n",
       "  <tbody>\n",
       "    <tr>\n",
       "      <th>0</th>\n",
       "      <td>DTXSID2020004</td>\n",
       "      <td>DNA_Ames_CA_MNT_OASIS</td>\n",
       "      <td>0.0</td>\n",
       "      <td>pAmes</td>\n",
       "    </tr>\n",
       "    <tr>\n",
       "      <th>1</th>\n",
       "      <td>DTXSID7020005</td>\n",
       "      <td>DNA_Ames_CA_MNT_OASIS</td>\n",
       "      <td>0.0</td>\n",
       "      <td>pAmes</td>\n",
       "    </tr>\n",
       "    <tr>\n",
       "      <th>2</th>\n",
       "      <td>DTXSID2020006</td>\n",
       "      <td>DNA_Ames_CA_MNT_OASIS</td>\n",
       "      <td>0.0</td>\n",
       "      <td>pAmes</td>\n",
       "    </tr>\n",
       "    <tr>\n",
       "      <th>3</th>\n",
       "      <td>DTXSID7020009</td>\n",
       "      <td>DNA_Ames_CA_MNT_OASIS</td>\n",
       "      <td>0.0</td>\n",
       "      <td>pAmes</td>\n",
       "    </tr>\n",
       "    <tr>\n",
       "      <th>4</th>\n",
       "      <td>DTXSID6020010</td>\n",
       "      <td>DNA_Ames_CA_MNT_OASIS</td>\n",
       "      <td>0.0</td>\n",
       "      <td>pAmes</td>\n",
       "    </tr>\n",
       "  </tbody>\n",
       "</table>\n",
       "</div>"
      ],
      "text/plain": [
       "          dtxsid   aggregate_study_type  assay_outcome simple_aggregate\n",
       "0  DTXSID2020004  DNA_Ames_CA_MNT_OASIS            0.0            pAmes\n",
       "1  DTXSID7020005  DNA_Ames_CA_MNT_OASIS            0.0            pAmes\n",
       "2  DTXSID2020006  DNA_Ames_CA_MNT_OASIS            0.0            pAmes\n",
       "3  DTXSID7020009  DNA_Ames_CA_MNT_OASIS            0.0            pAmes\n",
       "4  DTXSID6020010  DNA_Ames_CA_MNT_OASIS            0.0            pAmes"
      ]
     },
     "execution_count": 90,
     "metadata": {},
     "output_type": "execute_result"
    }
   ],
   "source": [
    "insilico_df.head()"
   ]
  },
  {
   "cell_type": "markdown",
   "metadata": {},
   "source": [
    "#### Reprofile the in silico set just on the basis of predicted outcomes"
   ]
  },
  {
   "cell_type": "code",
   "execution_count": 92,
   "metadata": {},
   "outputs": [],
   "source": [
    "insilico_calls = {}\n",
    "for i, group in insilico_df.groupby('dtxsid'):\n",
    "    subset = group[['simple_aggregate', 'assay_outcome']]\n",
    "    tuples = [tuple(x) for x in subset.values]\n",
    "    if ('Ames', 1) in tuples:\n",
    "        insilico_calls[i]='gentox'\n",
    "    elif ('clastogen', 1) in tuples:\n",
    "        insilico_calls[i]='clastogen'  \n",
    "    elif ('Ames', 2) in tuples:\n",
    "        insilico_calls[i]='inconclusive'    \n",
    "    elif ('clastogen', 2) in tuples:\n",
    "        insilico_calls[i]='inconclusive' \n",
    "    elif ('Ames', 0) in tuples:\n",
    "        insilico_insilico_calls[i]='non gentox'\n",
    "    elif ('clastogen', 0) in tuples:\n",
    "        insilico_calls[i]='not clastogen'    \n",
    "    elif ('pAmes', 1) in tuples:\n",
    "        insilico_calls[i]='pred gentox'\n",
    "    elif ('pclastogen', 1) in tuples:\n",
    "        insilico_calls[i]='pred clastogen'\n",
    "    elif ('pAmes', 0) in tuples:\n",
    "        insilico_calls[i]='pred non gentox'\n",
    "    elif ('pclastogen', 0) in tuples:\n",
    "        insilico_calls[i]='pred non clastogen'\n",
    "    else:\n",
    "        None"
   ]
  },
  {
   "cell_type": "code",
   "execution_count": 93,
   "metadata": {},
   "outputs": [],
   "source": [
    "insilico_calls_df = pd.DataFrame(list(insilico_calls.items()), columns = ['dtxsid', 'overall_call'])"
   ]
  },
  {
   "cell_type": "code",
   "execution_count": 95,
   "metadata": {},
   "outputs": [
    {
     "data": {
      "text/plain": [
       "array(['pred clastogen', 'pred gentox', 'pred non gentox'], dtype=object)"
      ]
     },
     "execution_count": 95,
     "metadata": {},
     "output_type": "execute_result"
    }
   ],
   "source": [
    "insilico_calls_df.overall_call.unique()"
   ]
  },
  {
   "cell_type": "code",
   "execution_count": 96,
   "metadata": {},
   "outputs": [],
   "source": [
    "tag_pred = {'pred gentox': 4, 'pred non gentox': 1, 'pred clastogen' :4}"
   ]
  },
  {
   "cell_type": "code",
   "execution_count": 97,
   "metadata": {},
   "outputs": [],
   "source": [
    "preds_df = insilico_calls_df[insilico_calls_df['dtxsid'].isin(expt_ids)]"
   ]
  },
  {
   "cell_type": "markdown",
   "metadata": {},
   "source": [
    "#### Merge this with the experimental calls from the TSCA set and use standard metrics to evaluate performance"
   ]
  },
  {
   "cell_type": "code",
   "execution_count": 99,
   "metadata": {},
   "outputs": [],
   "source": [
    "merged_df = pd.merge(preds_df, expt_calls_df, on = 'dtxsid')"
   ]
  },
  {
   "cell_type": "code",
   "execution_count": 100,
   "metadata": {},
   "outputs": [],
   "source": [
    "merged_df['predicted_score'] = merged_df['overall_call'].map(tag_pred)"
   ]
  },
  {
   "cell_type": "code",
   "execution_count": 101,
   "metadata": {},
   "outputs": [],
   "source": [
    "tag_pred2 ={4:1, 1:0}"
   ]
  },
  {
   "cell_type": "code",
   "execution_count": 102,
   "metadata": {},
   "outputs": [],
   "source": [
    "merged_df = merged_df.replace(tag_pred2)"
   ]
  },
  {
   "cell_type": "code",
   "execution_count": 103,
   "metadata": {},
   "outputs": [
    {
     "data": {
      "text/plain": [
       "0    3636\n",
       "1    1594\n",
       "Name: overall_genetox_score, dtype: int64"
      ]
     },
     "execution_count": 103,
     "metadata": {},
     "output_type": "execute_result"
    }
   ],
   "source": [
    "merged_df.overall_genetox_score.value_counts()"
   ]
  },
  {
   "cell_type": "code",
   "execution_count": 105,
   "metadata": {},
   "outputs": [
    {
     "data": {
      "text/plain": [
       "(5230, 5)"
      ]
     },
     "execution_count": 105,
     "metadata": {},
     "output_type": "execute_result"
    }
   ],
   "source": [
    "merged_df.shape"
   ]
  },
  {
   "cell_type": "code",
   "execution_count": 118,
   "metadata": {},
   "outputs": [],
   "source": [
    "from sklearn.metrics import recall_score\n",
    "\n",
    "from sklearn.metrics import roc_auc_score"
   ]
  },
  {
   "cell_type": "code",
   "execution_count": 119,
   "metadata": {},
   "outputs": [],
   "source": [
    "from sklearn.metrics import confusion_matrix\n",
    "from sklearn.metrics import classification_report"
   ]
  },
  {
   "cell_type": "code",
   "execution_count": 120,
   "metadata": {},
   "outputs": [
    {
     "name": "stdout",
     "output_type": "stream",
     "text": [
      "0.5753202672839429\n"
     ]
    }
   ],
   "source": [
    "print(roc_auc_score(merged_df['overall_genetox_score'], merged_df['predicted_score']))"
   ]
  },
  {
   "cell_type": "code",
   "execution_count": 121,
   "metadata": {},
   "outputs": [
    {
     "data": {
      "text/plain": [
       "array([[1394, 2242],\n",
       "       [ 371, 1223]])"
      ]
     },
     "execution_count": 121,
     "metadata": {},
     "output_type": "execute_result"
    }
   ],
   "source": [
    "confusion_matrix(merged_df['overall_genetox_score'], merged_df['predicted_score'])"
   ]
  },
  {
   "cell_type": "code",
   "execution_count": 130,
   "metadata": {},
   "outputs": [
    {
     "name": "stdout",
     "output_type": "stream",
     "text": [
      "1394 2242 371 1223\n"
     ]
    }
   ],
   "source": [
    "tn, fp, fn, tp =confusion_matrix(merged_df['overall_genetox_score'], merged_df['predicted_score']).ravel()\n",
    "print(tn,fp, fn,tp)"
   ]
  },
  {
   "cell_type": "code",
   "execution_count": 122,
   "metadata": {},
   "outputs": [
    {
     "data": {
      "text/plain": [
       "0    3636\n",
       "1    1594\n",
       "Name: overall_genetox_score, dtype: int64"
      ]
     },
     "execution_count": 122,
     "metadata": {},
     "output_type": "execute_result"
    }
   ],
   "source": [
    "merged_df['overall_genetox_score'].value_counts()"
   ]
  },
  {
   "cell_type": "code",
   "execution_count": 123,
   "metadata": {},
   "outputs": [
    {
     "data": {
      "text/html": [
       "<div>\n",
       "<style scoped>\n",
       "    .dataframe tbody tr th:only-of-type {\n",
       "        vertical-align: middle;\n",
       "    }\n",
       "\n",
       "    .dataframe tbody tr th {\n",
       "        vertical-align: top;\n",
       "    }\n",
       "\n",
       "    .dataframe thead th {\n",
       "        text-align: right;\n",
       "    }\n",
       "</style>\n",
       "<table border=\"1\" class=\"dataframe\">\n",
       "  <thead>\n",
       "    <tr style=\"text-align: right;\">\n",
       "      <th>predicted_score</th>\n",
       "      <th>0</th>\n",
       "      <th>1</th>\n",
       "    </tr>\n",
       "    <tr>\n",
       "      <th>overall_genetox_score</th>\n",
       "      <th></th>\n",
       "      <th></th>\n",
       "    </tr>\n",
       "  </thead>\n",
       "  <tbody>\n",
       "    <tr>\n",
       "      <th>0</th>\n",
       "      <td>1394</td>\n",
       "      <td>2242</td>\n",
       "    </tr>\n",
       "    <tr>\n",
       "      <th>1</th>\n",
       "      <td>371</td>\n",
       "      <td>1223</td>\n",
       "    </tr>\n",
       "  </tbody>\n",
       "</table>\n",
       "</div>"
      ],
      "text/plain": [
       "predicted_score           0     1\n",
       "overall_genetox_score            \n",
       "0                      1394  2242\n",
       "1                       371  1223"
      ]
     },
     "execution_count": 123,
     "metadata": {},
     "output_type": "execute_result"
    }
   ],
   "source": [
    "pd.crosstab(merged_df['overall_genetox_score'], merged_df['predicted_score'])"
   ]
  },
  {
   "cell_type": "code",
   "execution_count": 124,
   "metadata": {},
   "outputs": [],
   "source": [
    "tn, fp, fn, tp = pd.crosstab(merged_df['overall_genetox_score'], merged_df['predicted_score']).values.ravel()"
   ]
  },
  {
   "cell_type": "code",
   "execution_count": 129,
   "metadata": {},
   "outputs": [
    {
     "name": "stdout",
     "output_type": "stream",
     "text": [
      "1394 2242 371 1223\n"
     ]
    }
   ],
   "source": [
    "print(tn, fp, fn, tp)"
   ]
  },
  {
   "cell_type": "code",
   "execution_count": 126,
   "metadata": {},
   "outputs": [
    {
     "name": "stdout",
     "output_type": "stream",
     "text": [
      "0.7672521957340025\n"
     ]
    }
   ],
   "source": [
    "sens = tp/(tp+fn)\n",
    "print(sens)"
   ]
  },
  {
   "cell_type": "code",
   "execution_count": 127,
   "metadata": {},
   "outputs": [
    {
     "name": "stdout",
     "output_type": "stream",
     "text": [
      "0.3833883388338834\n"
     ]
    }
   ],
   "source": [
    "spec = tn/(tn+fp)\n",
    "print(spec)"
   ]
  },
  {
   "cell_type": "code",
   "execution_count": 128,
   "metadata": {},
   "outputs": [
    {
     "name": "stdout",
     "output_type": "stream",
     "text": [
      "0.5753202672839429\n"
     ]
    }
   ],
   "source": [
    "print((sens + spec)/2)"
   ]
  },
  {
   "cell_type": "code",
   "execution_count": null,
   "metadata": {},
   "outputs": [],
   "source": []
  }
 ],
 "metadata": {
  "kernelspec": {
   "display_name": "Python 3",
   "language": "python",
   "name": "python3"
  },
  "language_info": {
   "codemirror_mode": {
    "name": "ipython",
    "version": 3
   },
   "file_extension": ".py",
   "mimetype": "text/x-python",
   "name": "python",
   "nbconvert_exporter": "python",
   "pygments_lexer": "ipython3",
   "version": "3.7.6"
  }
 },
 "nbformat": 4,
 "nbformat_minor": 4
}
