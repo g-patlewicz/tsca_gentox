{
 "cells": [
  {
   "cell_type": "code",
   "execution_count": 2,
   "metadata": {},
   "outputs": [],
   "source": [
    "import numpy as np\n",
    "import pandas as pd\n",
    "import matplotlib.pyplot as plt\n",
    "import seaborn as sn\n",
    "%matplotlib inline"
   ]
  },
  {
   "cell_type": "code",
   "execution_count": 3,
   "metadata": {},
   "outputs": [],
   "source": [
    "TEST_1 = pd.read_csv('TSCA_1_out.csv')"
   ]
  },
  {
   "cell_type": "code",
   "execution_count": 4,
   "metadata": {},
   "outputs": [],
   "source": [
    "TEST_2 = pd.read_csv('TSCA_2_out.csv')"
   ]
  },
  {
   "cell_type": "code",
   "execution_count": 5,
   "metadata": {},
   "outputs": [],
   "source": [
    "TEST_1.set_index('ID', inplace = True)\n",
    "TEST_2.set_index('ID', inplace = True)"
   ]
  },
  {
   "cell_type": "code",
   "execution_count": 6,
   "metadata": {},
   "outputs": [],
   "source": [
    "df_test = pd.concat([TEST_1, TEST_2], axis = 0)"
   ]
  },
  {
   "cell_type": "code",
   "execution_count": 7,
   "metadata": {},
   "outputs": [
    {
     "data": {
      "text/plain": [
       "Index(['Index', 'Query', 'SmilesRan', 'Error', 'Exp_Value', 'Pred_Value',\n",
       "       'Exp_Result', 'Pred_Result'],\n",
       "      dtype='object')"
      ]
     },
     "execution_count": 7,
     "metadata": {},
     "output_type": "execute_result"
    }
   ],
   "source": [
    "df_test.columns"
   ]
  },
  {
   "cell_type": "code",
   "execution_count": 8,
   "metadata": {},
   "outputs": [
    {
     "data": {
      "text/plain": [
       "array([nan, 'Multiple molecules', 'FindPaths',\n",
       "       'Molecule contains unsupported element',\n",
       "       'Molecule does not contain carbon', 'Only one nonhydrogen atom',\n",
       "       'FindRings'], dtype=object)"
      ]
     },
     "execution_count": 8,
     "metadata": {},
     "output_type": "execute_result"
    }
   ],
   "source": [
    "df_test.Error.unique()"
   ]
  },
  {
   "cell_type": "code",
   "execution_count": 9,
   "metadata": {},
   "outputs": [],
   "source": [
    "df_test['TEST_prediction'] = df_test.apply(lambda x : 1 if x['Pred_Value'] >=0.5 else (np.nan if x['Error'] in ['Multiple molecules', 'FindPaths',\n",
    "       'Molecule contains unsupported element',\n",
    "       'Molecule does not contain carbon', 'Only one nonhydrogen atom',\n",
    "       'FindRings'] else 0), axis = 1)"
   ]
  },
  {
   "cell_type": "code",
   "execution_count": 10,
   "metadata": {},
   "outputs": [
    {
     "data": {
      "text/plain": [
       " 0.0    10526\n",
       "NaN      6941\n",
       " 1.0     2156\n",
       "Name: TEST_prediction, dtype: int64"
      ]
     },
     "execution_count": 10,
     "metadata": {},
     "output_type": "execute_result"
    }
   ],
   "source": [
    "df_test.TEST_prediction.value_counts(dropna = False)"
   ]
  },
  {
   "cell_type": "code",
   "execution_count": 11,
   "metadata": {},
   "outputs": [],
   "source": [
    "df_test[~df_test['Error'].isnull()].to_csv('TEST_errors.csv')"
   ]
  },
  {
   "cell_type": "code",
   "execution_count": 12,
   "metadata": {},
   "outputs": [],
   "source": [
    "test_missing_1 = pd.read_excel('TEST_missing_1.xlsx')"
   ]
  },
  {
   "cell_type": "code",
   "execution_count": 13,
   "metadata": {},
   "outputs": [],
   "source": [
    "test_missing_2 = pd.read_excel('TEST_missing_2.xlsx')"
   ]
  },
  {
   "cell_type": "code",
   "execution_count": 14,
   "metadata": {},
   "outputs": [
    {
     "data": {
      "text/plain": [
       "(4998, 7)"
      ]
     },
     "execution_count": 14,
     "metadata": {},
     "output_type": "execute_result"
    }
   ],
   "source": [
    "test_missing_1.shape"
   ]
  },
  {
   "cell_type": "code",
   "execution_count": 15,
   "metadata": {},
   "outputs": [
    {
     "data": {
      "text/plain": [
       "(1943, 6)"
      ]
     },
     "execution_count": 15,
     "metadata": {},
     "output_type": "execute_result"
    }
   ],
   "source": [
    "test_missing_2.shape"
   ]
  },
  {
   "cell_type": "code",
   "execution_count": 16,
   "metadata": {},
   "outputs": [
    {
     "name": "stderr",
     "output_type": "stream",
     "text": [
      "/home/gpatlewi/anaconda3/lib/python3.6/site-packages/ipykernel_launcher.py:4: FutureWarning: Sorting because non-concatenation axis is not aligned. A future version\n",
      "of pandas will change to not sort by default.\n",
      "\n",
      "To accept the future behavior, pass 'sort=True'.\n",
      "\n",
      "To retain the current behavior and silence the warning, pass sort=False\n",
      "\n",
      "  after removing the cwd from sys.path.\n"
     ]
    }
   ],
   "source": [
    "test_missing_1.set_index('INPUT', inplace = True)\n",
    "test_missing_2.set_index('INPUT', inplace = True)\n",
    "\n",
    "test_missing = pd.concat([test_missing_1, test_missing_2], axis = 0)"
   ]
  },
  {
   "cell_type": "code",
   "execution_count": 17,
   "metadata": {},
   "outputs": [
    {
     "data": {
      "text/plain": [
       "(6941, 6)"
      ]
     },
     "execution_count": 17,
     "metadata": {},
     "output_type": "execute_result"
    }
   ],
   "source": [
    "test_missing.shape"
   ]
  },
  {
   "cell_type": "code",
   "execution_count": 30,
   "metadata": {},
   "outputs": [],
   "source": [
    "test_missing.to_csv('TEST_errors_smi.csv')"
   ]
  },
  {
   "cell_type": "code",
   "execution_count": 18,
   "metadata": {},
   "outputs": [
    {
     "data": {
      "text/plain": [
       "(6941, 6)"
      ]
     },
     "execution_count": 18,
     "metadata": {},
     "output_type": "execute_result"
    }
   ],
   "source": [
    "test_missing.shape"
   ]
  },
  {
   "cell_type": "code",
   "execution_count": 19,
   "metadata": {},
   "outputs": [],
   "source": [
    "test_missing_smi = pd.read_csv('TEST_missing_new.csv')"
   ]
  },
  {
   "cell_type": "code",
   "execution_count": 20,
   "metadata": {},
   "outputs": [
    {
     "data": {
      "text/html": [
       "<div>\n",
       "<style scoped>\n",
       "    .dataframe tbody tr th:only-of-type {\n",
       "        vertical-align: middle;\n",
       "    }\n",
       "\n",
       "    .dataframe tbody tr th {\n",
       "        vertical-align: top;\n",
       "    }\n",
       "\n",
       "    .dataframe thead th {\n",
       "        text-align: right;\n",
       "    }\n",
       "</style>\n",
       "<table border=\"1\" class=\"dataframe\">\n",
       "  <thead>\n",
       "    <tr style=\"text-align: right;\">\n",
       "      <th></th>\n",
       "      <th>INPUT</th>\n",
       "      <th>QSAR_READY_SMILES</th>\n",
       "    </tr>\n",
       "  </thead>\n",
       "  <tbody>\n",
       "    <tr>\n",
       "      <th>0</th>\n",
       "      <td>DTXSID5020075</td>\n",
       "      <td>NC1=CC=C(C=C1)N(CCO)CCO</td>\n",
       "    </tr>\n",
       "    <tr>\n",
       "      <th>1</th>\n",
       "      <td>DTXSID5020079</td>\n",
       "      <td>OC(=O)CC(O)(CC(O)=O)C(O)=O</td>\n",
       "    </tr>\n",
       "    <tr>\n",
       "      <th>2</th>\n",
       "      <td>DTXSID3020091</td>\n",
       "      <td>NC1=CC=CC=C1</td>\n",
       "    </tr>\n",
       "    <tr>\n",
       "      <th>3</th>\n",
       "      <td>DTXSID3020093</td>\n",
       "      <td>COC1=CC=C(N)C=C1</td>\n",
       "    </tr>\n",
       "    <tr>\n",
       "      <th>4</th>\n",
       "      <td>DTXSID3020095</td>\n",
       "      <td>O=C1C2=C(C=CC=C2)C(=O)C2=C1C=CC=C2</td>\n",
       "    </tr>\n",
       "  </tbody>\n",
       "</table>\n",
       "</div>"
      ],
      "text/plain": [
       "           INPUT                   QSAR_READY_SMILES\n",
       "0  DTXSID5020075             NC1=CC=C(C=C1)N(CCO)CCO\n",
       "1  DTXSID5020079          OC(=O)CC(O)(CC(O)=O)C(O)=O\n",
       "2  DTXSID3020091                        NC1=CC=CC=C1\n",
       "3  DTXSID3020093                    COC1=CC=C(N)C=C1\n",
       "4  DTXSID3020095  O=C1C2=C(C=CC=C2)C(=O)C2=C1C=CC=C2"
      ]
     },
     "execution_count": 20,
     "metadata": {},
     "output_type": "execute_result"
    }
   ],
   "source": [
    "test_missing_smi.head()"
   ]
  },
  {
   "cell_type": "code",
   "execution_count": 21,
   "metadata": {},
   "outputs": [
    {
     "data": {
      "text/html": [
       "<div>\n",
       "<style scoped>\n",
       "    .dataframe tbody tr th:only-of-type {\n",
       "        vertical-align: middle;\n",
       "    }\n",
       "\n",
       "    .dataframe tbody tr th {\n",
       "        vertical-align: top;\n",
       "    }\n",
       "\n",
       "    .dataframe thead th {\n",
       "        text-align: right;\n",
       "    }\n",
       "</style>\n",
       "<table border=\"1\" class=\"dataframe\">\n",
       "  <thead>\n",
       "    <tr style=\"text-align: right;\">\n",
       "      <th></th>\n",
       "      <th>Index</th>\n",
       "      <th>Query</th>\n",
       "      <th>SmilesRan</th>\n",
       "      <th>Error</th>\n",
       "      <th>Exp_Value</th>\n",
       "      <th>Pred_Value</th>\n",
       "      <th>Exp_Result</th>\n",
       "      <th>Pred_Result</th>\n",
       "      <th>TEST_prediction</th>\n",
       "    </tr>\n",
       "    <tr>\n",
       "      <th>ID</th>\n",
       "      <th></th>\n",
       "      <th></th>\n",
       "      <th></th>\n",
       "      <th></th>\n",
       "      <th></th>\n",
       "      <th></th>\n",
       "      <th></th>\n",
       "      <th></th>\n",
       "      <th></th>\n",
       "    </tr>\n",
       "  </thead>\n",
       "  <tbody>\n",
       "    <tr>\n",
       "      <th>DTXSID2020004</th>\n",
       "      <td>1</td>\n",
       "      <td>DTXSID2020004</td>\n",
       "      <td>ON=CC</td>\n",
       "      <td>NaN</td>\n",
       "      <td>1.0</td>\n",
       "      <td>0.70</td>\n",
       "      <td>Mutagenicity Positive</td>\n",
       "      <td>Mutagenicity Positive</td>\n",
       "      <td>1.0</td>\n",
       "    </tr>\n",
       "    <tr>\n",
       "      <th>DTXSID7020005</th>\n",
       "      <td>2</td>\n",
       "      <td>DTXSID7020005</td>\n",
       "      <td>O=C(N)C</td>\n",
       "      <td>NaN</td>\n",
       "      <td>0.0</td>\n",
       "      <td>-0.04</td>\n",
       "      <td>Mutagenicity Negative</td>\n",
       "      <td>Mutagenicity Negative</td>\n",
       "      <td>0.0</td>\n",
       "    </tr>\n",
       "    <tr>\n",
       "      <th>DTXSID2020006</th>\n",
       "      <td>3</td>\n",
       "      <td>DTXSID2020006</td>\n",
       "      <td>O=C(NC1=CC=C(O)C=C1)C</td>\n",
       "      <td>NaN</td>\n",
       "      <td>0.0</td>\n",
       "      <td>0.28</td>\n",
       "      <td>Mutagenicity Negative</td>\n",
       "      <td>Mutagenicity Negative</td>\n",
       "      <td>0.0</td>\n",
       "    </tr>\n",
       "    <tr>\n",
       "      <th>DTXSID7020009</th>\n",
       "      <td>4</td>\n",
       "      <td>DTXSID7020009</td>\n",
       "      <td>N#CC</td>\n",
       "      <td>NaN</td>\n",
       "      <td>0.0</td>\n",
       "      <td>0.04</td>\n",
       "      <td>Mutagenicity Negative</td>\n",
       "      <td>Mutagenicity Negative</td>\n",
       "      <td>0.0</td>\n",
       "    </tr>\n",
       "    <tr>\n",
       "      <th>DTXSID6020010</th>\n",
       "      <td>5</td>\n",
       "      <td>DTXSID6020010</td>\n",
       "      <td>ON=C(C)C</td>\n",
       "      <td>NaN</td>\n",
       "      <td>NaN</td>\n",
       "      <td>0.44</td>\n",
       "      <td>NaN</td>\n",
       "      <td>Mutagenicity Negative</td>\n",
       "      <td>0.0</td>\n",
       "    </tr>\n",
       "  </tbody>\n",
       "</table>\n",
       "</div>"
      ],
      "text/plain": [
       "               Index          Query              SmilesRan Error  Exp_Value  \\\n",
       "ID                                                                            \n",
       "DTXSID2020004      1  DTXSID2020004                  ON=CC   NaN        1.0   \n",
       "DTXSID7020005      2  DTXSID7020005                O=C(N)C   NaN        0.0   \n",
       "DTXSID2020006      3  DTXSID2020006  O=C(NC1=CC=C(O)C=C1)C   NaN        0.0   \n",
       "DTXSID7020009      4  DTXSID7020009                   N#CC   NaN        0.0   \n",
       "DTXSID6020010      5  DTXSID6020010               ON=C(C)C   NaN        NaN   \n",
       "\n",
       "               Pred_Value             Exp_Result            Pred_Result  \\\n",
       "ID                                                                        \n",
       "DTXSID2020004        0.70  Mutagenicity Positive  Mutagenicity Positive   \n",
       "DTXSID7020005       -0.04  Mutagenicity Negative  Mutagenicity Negative   \n",
       "DTXSID2020006        0.28  Mutagenicity Negative  Mutagenicity Negative   \n",
       "DTXSID7020009        0.04  Mutagenicity Negative  Mutagenicity Negative   \n",
       "DTXSID6020010        0.44                    NaN  Mutagenicity Negative   \n",
       "\n",
       "               TEST_prediction  \n",
       "ID                              \n",
       "DTXSID2020004              1.0  \n",
       "DTXSID7020005              0.0  \n",
       "DTXSID2020006              0.0  \n",
       "DTXSID7020009              0.0  \n",
       "DTXSID6020010              0.0  "
      ]
     },
     "execution_count": 21,
     "metadata": {},
     "output_type": "execute_result"
    }
   ],
   "source": [
    "df_test.head()"
   ]
  },
  {
   "cell_type": "code",
   "execution_count": 22,
   "metadata": {},
   "outputs": [],
   "source": [
    "import glob"
   ]
  },
  {
   "cell_type": "code",
   "execution_count": 23,
   "metadata": {},
   "outputs": [],
   "source": [
    "test_redone = glob.glob('TEST_errors_out*.csv')"
   ]
  },
  {
   "cell_type": "code",
   "execution_count": 25,
   "metadata": {},
   "outputs": [],
   "source": [
    "test_redone.sort()"
   ]
  },
  {
   "cell_type": "code",
   "execution_count": 26,
   "metadata": {},
   "outputs": [
    {
     "data": {
      "text/plain": [
       "['TEST_errors_out1.csv',\n",
       " 'TEST_errors_out2.csv',\n",
       " 'TEST_errors_out3.csv',\n",
       " 'TEST_errors_out4.csv',\n",
       " 'TEST_errors_out5.csv',\n",
       " 'TEST_errors_out6.csv',\n",
       " 'TEST_errors_out7.csv',\n",
       " 'TEST_errors_out8.csv',\n",
       " 'TEST_errors_out9.csv']"
      ]
     },
     "execution_count": 26,
     "metadata": {},
     "output_type": "execute_result"
    }
   ],
   "source": [
    "test_redone"
   ]
  },
  {
   "cell_type": "code",
   "execution_count": 27,
   "metadata": {},
   "outputs": [],
   "source": [
    "all_data = pd.DataFrame()\n",
    "for f in test_redone:\n",
    "    df = pd.read_csv(f)\n",
    "    all_data = all_data.append(df, ignore_index = True)"
   ]
  },
  {
   "cell_type": "code",
   "execution_count": 28,
   "metadata": {},
   "outputs": [
    {
     "data": {
      "text/html": [
       "<div>\n",
       "<style scoped>\n",
       "    .dataframe tbody tr th:only-of-type {\n",
       "        vertical-align: middle;\n",
       "    }\n",
       "\n",
       "    .dataframe tbody tr th {\n",
       "        vertical-align: top;\n",
       "    }\n",
       "\n",
       "    .dataframe thead th {\n",
       "        text-align: right;\n",
       "    }\n",
       "</style>\n",
       "<table border=\"1\" class=\"dataframe\">\n",
       "  <thead>\n",
       "    <tr style=\"text-align: right;\">\n",
       "      <th></th>\n",
       "      <th>Index</th>\n",
       "      <th>ID</th>\n",
       "      <th>Query</th>\n",
       "      <th>SmilesRan</th>\n",
       "      <th>Error</th>\n",
       "      <th>Exp_Value</th>\n",
       "      <th>Pred_Value</th>\n",
       "      <th>Exp_Result</th>\n",
       "      <th>Pred_Result</th>\n",
       "    </tr>\n",
       "  </thead>\n",
       "  <tbody>\n",
       "    <tr>\n",
       "      <th>0</th>\n",
       "      <td>1</td>\n",
       "      <td>7575-35-1</td>\n",
       "      <td>7575-35-1</td>\n",
       "      <td>OCCN(C1=CC=C(N)C=C1)CCO</td>\n",
       "      <td>NaN</td>\n",
       "      <td>NaN</td>\n",
       "      <td>0.24</td>\n",
       "      <td>NaN</td>\n",
       "      <td>Mutagenicity Negative</td>\n",
       "    </tr>\n",
       "    <tr>\n",
       "      <th>1</th>\n",
       "      <td>2</td>\n",
       "      <td>77-92-9</td>\n",
       "      <td>77-92-9</td>\n",
       "      <td>O=C(O)CC(O)(C(=O)O)CC(=O)O</td>\n",
       "      <td>NaN</td>\n",
       "      <td>0.0</td>\n",
       "      <td>0.21</td>\n",
       "      <td>Mutagenicity Negative</td>\n",
       "      <td>Mutagenicity Negative</td>\n",
       "    </tr>\n",
       "    <tr>\n",
       "      <th>2</th>\n",
       "      <td>3</td>\n",
       "      <td>62-53-3</td>\n",
       "      <td>62-53-3</td>\n",
       "      <td>NC=1C=CC=CC1</td>\n",
       "      <td>NaN</td>\n",
       "      <td>NaN</td>\n",
       "      <td>0.36</td>\n",
       "      <td>NaN</td>\n",
       "      <td>Mutagenicity Negative</td>\n",
       "    </tr>\n",
       "    <tr>\n",
       "      <th>3</th>\n",
       "      <td>4</td>\n",
       "      <td>104-94-9</td>\n",
       "      <td>104-94-9</td>\n",
       "      <td>O(C1=CC=C(N)C=C1)C</td>\n",
       "      <td>NaN</td>\n",
       "      <td>1.0</td>\n",
       "      <td>0.62</td>\n",
       "      <td>Mutagenicity Positive</td>\n",
       "      <td>Mutagenicity Positive</td>\n",
       "    </tr>\n",
       "    <tr>\n",
       "      <th>4</th>\n",
       "      <td>5</td>\n",
       "      <td>84-65-1</td>\n",
       "      <td>84-65-1</td>\n",
       "      <td>O=C1C=2C=CC=CC2C(=O)C=3C=CC=CC13</td>\n",
       "      <td>NaN</td>\n",
       "      <td>1.0</td>\n",
       "      <td>0.71</td>\n",
       "      <td>Mutagenicity Positive</td>\n",
       "      <td>Mutagenicity Positive</td>\n",
       "    </tr>\n",
       "  </tbody>\n",
       "</table>\n",
       "</div>"
      ],
      "text/plain": [
       "   Index         ID      Query                         SmilesRan Error  \\\n",
       "0      1  7575-35-1  7575-35-1           OCCN(C1=CC=C(N)C=C1)CCO   NaN   \n",
       "1      2    77-92-9    77-92-9        O=C(O)CC(O)(C(=O)O)CC(=O)O   NaN   \n",
       "2      3    62-53-3    62-53-3                      NC=1C=CC=CC1   NaN   \n",
       "3      4   104-94-9   104-94-9                O(C1=CC=C(N)C=C1)C   NaN   \n",
       "4      5    84-65-1    84-65-1  O=C1C=2C=CC=CC2C(=O)C=3C=CC=CC13   NaN   \n",
       "\n",
       "   Exp_Value  Pred_Value             Exp_Result            Pred_Result  \n",
       "0        NaN        0.24                    NaN  Mutagenicity Negative  \n",
       "1        0.0        0.21  Mutagenicity Negative  Mutagenicity Negative  \n",
       "2        NaN        0.36                    NaN  Mutagenicity Negative  \n",
       "3        1.0        0.62  Mutagenicity Positive  Mutagenicity Positive  \n",
       "4        1.0        0.71  Mutagenicity Positive  Mutagenicity Positive  "
      ]
     },
     "execution_count": 28,
     "metadata": {},
     "output_type": "execute_result"
    }
   ],
   "source": [
    "all_data.head()"
   ]
  },
  {
   "cell_type": "code",
   "execution_count": 102,
   "metadata": {},
   "outputs": [],
   "source": [
    "#pd.read_csv('TEST_errors_out1.csv').head()"
   ]
  },
  {
   "cell_type": "code",
   "execution_count": 29,
   "metadata": {},
   "outputs": [],
   "source": [
    "test_redone_df = pd.concat([test_missing_smi, all_data], axis = 1)"
   ]
  },
  {
   "cell_type": "code",
   "execution_count": 30,
   "metadata": {},
   "outputs": [
    {
     "data": {
      "text/html": [
       "<div>\n",
       "<style scoped>\n",
       "    .dataframe tbody tr th:only-of-type {\n",
       "        vertical-align: middle;\n",
       "    }\n",
       "\n",
       "    .dataframe tbody tr th {\n",
       "        vertical-align: top;\n",
       "    }\n",
       "\n",
       "    .dataframe thead th {\n",
       "        text-align: right;\n",
       "    }\n",
       "</style>\n",
       "<table border=\"1\" class=\"dataframe\">\n",
       "  <thead>\n",
       "    <tr style=\"text-align: right;\">\n",
       "      <th></th>\n",
       "      <th>INPUT</th>\n",
       "      <th>QSAR_READY_SMILES</th>\n",
       "      <th>Index</th>\n",
       "      <th>ID</th>\n",
       "      <th>Query</th>\n",
       "      <th>SmilesRan</th>\n",
       "      <th>Error</th>\n",
       "      <th>Exp_Value</th>\n",
       "      <th>Pred_Value</th>\n",
       "      <th>Exp_Result</th>\n",
       "      <th>Pred_Result</th>\n",
       "    </tr>\n",
       "  </thead>\n",
       "  <tbody>\n",
       "    <tr>\n",
       "      <th>0</th>\n",
       "      <td>DTXSID5020075</td>\n",
       "      <td>NC1=CC=C(C=C1)N(CCO)CCO</td>\n",
       "      <td>1</td>\n",
       "      <td>7575-35-1</td>\n",
       "      <td>7575-35-1</td>\n",
       "      <td>OCCN(C1=CC=C(N)C=C1)CCO</td>\n",
       "      <td>NaN</td>\n",
       "      <td>NaN</td>\n",
       "      <td>0.24</td>\n",
       "      <td>NaN</td>\n",
       "      <td>Mutagenicity Negative</td>\n",
       "    </tr>\n",
       "    <tr>\n",
       "      <th>1</th>\n",
       "      <td>DTXSID5020079</td>\n",
       "      <td>OC(=O)CC(O)(CC(O)=O)C(O)=O</td>\n",
       "      <td>2</td>\n",
       "      <td>77-92-9</td>\n",
       "      <td>77-92-9</td>\n",
       "      <td>O=C(O)CC(O)(C(=O)O)CC(=O)O</td>\n",
       "      <td>NaN</td>\n",
       "      <td>0.0</td>\n",
       "      <td>0.21</td>\n",
       "      <td>Mutagenicity Negative</td>\n",
       "      <td>Mutagenicity Negative</td>\n",
       "    </tr>\n",
       "    <tr>\n",
       "      <th>2</th>\n",
       "      <td>DTXSID3020091</td>\n",
       "      <td>NC1=CC=CC=C1</td>\n",
       "      <td>3</td>\n",
       "      <td>62-53-3</td>\n",
       "      <td>62-53-3</td>\n",
       "      <td>NC=1C=CC=CC1</td>\n",
       "      <td>NaN</td>\n",
       "      <td>NaN</td>\n",
       "      <td>0.36</td>\n",
       "      <td>NaN</td>\n",
       "      <td>Mutagenicity Negative</td>\n",
       "    </tr>\n",
       "    <tr>\n",
       "      <th>3</th>\n",
       "      <td>DTXSID3020093</td>\n",
       "      <td>COC1=CC=C(N)C=C1</td>\n",
       "      <td>4</td>\n",
       "      <td>104-94-9</td>\n",
       "      <td>104-94-9</td>\n",
       "      <td>O(C1=CC=C(N)C=C1)C</td>\n",
       "      <td>NaN</td>\n",
       "      <td>1.0</td>\n",
       "      <td>0.62</td>\n",
       "      <td>Mutagenicity Positive</td>\n",
       "      <td>Mutagenicity Positive</td>\n",
       "    </tr>\n",
       "    <tr>\n",
       "      <th>4</th>\n",
       "      <td>DTXSID3020095</td>\n",
       "      <td>O=C1C2=C(C=CC=C2)C(=O)C2=C1C=CC=C2</td>\n",
       "      <td>5</td>\n",
       "      <td>84-65-1</td>\n",
       "      <td>84-65-1</td>\n",
       "      <td>O=C1C=2C=CC=CC2C(=O)C=3C=CC=CC13</td>\n",
       "      <td>NaN</td>\n",
       "      <td>1.0</td>\n",
       "      <td>0.71</td>\n",
       "      <td>Mutagenicity Positive</td>\n",
       "      <td>Mutagenicity Positive</td>\n",
       "    </tr>\n",
       "  </tbody>\n",
       "</table>\n",
       "</div>"
      ],
      "text/plain": [
       "           INPUT                   QSAR_READY_SMILES  Index         ID  \\\n",
       "0  DTXSID5020075             NC1=CC=C(C=C1)N(CCO)CCO      1  7575-35-1   \n",
       "1  DTXSID5020079          OC(=O)CC(O)(CC(O)=O)C(O)=O      2    77-92-9   \n",
       "2  DTXSID3020091                        NC1=CC=CC=C1      3    62-53-3   \n",
       "3  DTXSID3020093                    COC1=CC=C(N)C=C1      4   104-94-9   \n",
       "4  DTXSID3020095  O=C1C2=C(C=CC=C2)C(=O)C2=C1C=CC=C2      5    84-65-1   \n",
       "\n",
       "       Query                         SmilesRan Error  Exp_Value  Pred_Value  \\\n",
       "0  7575-35-1           OCCN(C1=CC=C(N)C=C1)CCO   NaN        NaN        0.24   \n",
       "1    77-92-9        O=C(O)CC(O)(C(=O)O)CC(=O)O   NaN        0.0        0.21   \n",
       "2    62-53-3                      NC=1C=CC=CC1   NaN        NaN        0.36   \n",
       "3   104-94-9                O(C1=CC=C(N)C=C1)C   NaN        1.0        0.62   \n",
       "4    84-65-1  O=C1C=2C=CC=CC2C(=O)C=3C=CC=CC13   NaN        1.0        0.71   \n",
       "\n",
       "              Exp_Result            Pred_Result  \n",
       "0                    NaN  Mutagenicity Negative  \n",
       "1  Mutagenicity Negative  Mutagenicity Negative  \n",
       "2                    NaN  Mutagenicity Negative  \n",
       "3  Mutagenicity Positive  Mutagenicity Positive  \n",
       "4  Mutagenicity Positive  Mutagenicity Positive  "
      ]
     },
     "execution_count": 30,
     "metadata": {},
     "output_type": "execute_result"
    }
   ],
   "source": [
    "test_redone_df.head()"
   ]
  },
  {
   "cell_type": "code",
   "execution_count": 31,
   "metadata": {},
   "outputs": [
    {
     "data": {
      "text/plain": [
       "array([nan, 'FindPaths', 'Molecule contains unsupported element',\n",
       "       'Only one nonhydrogen atom', 'FindRings'], dtype=object)"
      ]
     },
     "execution_count": 31,
     "metadata": {},
     "output_type": "execute_result"
    }
   ],
   "source": [
    "test_redone_df['Error'].unique()"
   ]
  },
  {
   "cell_type": "code",
   "execution_count": 32,
   "metadata": {},
   "outputs": [],
   "source": [
    "test_redone_df['TEST_prediction'] = test_redone_df.apply(lambda x : 1 if x['Pred_Value'] >=0.5 else (np.nan if x['Error'] in ['Multiple molecules', 'FindPaths',\n",
    "       'Molecule contains unsupported element',\n",
    "       'Molecule does not contain carbon', 'Only one nonhydrogen atom',\n",
    "       'FindRings'] else 0), axis = 1)"
   ]
  },
  {
   "cell_type": "code",
   "execution_count": 33,
   "metadata": {},
   "outputs": [
    {
     "data": {
      "text/html": [
       "<div>\n",
       "<style scoped>\n",
       "    .dataframe tbody tr th:only-of-type {\n",
       "        vertical-align: middle;\n",
       "    }\n",
       "\n",
       "    .dataframe tbody tr th {\n",
       "        vertical-align: top;\n",
       "    }\n",
       "\n",
       "    .dataframe thead th {\n",
       "        text-align: right;\n",
       "    }\n",
       "</style>\n",
       "<table border=\"1\" class=\"dataframe\">\n",
       "  <thead>\n",
       "    <tr style=\"text-align: right;\">\n",
       "      <th></th>\n",
       "      <th>INPUT</th>\n",
       "      <th>QSAR_READY_SMILES</th>\n",
       "      <th>Index</th>\n",
       "      <th>ID</th>\n",
       "      <th>Query</th>\n",
       "      <th>SmilesRan</th>\n",
       "      <th>Error</th>\n",
       "      <th>Exp_Value</th>\n",
       "      <th>Pred_Value</th>\n",
       "      <th>Exp_Result</th>\n",
       "      <th>Pred_Result</th>\n",
       "      <th>TEST_prediction</th>\n",
       "    </tr>\n",
       "  </thead>\n",
       "  <tbody>\n",
       "    <tr>\n",
       "      <th>0</th>\n",
       "      <td>DTXSID5020075</td>\n",
       "      <td>NC1=CC=C(C=C1)N(CCO)CCO</td>\n",
       "      <td>1</td>\n",
       "      <td>7575-35-1</td>\n",
       "      <td>7575-35-1</td>\n",
       "      <td>OCCN(C1=CC=C(N)C=C1)CCO</td>\n",
       "      <td>NaN</td>\n",
       "      <td>NaN</td>\n",
       "      <td>0.24</td>\n",
       "      <td>NaN</td>\n",
       "      <td>Mutagenicity Negative</td>\n",
       "      <td>0.0</td>\n",
       "    </tr>\n",
       "    <tr>\n",
       "      <th>1</th>\n",
       "      <td>DTXSID5020079</td>\n",
       "      <td>OC(=O)CC(O)(CC(O)=O)C(O)=O</td>\n",
       "      <td>2</td>\n",
       "      <td>77-92-9</td>\n",
       "      <td>77-92-9</td>\n",
       "      <td>O=C(O)CC(O)(C(=O)O)CC(=O)O</td>\n",
       "      <td>NaN</td>\n",
       "      <td>0.0</td>\n",
       "      <td>0.21</td>\n",
       "      <td>Mutagenicity Negative</td>\n",
       "      <td>Mutagenicity Negative</td>\n",
       "      <td>0.0</td>\n",
       "    </tr>\n",
       "    <tr>\n",
       "      <th>2</th>\n",
       "      <td>DTXSID3020091</td>\n",
       "      <td>NC1=CC=CC=C1</td>\n",
       "      <td>3</td>\n",
       "      <td>62-53-3</td>\n",
       "      <td>62-53-3</td>\n",
       "      <td>NC=1C=CC=CC1</td>\n",
       "      <td>NaN</td>\n",
       "      <td>NaN</td>\n",
       "      <td>0.36</td>\n",
       "      <td>NaN</td>\n",
       "      <td>Mutagenicity Negative</td>\n",
       "      <td>0.0</td>\n",
       "    </tr>\n",
       "    <tr>\n",
       "      <th>3</th>\n",
       "      <td>DTXSID3020093</td>\n",
       "      <td>COC1=CC=C(N)C=C1</td>\n",
       "      <td>4</td>\n",
       "      <td>104-94-9</td>\n",
       "      <td>104-94-9</td>\n",
       "      <td>O(C1=CC=C(N)C=C1)C</td>\n",
       "      <td>NaN</td>\n",
       "      <td>1.0</td>\n",
       "      <td>0.62</td>\n",
       "      <td>Mutagenicity Positive</td>\n",
       "      <td>Mutagenicity Positive</td>\n",
       "      <td>1.0</td>\n",
       "    </tr>\n",
       "    <tr>\n",
       "      <th>4</th>\n",
       "      <td>DTXSID3020095</td>\n",
       "      <td>O=C1C2=C(C=CC=C2)C(=O)C2=C1C=CC=C2</td>\n",
       "      <td>5</td>\n",
       "      <td>84-65-1</td>\n",
       "      <td>84-65-1</td>\n",
       "      <td>O=C1C=2C=CC=CC2C(=O)C=3C=CC=CC13</td>\n",
       "      <td>NaN</td>\n",
       "      <td>1.0</td>\n",
       "      <td>0.71</td>\n",
       "      <td>Mutagenicity Positive</td>\n",
       "      <td>Mutagenicity Positive</td>\n",
       "      <td>1.0</td>\n",
       "    </tr>\n",
       "  </tbody>\n",
       "</table>\n",
       "</div>"
      ],
      "text/plain": [
       "           INPUT                   QSAR_READY_SMILES  Index         ID  \\\n",
       "0  DTXSID5020075             NC1=CC=C(C=C1)N(CCO)CCO      1  7575-35-1   \n",
       "1  DTXSID5020079          OC(=O)CC(O)(CC(O)=O)C(O)=O      2    77-92-9   \n",
       "2  DTXSID3020091                        NC1=CC=CC=C1      3    62-53-3   \n",
       "3  DTXSID3020093                    COC1=CC=C(N)C=C1      4   104-94-9   \n",
       "4  DTXSID3020095  O=C1C2=C(C=CC=C2)C(=O)C2=C1C=CC=C2      5    84-65-1   \n",
       "\n",
       "       Query                         SmilesRan Error  Exp_Value  Pred_Value  \\\n",
       "0  7575-35-1           OCCN(C1=CC=C(N)C=C1)CCO   NaN        NaN        0.24   \n",
       "1    77-92-9        O=C(O)CC(O)(C(=O)O)CC(=O)O   NaN        0.0        0.21   \n",
       "2    62-53-3                      NC=1C=CC=CC1   NaN        NaN        0.36   \n",
       "3   104-94-9                O(C1=CC=C(N)C=C1)C   NaN        1.0        0.62   \n",
       "4    84-65-1  O=C1C=2C=CC=CC2C(=O)C=3C=CC=CC13   NaN        1.0        0.71   \n",
       "\n",
       "              Exp_Result            Pred_Result  TEST_prediction  \n",
       "0                    NaN  Mutagenicity Negative              0.0  \n",
       "1  Mutagenicity Negative  Mutagenicity Negative              0.0  \n",
       "2                    NaN  Mutagenicity Negative              0.0  \n",
       "3  Mutagenicity Positive  Mutagenicity Positive              1.0  \n",
       "4  Mutagenicity Positive  Mutagenicity Positive              1.0  "
      ]
     },
     "execution_count": 33,
     "metadata": {},
     "output_type": "execute_result"
    }
   ],
   "source": [
    "test_redone_df.head()"
   ]
  },
  {
   "cell_type": "code",
   "execution_count": 34,
   "metadata": {},
   "outputs": [
    {
     "data": {
      "text/plain": [
       "Index(['INPUT', 'QSAR_READY_SMILES', 'Index', 'ID', 'Query', 'SmilesRan',\n",
       "       'Error', 'Exp_Value', 'Pred_Value', 'Exp_Result', 'Pred_Result',\n",
       "       'TEST_prediction'],\n",
       "      dtype='object')"
      ]
     },
     "execution_count": 34,
     "metadata": {},
     "output_type": "execute_result"
    }
   ],
   "source": [
    "test_redone_df.columns"
   ]
  },
  {
   "cell_type": "code",
   "execution_count": 35,
   "metadata": {},
   "outputs": [],
   "source": [
    "test_redone_df.set_index('INPUT', inplace = True)"
   ]
  },
  {
   "cell_type": "code",
   "execution_count": 36,
   "metadata": {},
   "outputs": [],
   "source": [
    "test_redone_df2 = test_redone_df[['TEST_prediction']]"
   ]
  },
  {
   "cell_type": "code",
   "execution_count": 37,
   "metadata": {},
   "outputs": [
    {
     "data": {
      "text/html": [
       "<div>\n",
       "<style scoped>\n",
       "    .dataframe tbody tr th:only-of-type {\n",
       "        vertical-align: middle;\n",
       "    }\n",
       "\n",
       "    .dataframe tbody tr th {\n",
       "        vertical-align: top;\n",
       "    }\n",
       "\n",
       "    .dataframe thead th {\n",
       "        text-align: right;\n",
       "    }\n",
       "</style>\n",
       "<table border=\"1\" class=\"dataframe\">\n",
       "  <thead>\n",
       "    <tr style=\"text-align: right;\">\n",
       "      <th></th>\n",
       "      <th>TEST_prediction</th>\n",
       "    </tr>\n",
       "    <tr>\n",
       "      <th>INPUT</th>\n",
       "      <th></th>\n",
       "    </tr>\n",
       "  </thead>\n",
       "  <tbody>\n",
       "    <tr>\n",
       "      <th>DTXSID5020075</th>\n",
       "      <td>0.0</td>\n",
       "    </tr>\n",
       "    <tr>\n",
       "      <th>DTXSID5020079</th>\n",
       "      <td>0.0</td>\n",
       "    </tr>\n",
       "    <tr>\n",
       "      <th>DTXSID3020091</th>\n",
       "      <td>0.0</td>\n",
       "    </tr>\n",
       "    <tr>\n",
       "      <th>DTXSID3020093</th>\n",
       "      <td>1.0</td>\n",
       "    </tr>\n",
       "    <tr>\n",
       "      <th>DTXSID3020095</th>\n",
       "      <td>1.0</td>\n",
       "    </tr>\n",
       "  </tbody>\n",
       "</table>\n",
       "</div>"
      ],
      "text/plain": [
       "               TEST_prediction\n",
       "INPUT                         \n",
       "DTXSID5020075              0.0\n",
       "DTXSID5020079              0.0\n",
       "DTXSID3020091              0.0\n",
       "DTXSID3020093              1.0\n",
       "DTXSID3020095              1.0"
      ]
     },
     "execution_count": 37,
     "metadata": {},
     "output_type": "execute_result"
    }
   ],
   "source": [
    "test_redone_df2.head()"
   ]
  },
  {
   "cell_type": "code",
   "execution_count": 38,
   "metadata": {},
   "outputs": [],
   "source": [
    "df_test2 = df_test[['TEST_prediction']]"
   ]
  },
  {
   "cell_type": "code",
   "execution_count": 39,
   "metadata": {},
   "outputs": [
    {
     "data": {
      "text/html": [
       "<div>\n",
       "<style scoped>\n",
       "    .dataframe tbody tr th:only-of-type {\n",
       "        vertical-align: middle;\n",
       "    }\n",
       "\n",
       "    .dataframe tbody tr th {\n",
       "        vertical-align: top;\n",
       "    }\n",
       "\n",
       "    .dataframe thead th {\n",
       "        text-align: right;\n",
       "    }\n",
       "</style>\n",
       "<table border=\"1\" class=\"dataframe\">\n",
       "  <thead>\n",
       "    <tr style=\"text-align: right;\">\n",
       "      <th></th>\n",
       "      <th>TEST_prediction</th>\n",
       "    </tr>\n",
       "    <tr>\n",
       "      <th>ID</th>\n",
       "      <th></th>\n",
       "    </tr>\n",
       "  </thead>\n",
       "  <tbody>\n",
       "    <tr>\n",
       "      <th>DTXSID5020075</th>\n",
       "      <td>NaN</td>\n",
       "    </tr>\n",
       "  </tbody>\n",
       "</table>\n",
       "</div>"
      ],
      "text/plain": [
       "               TEST_prediction\n",
       "ID                            \n",
       "DTXSID5020075              NaN"
      ]
     },
     "execution_count": 39,
     "metadata": {},
     "output_type": "execute_result"
    }
   ],
   "source": [
    "df_test2.head()\n",
    "df_test2[df_test2.index == 'DTXSID5020075']"
   ]
  },
  {
   "cell_type": "code",
   "execution_count": 40,
   "metadata": {},
   "outputs": [],
   "source": [
    "all_test = pd.concat([df_test2, test_redone_df2], axis = 0)"
   ]
  },
  {
   "cell_type": "code",
   "execution_count": 41,
   "metadata": {},
   "outputs": [],
   "source": [
    "all_test_df = all_test.reset_index().drop_duplicates(subset = 'index', keep = 'last')"
   ]
  },
  {
   "cell_type": "code",
   "execution_count": 42,
   "metadata": {},
   "outputs": [
    {
     "data": {
      "text/html": [
       "<div>\n",
       "<style scoped>\n",
       "    .dataframe tbody tr th:only-of-type {\n",
       "        vertical-align: middle;\n",
       "    }\n",
       "\n",
       "    .dataframe tbody tr th {\n",
       "        vertical-align: top;\n",
       "    }\n",
       "\n",
       "    .dataframe thead th {\n",
       "        text-align: right;\n",
       "    }\n",
       "</style>\n",
       "<table border=\"1\" class=\"dataframe\">\n",
       "  <thead>\n",
       "    <tr style=\"text-align: right;\">\n",
       "      <th></th>\n",
       "      <th>index</th>\n",
       "      <th>TEST_prediction</th>\n",
       "    </tr>\n",
       "  </thead>\n",
       "  <tbody>\n",
       "    <tr>\n",
       "      <th>19623</th>\n",
       "      <td>DTXSID5020075</td>\n",
       "      <td>0.0</td>\n",
       "    </tr>\n",
       "  </tbody>\n",
       "</table>\n",
       "</div>"
      ],
      "text/plain": [
       "               index  TEST_prediction\n",
       "19623  DTXSID5020075              0.0"
      ]
     },
     "execution_count": 42,
     "metadata": {},
     "output_type": "execute_result"
    }
   ],
   "source": [
    "all_test_df[all_test_df['index'] == 'DTXSID5020075']"
   ]
  },
  {
   "cell_type": "code",
   "execution_count": 43,
   "metadata": {},
   "outputs": [],
   "source": [
    "all_test_df.set_index('index', inplace = True)"
   ]
  },
  {
   "cell_type": "code",
   "execution_count": 137,
   "metadata": {},
   "outputs": [],
   "source": [
    "\n",
    "\n",
    "# Create a Pandas Excel writer using XlsxWriter as the engine.\n",
    "writer = pd.ExcelWriter('TEST_genetox_150221.xlsx', engine='xlsxwriter')\n",
    "\n",
    "# Convert the dataframe to an XlsxWriter Excel object.\n",
    "all_test_df.to_excel(writer, sheet_name='TEST_TSCA')\n",
    "\n",
    "# Close the Pandas Excel writer and output the Excel file.\n",
    "writer.save()"
   ]
  },
  {
   "cell_type": "code",
   "execution_count": 44,
   "metadata": {},
   "outputs": [
    {
     "data": {
      "text/plain": [
       " 0.0    14088\n",
       " 1.0     2802\n",
       "NaN      2733\n",
       "Name: TEST_prediction, dtype: int64"
      ]
     },
     "execution_count": 44,
     "metadata": {},
     "output_type": "execute_result"
    }
   ],
   "source": [
    "all_test_df.TEST_prediction.value_counts(dropna = False)"
   ]
  },
  {
   "cell_type": "code",
   "execution_count": 45,
   "metadata": {},
   "outputs": [],
   "source": [
    "all_test_df['aggregate_study_type'] = 'TEST_Mutagenicity'"
   ]
  },
  {
   "cell_type": "code",
   "execution_count": 46,
   "metadata": {},
   "outputs": [],
   "source": [
    "all_test_df = all_test_df.reset_index()"
   ]
  },
  {
   "cell_type": "code",
   "execution_count": 47,
   "metadata": {},
   "outputs": [],
   "source": [
    "all_test_df.columns = ['DTXSID','assay_outcome', 'aggregate_study_type']"
   ]
  },
  {
   "cell_type": "code",
   "execution_count": 48,
   "metadata": {},
   "outputs": [
    {
     "data": {
      "text/html": [
       "<div>\n",
       "<style scoped>\n",
       "    .dataframe tbody tr th:only-of-type {\n",
       "        vertical-align: middle;\n",
       "    }\n",
       "\n",
       "    .dataframe tbody tr th {\n",
       "        vertical-align: top;\n",
       "    }\n",
       "\n",
       "    .dataframe thead th {\n",
       "        text-align: right;\n",
       "    }\n",
       "</style>\n",
       "<table border=\"1\" class=\"dataframe\">\n",
       "  <thead>\n",
       "    <tr style=\"text-align: right;\">\n",
       "      <th></th>\n",
       "      <th>DTXSID</th>\n",
       "      <th>assay_outcome</th>\n",
       "      <th>aggregate_study_type</th>\n",
       "    </tr>\n",
       "  </thead>\n",
       "  <tbody>\n",
       "    <tr>\n",
       "      <th>0</th>\n",
       "      <td>DTXSID2020004</td>\n",
       "      <td>1.0</td>\n",
       "      <td>TEST_Mutagenicity</td>\n",
       "    </tr>\n",
       "    <tr>\n",
       "      <th>1</th>\n",
       "      <td>DTXSID7020005</td>\n",
       "      <td>0.0</td>\n",
       "      <td>TEST_Mutagenicity</td>\n",
       "    </tr>\n",
       "    <tr>\n",
       "      <th>2</th>\n",
       "      <td>DTXSID2020006</td>\n",
       "      <td>0.0</td>\n",
       "      <td>TEST_Mutagenicity</td>\n",
       "    </tr>\n",
       "    <tr>\n",
       "      <th>3</th>\n",
       "      <td>DTXSID7020009</td>\n",
       "      <td>0.0</td>\n",
       "      <td>TEST_Mutagenicity</td>\n",
       "    </tr>\n",
       "    <tr>\n",
       "      <th>4</th>\n",
       "      <td>DTXSID6020010</td>\n",
       "      <td>0.0</td>\n",
       "      <td>TEST_Mutagenicity</td>\n",
       "    </tr>\n",
       "  </tbody>\n",
       "</table>\n",
       "</div>"
      ],
      "text/plain": [
       "          DTXSID  assay_outcome aggregate_study_type\n",
       "0  DTXSID2020004            1.0    TEST_Mutagenicity\n",
       "1  DTXSID7020005            0.0    TEST_Mutagenicity\n",
       "2  DTXSID2020006            0.0    TEST_Mutagenicity\n",
       "3  DTXSID7020009            0.0    TEST_Mutagenicity\n",
       "4  DTXSID6020010            0.0    TEST_Mutagenicity"
      ]
     },
     "execution_count": 48,
     "metadata": {},
     "output_type": "execute_result"
    }
   ],
   "source": [
    "all_test_df.head()"
   ]
  },
  {
   "cell_type": "code",
   "execution_count": null,
   "metadata": {},
   "outputs": [],
   "source": []
  },
  {
   "cell_type": "code",
   "execution_count": 49,
   "metadata": {},
   "outputs": [],
   "source": [
    "df_oecd = pd.read_excel('TSCA_genetox_TB_out.xlsx')"
   ]
  },
  {
   "cell_type": "code",
   "execution_count": 50,
   "metadata": {},
   "outputs": [
    {
     "data": {
      "text/plain": [
       "(19251, 11)"
      ]
     },
     "execution_count": 50,
     "metadata": {},
     "output_type": "execute_result"
    }
   ],
   "source": [
    "df_oecd.shape"
   ]
  },
  {
   "cell_type": "code",
   "execution_count": 51,
   "metadata": {},
   "outputs": [],
   "source": [
    "import re\n",
    "p = re.compile(r'DTXSID\\d{1,}')"
   ]
  },
  {
   "cell_type": "code",
   "execution_count": 52,
   "metadata": {},
   "outputs": [],
   "source": [
    "dtxsid = [m.group(0) for l in df_oecd['Chemical name(s)'] for m in [p.search(l)] if m]"
   ]
  },
  {
   "cell_type": "code",
   "execution_count": 53,
   "metadata": {},
   "outputs": [
    {
     "data": {
      "text/plain": [
       "19251"
      ]
     },
     "execution_count": 53,
     "metadata": {},
     "output_type": "execute_result"
    }
   ],
   "source": [
    "len(dtxsid)"
   ]
  },
  {
   "cell_type": "code",
   "execution_count": 54,
   "metadata": {},
   "outputs": [],
   "source": [
    "df_oecd['dtxsid'] = dtxsid"
   ]
  },
  {
   "cell_type": "code",
   "execution_count": 55,
   "metadata": {},
   "outputs": [
    {
     "data": {
      "text/plain": [
       "Index(['Chemical name(s)',\n",
       "       'Carcinogenicity (genotox and nongenotox) alerts by ISS',\n",
       "       'DNA alerts for AMES, CA and MNT by OASIS', 'DNA binding by OASIS',\n",
       "       'DNA binding by OECD', 'Oncologic Primary Classification',\n",
       "       'Protein binding alerts for Chromosomal aberration by OASIS',\n",
       "       'Protein binding by OASIS', 'Protein binding by OECD',\n",
       "       'in vitro mutagenicity (Ames test) alerts by ISS',\n",
       "       'in vivo mutagenicity (Micronucleus) alerts by ISS', 'dtxsid'],\n",
       "      dtype='object')"
      ]
     },
     "execution_count": 55,
     "metadata": {},
     "output_type": "execute_result"
    }
   ],
   "source": [
    "df_oecd.columns"
   ]
  },
  {
   "cell_type": "code",
   "execution_count": 56,
   "metadata": {},
   "outputs": [],
   "source": [
    "df_oecd = df_oecd[['dtxsid','Carcinogenicity (genotox and nongenotox) alerts by ISS',\n",
    "       'DNA alerts for AMES, CA and MNT by OASIS', 'DNA binding by OASIS',\n",
    "       'DNA binding by OECD', 'Oncologic Primary Classification',\n",
    "       'Protein binding alerts for Chromosomal aberration by OASIS',\n",
    "       'Protein binding by OASIS', 'Protein binding by OECD',\n",
    "       'in vitro mutagenicity (Ames test) alerts by ISS',\n",
    "       'in vivo mutagenicity (Micronucleus) alerts by ISS']]"
   ]
  },
  {
   "cell_type": "code",
   "execution_count": 57,
   "metadata": {},
   "outputs": [],
   "source": [
    "df_oecd.rename(columns = {'Carcinogenicity (genotox and nongenotox) alerts by ISS': 'Carc_ISS',\n",
    "       'DNA alerts for AMES, CA and MNT by OASIS': 'DNA_Ames_CA_MNT_OASIS', 'DNA binding by OASIS': 'DNA_binding_OASIS',\n",
    "       'DNA binding by OECD': 'DNA_binding_OECD', 'Oncologic Primary Classification': 'Oncologic',\n",
    "       'Protein binding alerts for Chromosomal aberration by OASIS': 'Protein_binding_CA_OASIS',\n",
    "       'Protein binding by OASIS': 'Protein_binding_OASIS', 'Protein binding by OECD': 'Protein_binding_OECD',\n",
    "       'in vitro mutagenicity (Ames test) alerts by ISS': 'Ames_ISS',\n",
    "       'in vivo mutagenicity (Micronucleus) alerts by ISS': 'MNT_ISS'}, inplace = True)"
   ]
  },
  {
   "cell_type": "code",
   "execution_count": 58,
   "metadata": {},
   "outputs": [],
   "source": [
    "df_oecd_numeric = df_oecd.copy()"
   ]
  },
  {
   "cell_type": "code",
   "execution_count": 59,
   "metadata": {},
   "outputs": [],
   "source": [
    "df_oecd_numeric.replace({'No alert found' :0, 'N/A': np.nan, 'Not classified' : 0}, inplace = True)"
   ]
  },
  {
   "cell_type": "code",
   "execution_count": 60,
   "metadata": {},
   "outputs": [],
   "source": [
    "df_oecd_numeric.set_index('dtxsid', inplace = True)"
   ]
  },
  {
   "cell_type": "code",
   "execution_count": 61,
   "metadata": {},
   "outputs": [],
   "source": [
    "df_oecd_numeric.replace({'\\w+':1}, regex = True, inplace = True)"
   ]
  },
  {
   "cell_type": "code",
   "execution_count": 61,
   "metadata": {},
   "outputs": [],
   "source": [
    "\n",
    "\n",
    "\n",
    "# Create a Pandas Excel writer using XlsxWriter as the engine.\n",
    "writer = pd.ExcelWriter('OECD_Toolbox_genetox_150221.xlsx', engine='xlsxwriter')\n",
    "\n",
    "# Convert the dataframe to an XlsxWriter Excel object.\n",
    "df_oecd_numeric.to_excel(writer, sheet_name='OECD_numeric_TSCA')\n",
    "df_oecd.to_excel(writer, sheet_name='OECD_TSCA')\n",
    "\n",
    "# Close the Pandas Excel writer and output the Excel file.\n",
    "writer.save()"
   ]
  },
  {
   "cell_type": "code",
   "execution_count": 62,
   "metadata": {},
   "outputs": [],
   "source": [
    "oecd = df_oecd_numeric.reset_index()"
   ]
  },
  {
   "cell_type": "code",
   "execution_count": 63,
   "metadata": {},
   "outputs": [],
   "source": [
    "oecd  = oecd[['dtxsid', 'DNA_Ames_CA_MNT_OASIS', 'DNA_binding_OASIS',\n",
    "       'DNA_binding_OECD',  'Protein_binding_CA_OASIS',\n",
    "        'Ames_ISS', 'MNT_ISS']]"
   ]
  },
  {
   "cell_type": "code",
   "execution_count": 64,
   "metadata": {},
   "outputs": [
    {
     "data": {
      "text/html": [
       "<div>\n",
       "<style scoped>\n",
       "    .dataframe tbody tr th:only-of-type {\n",
       "        vertical-align: middle;\n",
       "    }\n",
       "\n",
       "    .dataframe tbody tr th {\n",
       "        vertical-align: top;\n",
       "    }\n",
       "\n",
       "    .dataframe thead th {\n",
       "        text-align: right;\n",
       "    }\n",
       "</style>\n",
       "<table border=\"1\" class=\"dataframe\">\n",
       "  <thead>\n",
       "    <tr style=\"text-align: right;\">\n",
       "      <th></th>\n",
       "      <th>dtxsid</th>\n",
       "      <th>DNA_Ames_CA_MNT_OASIS</th>\n",
       "      <th>DNA_binding_OASIS</th>\n",
       "      <th>DNA_binding_OECD</th>\n",
       "      <th>Protein_binding_CA_OASIS</th>\n",
       "      <th>Ames_ISS</th>\n",
       "      <th>MNT_ISS</th>\n",
       "    </tr>\n",
       "  </thead>\n",
       "  <tbody>\n",
       "    <tr>\n",
       "      <th>0</th>\n",
       "      <td>DTXSID2020004</td>\n",
       "      <td>0</td>\n",
       "      <td>0</td>\n",
       "      <td>0</td>\n",
       "      <td>0</td>\n",
       "      <td>0</td>\n",
       "      <td>0</td>\n",
       "    </tr>\n",
       "    <tr>\n",
       "      <th>1</th>\n",
       "      <td>DTXSID7020005</td>\n",
       "      <td>0</td>\n",
       "      <td>0</td>\n",
       "      <td>0</td>\n",
       "      <td>0</td>\n",
       "      <td>0</td>\n",
       "      <td>0</td>\n",
       "    </tr>\n",
       "    <tr>\n",
       "      <th>2</th>\n",
       "      <td>DTXSID2020006</td>\n",
       "      <td>0</td>\n",
       "      <td>0</td>\n",
       "      <td>0</td>\n",
       "      <td>1</td>\n",
       "      <td>1</td>\n",
       "      <td>1</td>\n",
       "    </tr>\n",
       "    <tr>\n",
       "      <th>3</th>\n",
       "      <td>DTXSID7020009</td>\n",
       "      <td>0</td>\n",
       "      <td>0</td>\n",
       "      <td>0</td>\n",
       "      <td>0</td>\n",
       "      <td>0</td>\n",
       "      <td>0</td>\n",
       "    </tr>\n",
       "    <tr>\n",
       "      <th>4</th>\n",
       "      <td>DTXSID6020010</td>\n",
       "      <td>0</td>\n",
       "      <td>0</td>\n",
       "      <td>0</td>\n",
       "      <td>0</td>\n",
       "      <td>0</td>\n",
       "      <td>0</td>\n",
       "    </tr>\n",
       "  </tbody>\n",
       "</table>\n",
       "</div>"
      ],
      "text/plain": [
       "          dtxsid  DNA_Ames_CA_MNT_OASIS  DNA_binding_OASIS  DNA_binding_OECD  \\\n",
       "0  DTXSID2020004                      0                  0                 0   \n",
       "1  DTXSID7020005                      0                  0                 0   \n",
       "2  DTXSID2020006                      0                  0                 0   \n",
       "3  DTXSID7020009                      0                  0                 0   \n",
       "4  DTXSID6020010                      0                  0                 0   \n",
       "\n",
       "   Protein_binding_CA_OASIS  Ames_ISS  MNT_ISS  \n",
       "0                         0         0        0  \n",
       "1                         0         0        0  \n",
       "2                         1         1        1  \n",
       "3                         0         0        0  \n",
       "4                         0         0        0  "
      ]
     },
     "execution_count": 64,
     "metadata": {},
     "output_type": "execute_result"
    }
   ],
   "source": [
    "oecd.head()"
   ]
  },
  {
   "cell_type": "code",
   "execution_count": 65,
   "metadata": {},
   "outputs": [],
   "source": [
    "toolbox_new_df = pd.melt(oecd, id_vars = ['dtxsid'], value_vars = [\n",
    " 'DNA_Ames_CA_MNT_OASIS', 'DNA_binding_OASIS',\n",
    "       'DNA_binding_OECD',  'Protein_binding_CA_OASIS',\n",
    "        'Ames_ISS', 'MNT_ISS'])"
   ]
  },
  {
   "cell_type": "code",
   "execution_count": 66,
   "metadata": {},
   "outputs": [],
   "source": [
    "toolbox_new_df.rename(columns = {'variable': 'aggregate_study_type', 'value': 'assay_outcome'}, inplace = True)"
   ]
  },
  {
   "cell_type": "code",
   "execution_count": 67,
   "metadata": {},
   "outputs": [],
   "source": [
    "toolbox_new_df.set_index('dtxsid', inplace = True)"
   ]
  },
  {
   "cell_type": "code",
   "execution_count": 68,
   "metadata": {},
   "outputs": [],
   "source": [
    "all_test_df.set_index('DTXSID', inplace = True)"
   ]
  },
  {
   "cell_type": "code",
   "execution_count": 69,
   "metadata": {},
   "outputs": [
    {
     "name": "stderr",
     "output_type": "stream",
     "text": [
      "/home/gpatlewi/anaconda3/lib/python3.6/site-packages/ipykernel_launcher.py:1: FutureWarning: Sorting because non-concatenation axis is not aligned. A future version\n",
      "of pandas will change to not sort by default.\n",
      "\n",
      "To accept the future behavior, pass 'sort=True'.\n",
      "\n",
      "To retain the current behavior and silence the warning, pass sort=False\n",
      "\n",
      "  \"\"\"Entry point for launching an IPython kernel.\n"
     ]
    }
   ],
   "source": [
    "insilico = pd.concat([toolbox_new_df, all_test_df ])"
   ]
  },
  {
   "cell_type": "code",
   "execution_count": 70,
   "metadata": {},
   "outputs": [
    {
     "data": {
      "text/plain": [
       "array(['DNA_Ames_CA_MNT_OASIS', 'DNA_binding_OASIS', 'DNA_binding_OECD',\n",
       "       'Protein_binding_CA_OASIS', 'Ames_ISS', 'MNT_ISS',\n",
       "       'TEST_Mutagenicity'], dtype=object)"
      ]
     },
     "execution_count": 70,
     "metadata": {},
     "output_type": "execute_result"
    }
   ],
   "source": [
    "insilico.aggregate_study_type.unique()"
   ]
  },
  {
   "cell_type": "code",
   "execution_count": 71,
   "metadata": {},
   "outputs": [],
   "source": [
    "tag_sar = {'DNA_Ames_CA_MNT_OASIS': 'pAmes', 'DNA_binding_OASIS': 'pAmes',\n",
    "       'DNA_binding_OECD': 'pAmes',  'Protein_binding_CA_OASIS': 'pclastogen',\n",
    "        'Ames_ISS': 'pAmes', 'MNT_ISS': 'pclastogen', 'TEST_Mutagenicity': 'pAmes'}"
   ]
  },
  {
   "cell_type": "code",
   "execution_count": 72,
   "metadata": {},
   "outputs": [],
   "source": [
    "insilico['simple_aggregate'] = insilico['aggregate_study_type']"
   ]
  },
  {
   "cell_type": "code",
   "execution_count": 73,
   "metadata": {},
   "outputs": [],
   "source": [
    "insilico['simple_aggregate'].replace(tag_sar , inplace = True)"
   ]
  },
  {
   "cell_type": "code",
   "execution_count": 74,
   "metadata": {},
   "outputs": [
    {
     "data": {
      "text/html": [
       "<div>\n",
       "<style scoped>\n",
       "    .dataframe tbody tr th:only-of-type {\n",
       "        vertical-align: middle;\n",
       "    }\n",
       "\n",
       "    .dataframe tbody tr th {\n",
       "        vertical-align: top;\n",
       "    }\n",
       "\n",
       "    .dataframe thead th {\n",
       "        text-align: right;\n",
       "    }\n",
       "</style>\n",
       "<table border=\"1\" class=\"dataframe\">\n",
       "  <thead>\n",
       "    <tr style=\"text-align: right;\">\n",
       "      <th></th>\n",
       "      <th>aggregate_study_type</th>\n",
       "      <th>assay_outcome</th>\n",
       "      <th>simple_aggregate</th>\n",
       "    </tr>\n",
       "  </thead>\n",
       "  <tbody>\n",
       "    <tr>\n",
       "      <th>DTXSID2020004</th>\n",
       "      <td>DNA_Ames_CA_MNT_OASIS</td>\n",
       "      <td>0.0</td>\n",
       "      <td>pAmes</td>\n",
       "    </tr>\n",
       "    <tr>\n",
       "      <th>DTXSID7020005</th>\n",
       "      <td>DNA_Ames_CA_MNT_OASIS</td>\n",
       "      <td>0.0</td>\n",
       "      <td>pAmes</td>\n",
       "    </tr>\n",
       "    <tr>\n",
       "      <th>DTXSID2020006</th>\n",
       "      <td>DNA_Ames_CA_MNT_OASIS</td>\n",
       "      <td>0.0</td>\n",
       "      <td>pAmes</td>\n",
       "    </tr>\n",
       "    <tr>\n",
       "      <th>DTXSID7020009</th>\n",
       "      <td>DNA_Ames_CA_MNT_OASIS</td>\n",
       "      <td>0.0</td>\n",
       "      <td>pAmes</td>\n",
       "    </tr>\n",
       "    <tr>\n",
       "      <th>DTXSID6020010</th>\n",
       "      <td>DNA_Ames_CA_MNT_OASIS</td>\n",
       "      <td>0.0</td>\n",
       "      <td>pAmes</td>\n",
       "    </tr>\n",
       "  </tbody>\n",
       "</table>\n",
       "</div>"
      ],
      "text/plain": [
       "                aggregate_study_type  assay_outcome simple_aggregate\n",
       "DTXSID2020004  DNA_Ames_CA_MNT_OASIS            0.0            pAmes\n",
       "DTXSID7020005  DNA_Ames_CA_MNT_OASIS            0.0            pAmes\n",
       "DTXSID2020006  DNA_Ames_CA_MNT_OASIS            0.0            pAmes\n",
       "DTXSID7020009  DNA_Ames_CA_MNT_OASIS            0.0            pAmes\n",
       "DTXSID6020010  DNA_Ames_CA_MNT_OASIS            0.0            pAmes"
      ]
     },
     "execution_count": 74,
     "metadata": {},
     "output_type": "execute_result"
    }
   ],
   "source": [
    "insilico.head()"
   ]
  },
  {
   "cell_type": "code",
   "execution_count": 159,
   "metadata": {},
   "outputs": [],
   "source": [
    "# Create a Pandas Excel writer using XlsxWriter as the engine.\n",
    "writer = pd.ExcelWriter('insilico_genetox_predictions_all_TSCA_150221.xlsx', engine='xlsxwriter')\n",
    "\n",
    "# Convert the dataframe to an XlsxWriter Excel object.\n",
    "insilico.to_excel(writer, sheet_name='TSCA_insilico_all_numeric')\n",
    "\n",
    "# Close the Pandas Excel writer and output the Excel file.\n",
    "writer.save()"
   ]
  },
  {
   "cell_type": "code",
   "execution_count": 161,
   "metadata": {},
   "outputs": [],
   "source": [
    "#insilico.index"
   ]
  },
  {
   "cell_type": "code",
   "execution_count": 75,
   "metadata": {},
   "outputs": [],
   "source": [
    "genetox_df = pd.read_excel('genetox_merged_110221_final.xlsx')"
   ]
  },
  {
   "cell_type": "code",
   "execution_count": 76,
   "metadata": {},
   "outputs": [
    {
     "data": {
      "text/plain": [
       "Index(['source', 'name', 'casrn', 'assay_category', 'assay_type',\n",
       "       'assay_result', 'species', 'strain', 'metabolic_activation',\n",
       "       'cytotoxicity', 'data_quality', 'reference', 'year', 'document_source',\n",
       "       'duration', 'assay_potency', 'comment', 'document_number', 'title',\n",
       "       'genetox_results', 'reference_url', 'genetox_note', 'protocol_era',\n",
       "       'assay_code', 'sex', 'dose_response', 'panel_report', 'glp',\n",
       "       'guideline', 'dtxsid', 'standard_assay_type', 'assay_result_std',\n",
       "       'assay_outcome', 'aggregate_study_type', 'simple_aggregate'],\n",
       "      dtype='object')"
      ]
     },
     "execution_count": 76,
     "metadata": {},
     "output_type": "execute_result"
    }
   ],
   "source": [
    "genetox_df.columns"
   ]
  },
  {
   "cell_type": "code",
   "execution_count": 77,
   "metadata": {},
   "outputs": [],
   "source": [
    "genetox_df.set_index('dtxsid', inplace = True)"
   ]
  },
  {
   "cell_type": "code",
   "execution_count": 78,
   "metadata": {},
   "outputs": [
    {
     "data": {
      "text/plain": [
       "Ames             0.458188\n",
       "clastogen        0.262677\n",
       "other            0.182958\n",
       "gene_mutation    0.096177\n",
       "Name: simple_aggregate, dtype: float64"
      ]
     },
     "execution_count": 78,
     "metadata": {},
     "output_type": "execute_result"
    }
   ],
   "source": [
    "genetox_df.simple_aggregate.value_counts(dropna = False, normalize = True)"
   ]
  },
  {
   "cell_type": "code",
   "execution_count": 79,
   "metadata": {},
   "outputs": [],
   "source": [
    "g = genetox_df.groupby(genetox_df.index).agg({'assay_outcome': 'count'})"
   ]
  },
  {
   "cell_type": "code",
   "execution_count": 80,
   "metadata": {},
   "outputs": [],
   "source": [
    "g = g.reset_index()"
   ]
  },
  {
   "cell_type": "code",
   "execution_count": 81,
   "metadata": {},
   "outputs": [],
   "source": [
    "import seaborn as sns"
   ]
  },
  {
   "cell_type": "code",
   "execution_count": 82,
   "metadata": {},
   "outputs": [],
   "source": [
    "g['logcount'] = np.log10(g['assay_outcome']) + 1"
   ]
  },
  {
   "cell_type": "code",
   "execution_count": 83,
   "metadata": {},
   "outputs": [
    {
     "data": {
      "image/png": "[encoded data removed]",
      "text/plain": [
       "<Figure size 648x432 with 1 Axes>"
      ]
     },
     "metadata": {},
     "output_type": "display_data"
    }
   ],
   "source": [
    "plt.style.use('ggplot')\n",
    "plt.figure(figsize = (9,6))\n",
    "sns.boxplot(y = 'logcount', data = g)\n",
    "plt.xlabel('Simple aggregate study')\n",
    "plt.yscale('log')\n",
    "#plt.savefig('boxplot_alldata.png')"
   ]
  },
  {
   "cell_type": "code",
   "execution_count": 91,
   "metadata": {},
   "outputs": [
    {
     "data": {
      "image/png": "[encoded data removed]",
      "text/plain": [
       "<Figure size 648x432 with 1 Axes>"
      ]
     },
     "metadata": {},
     "output_type": "display_data"
    }
   ],
   "source": [
    "plt.style.use('grayscale')\n",
    "plt.figure(figsize = (9,6))\n",
    "plt.xlabel('Simple aggregate study')\n",
    "plt.ylabel('Frequency')\n",
    "\n",
    "\n",
    "plt.hist(g.logcount)\n",
    "plt.savefig('Figure 2a.png', dpi = 300);"
   ]
  },
  {
   "cell_type": "code",
   "execution_count": 266,
   "metadata": {},
   "outputs": [],
   "source": [
    "gg = genetox_df.groupby([genetox_df.index, 'simple_aggregate']).agg({'assay_outcome': 'count'})"
   ]
  },
  {
   "cell_type": "code",
   "execution_count": 269,
   "metadata": {},
   "outputs": [],
   "source": [
    "gg = gg.reset_index()"
   ]
  },
  {
   "cell_type": "code",
   "execution_count": 271,
   "metadata": {},
   "outputs": [],
   "source": [
    "gg['logcount'] = np.log10(gg['assay_outcome']) +1"
   ]
  },
  {
   "cell_type": "code",
   "execution_count": 273,
   "metadata": {},
   "outputs": [
    {
     "data": {
      "image/png": "[encoded data removed]",
      "text/plain": [
       "<Figure size 720x432 with 1 Axes>"
      ]
     },
     "metadata": {},
     "output_type": "display_data"
    }
   ],
   "source": [
    "plt.figure(figsize = (10,6))\n",
    "sns.violinplot(x = 'simple_aggregate', y = 'assay_outcome', data = gg)\n",
    "plt.xlabel('Simple aggregate study')\n",
    "plt.yscale('log')\n",
    "plt.savefig('vionplot_alldata.png', dpi = 300)"
   ]
  },
  {
   "cell_type": "code",
   "execution_count": 92,
   "metadata": {},
   "outputs": [
    {
     "data": {
      "text/html": [
       "<div>\n",
       "<style scoped>\n",
       "    .dataframe tbody tr th:only-of-type {\n",
       "        vertical-align: middle;\n",
       "    }\n",
       "\n",
       "    .dataframe tbody tr th {\n",
       "        vertical-align: top;\n",
       "    }\n",
       "\n",
       "    .dataframe thead th {\n",
       "        text-align: right;\n",
       "    }\n",
       "</style>\n",
       "<table border=\"1\" class=\"dataframe\">\n",
       "  <thead>\n",
       "    <tr style=\"text-align: right;\">\n",
       "      <th></th>\n",
       "      <th>dtxsid</th>\n",
       "      <th>assay_outcome</th>\n",
       "      <th>logcount</th>\n",
       "    </tr>\n",
       "  </thead>\n",
       "  <tbody>\n",
       "    <tr>\n",
       "      <th>1916</th>\n",
       "      <td>DTXSID2020216</td>\n",
       "      <td>156</td>\n",
       "      <td>3.193125</td>\n",
       "    </tr>\n",
       "    <tr>\n",
       "      <th>1953</th>\n",
       "      <td>DTXSID2020715</td>\n",
       "      <td>164</td>\n",
       "      <td>3.214844</td>\n",
       "    </tr>\n",
       "  </tbody>\n",
       "</table>\n",
       "</div>"
      ],
      "text/plain": [
       "             dtxsid  assay_outcome  logcount\n",
       "1916  DTXSID2020216            156  3.193125\n",
       "1953  DTXSID2020715            164  3.214844"
      ]
     },
     "execution_count": 92,
     "metadata": {},
     "output_type": "execute_result"
    }
   ],
   "source": [
    "g[g['assay_outcome'] > 150]"
   ]
  },
  {
   "cell_type": "code",
   "execution_count": 93,
   "metadata": {},
   "outputs": [],
   "source": [
    "max_studies = genetox_df[genetox_df.index == 'DTXSID2020715']"
   ]
  },
  {
   "cell_type": "code",
   "execution_count": 94,
   "metadata": {},
   "outputs": [
    {
     "data": {
      "text/plain": [
       "other            100\n",
       "clastogen         34\n",
       "Ames              27\n",
       "gene_mutation      3\n",
       "Name: simple_aggregate, dtype: int64"
      ]
     },
     "execution_count": 94,
     "metadata": {},
     "output_type": "execute_result"
    }
   ],
   "source": [
    "max_studies['simple_aggregate'].value_counts()"
   ]
  },
  {
   "cell_type": "code",
   "execution_count": null,
   "metadata": {},
   "outputs": [],
   "source": []
  },
  {
   "cell_type": "code",
   "execution_count": null,
   "metadata": {},
   "outputs": [],
   "source": []
  },
  {
   "cell_type": "code",
   "execution_count": 95,
   "metadata": {},
   "outputs": [
    {
     "name": "stderr",
     "output_type": "stream",
     "text": [
      "/home/gpatlewi/anaconda3/lib/python3.6/site-packages/ipykernel_launcher.py:1: FutureWarning: Sorting because non-concatenation axis is not aligned. A future version\n",
      "of pandas will change to not sort by default.\n",
      "\n",
      "To accept the future behavior, pass 'sort=True'.\n",
      "\n",
      "To retain the current behavior and silence the warning, pass sort=False\n",
      "\n",
      "  \"\"\"Entry point for launching an IPython kernel.\n"
     ]
    }
   ],
   "source": [
    "genetox_final = pd.concat([genetox_df, insilico])"
   ]
  },
  {
   "cell_type": "code",
   "execution_count": 96,
   "metadata": {},
   "outputs": [
    {
     "data": {
      "text/plain": [
       "array([ 0.,  1.,  2., nan])"
      ]
     },
     "execution_count": 96,
     "metadata": {},
     "output_type": "execute_result"
    }
   ],
   "source": [
    "genetox_final.assay_outcome.unique()"
   ]
  },
  {
   "cell_type": "code",
   "execution_count": 97,
   "metadata": {},
   "outputs": [],
   "source": [
    "genetox_final = genetox_final.reset_index()\n",
    "genetox_final.rename(columns = {'index': 'dtxsid'}, inplace = True)"
   ]
  },
  {
   "cell_type": "code",
   "execution_count": 98,
   "metadata": {},
   "outputs": [
    {
     "data": {
      "text/plain": [
       "23345"
      ]
     },
     "execution_count": 98,
     "metadata": {},
     "output_type": "execute_result"
    }
   ],
   "source": [
    "genetox_final.dtxsid.nunique()"
   ]
  },
  {
   "cell_type": "code",
   "execution_count": 99,
   "metadata": {},
   "outputs": [],
   "source": [
    "calls = {}\n",
    "for i, group in genetox_final.groupby('dtxsid'):\n",
    "    subset = group[['simple_aggregate', 'assay_outcome']]\n",
    "    tuples = [tuple(x) for x in subset.values]\n",
    "    if ('Ames', 1) in tuples:\n",
    "        calls[i]='gentox'\n",
    "    elif ('clastogen', 1) in tuples:\n",
    "        calls[i]='clastogen'  \n",
    "    elif ('Ames', 2) in tuples:\n",
    "        calls[i]='inconclusive'    \n",
    "    elif ('clastogen', 2) in tuples:\n",
    "        calls[i]='inconclusive' \n",
    "    elif ('Ames', 0) in tuples:\n",
    "        calls[i]='non gentox'\n",
    "    elif ('clastogen', 0) in tuples:\n",
    "        calls[i]='not clastogen'    \n",
    "    elif ('pAmes', 1) in tuples:\n",
    "        calls[i]='pred gentox'\n",
    "    elif ('pclastogen', 1) in tuples:\n",
    "        calls[i]='pred clastogen'\n",
    "    elif ('pAmes', 0) in tuples:\n",
    "        calls[i]='pred non gentox'\n",
    "    elif ('pclastogen', 0) in tuples:\n",
    "        calls[i]='pred non clastogen'\n",
    "    else:\n",
    "        None"
   ]
  },
  {
   "cell_type": "code",
   "execution_count": 100,
   "metadata": {},
   "outputs": [],
   "source": [
    "calls_df = pd.DataFrame(list(calls.items()), columns = ['dtxsid', 'Overall_genetox_call'])"
   ]
  },
  {
   "cell_type": "code",
   "execution_count": 101,
   "metadata": {},
   "outputs": [
    {
     "data": {
      "text/html": [
       "<div>\n",
       "<style scoped>\n",
       "    .dataframe tbody tr th:only-of-type {\n",
       "        vertical-align: middle;\n",
       "    }\n",
       "\n",
       "    .dataframe tbody tr th {\n",
       "        vertical-align: top;\n",
       "    }\n",
       "\n",
       "    .dataframe thead th {\n",
       "        text-align: right;\n",
       "    }\n",
       "</style>\n",
       "<table border=\"1\" class=\"dataframe\">\n",
       "  <thead>\n",
       "    <tr style=\"text-align: right;\">\n",
       "      <th></th>\n",
       "      <th>dtxsid</th>\n",
       "      <th>Overall_genetox_call</th>\n",
       "    </tr>\n",
       "  </thead>\n",
       "  <tbody>\n",
       "    <tr>\n",
       "      <th>0</th>\n",
       "      <td>DTXSID001000726</td>\n",
       "      <td>pred clastogen</td>\n",
       "    </tr>\n",
       "    <tr>\n",
       "      <th>1</th>\n",
       "      <td>DTXSID001003875</td>\n",
       "      <td>pred gentox</td>\n",
       "    </tr>\n",
       "    <tr>\n",
       "      <th>2</th>\n",
       "      <td>DTXSID00100498</td>\n",
       "      <td>not clastogen</td>\n",
       "    </tr>\n",
       "    <tr>\n",
       "      <th>3</th>\n",
       "      <td>DTXSID001006300</td>\n",
       "      <td>pred gentox</td>\n",
       "    </tr>\n",
       "    <tr>\n",
       "      <th>4</th>\n",
       "      <td>DTXSID00100670</td>\n",
       "      <td>non gentox</td>\n",
       "    </tr>\n",
       "  </tbody>\n",
       "</table>\n",
       "</div>"
      ],
      "text/plain": [
       "            dtxsid Overall_genetox_call\n",
       "0  DTXSID001000726       pred clastogen\n",
       "1  DTXSID001003875          pred gentox\n",
       "2   DTXSID00100498        not clastogen\n",
       "3  DTXSID001006300          pred gentox\n",
       "4   DTXSID00100670           non gentox"
      ]
     },
     "execution_count": 101,
     "metadata": {},
     "output_type": "execute_result"
    }
   ],
   "source": [
    "calls_df.head()"
   ]
  },
  {
   "cell_type": "code",
   "execution_count": 102,
   "metadata": {},
   "outputs": [],
   "source": [
    "calls_df['overall_genetox_score'] = calls_df['Overall_genetox_call']"
   ]
  },
  {
   "cell_type": "code",
   "execution_count": 103,
   "metadata": {},
   "outputs": [],
   "source": [
    "tag_judson = {'pred gentox': 3, np.nan: 0, 'non gentox': 1, 'gentox': 4, 'inconclusive': 2, 'clastogen': 4, 'pred clastogen' :3, 'not clastogen': 1, 'pred non clastogen': 1,'pred non gentox': 1}"
   ]
  },
  {
   "cell_type": "code",
   "execution_count": 104,
   "metadata": {},
   "outputs": [],
   "source": [
    "calls_df['overall_genetox_score'].replace(tag_judson , inplace = True)"
   ]
  },
  {
   "cell_type": "code",
   "execution_count": 105,
   "metadata": {},
   "outputs": [
    {
     "data": {
      "text/plain": [
       "(22516, 3)"
      ]
     },
     "execution_count": 105,
     "metadata": {},
     "output_type": "execute_result"
    }
   ],
   "source": [
    "calls_df.shape"
   ]
  },
  {
   "cell_type": "code",
   "execution_count": 193,
   "metadata": {},
   "outputs": [],
   "source": [
    "# Create a Pandas Excel writer using XlsxWriter as the engine.\n",
    "writer = pd.ExcelWriter('calls_150221.xlsx', engine='xlsxwriter')\n",
    "\n",
    "# Convert the dataframe to an XlsxWriter Excel object.\n",
    "calls_df.to_excel(writer, sheet_name='DeMarini_predictions')\n",
    "\n",
    "# Close the Pandas Excel writer and output the Excel file.\n",
    "writer.save()"
   ]
  },
  {
   "cell_type": "code",
   "execution_count": 196,
   "metadata": {},
   "outputs": [
    {
     "data": {
      "text/plain": [
       "'/share/home3/gpatlewi/python/genetox_tsca/QCdatasets/new_tsca'"
      ]
     },
     "execution_count": 196,
     "metadata": {},
     "output_type": "execute_result"
    }
   ],
   "source": [
    "pwd"
   ]
  },
  {
   "cell_type": "code",
   "execution_count": 106,
   "metadata": {},
   "outputs": [],
   "source": [
    "xls215 = pd.ExcelFile('/share/home3/gpatlewi/python/genetox_tsca/TSCA_binning_picklist_18Sept2018.xlsx')"
   ]
  },
  {
   "cell_type": "code",
   "execution_count": 107,
   "metadata": {},
   "outputs": [
    {
     "data": {
      "text/plain": [
       "['Key', 'pick_215', 'pick_209', 'pick_297', 'binning_master']"
      ]
     },
     "execution_count": 107,
     "metadata": {},
     "output_type": "execute_result"
    }
   ],
   "source": [
    "xls215.sheet_names"
   ]
  },
  {
   "cell_type": "code",
   "execution_count": 108,
   "metadata": {},
   "outputs": [],
   "source": [
    "tscaact_poc = xls215.parse('pick_215')"
   ]
  },
  {
   "cell_type": "code",
   "execution_count": 109,
   "metadata": {},
   "outputs": [
    {
     "data": {
      "text/html": [
       "<div>\n",
       "<style scoped>\n",
       "    .dataframe tbody tr th:only-of-type {\n",
       "        vertical-align: middle;\n",
       "    }\n",
       "\n",
       "    .dataframe tbody tr th {\n",
       "        vertical-align: top;\n",
       "    }\n",
       "\n",
       "    .dataframe thead th {\n",
       "        text-align: right;\n",
       "    }\n",
       "</style>\n",
       "<table border=\"1\" class=\"dataframe\">\n",
       "  <thead>\n",
       "    <tr style=\"text-align: right;\">\n",
       "      <th></th>\n",
       "      <th>dsstox_substance_id</th>\n",
       "      <th>casrn</th>\n",
       "      <th>name</th>\n",
       "      <th>bin_med_seem2</th>\n",
       "      <th>bin_u95_seem2</th>\n",
       "      <th>bin_med_seem3</th>\n",
       "      <th>bin_u95_seem3</th>\n",
       "      <th>UVCB</th>\n",
       "      <th>RBP</th>\n",
       "      <th>SIDS</th>\n",
       "      <th>...</th>\n",
       "      <th>genotoxicity</th>\n",
       "      <th>HTTK.invitro</th>\n",
       "      <th>HTTK.Css95.invitro</th>\n",
       "      <th>HTTK.insilico</th>\n",
       "      <th>HTTK.Css95.insilico</th>\n",
       "      <th>genotoxicity.pick</th>\n",
       "      <th>aop.pick</th>\n",
       "      <th>eco.gen.pick</th>\n",
       "      <th>scil.gras.pick</th>\n",
       "      <th>Has_BER</th>\n",
       "    </tr>\n",
       "  </thead>\n",
       "  <tbody>\n",
       "    <tr>\n",
       "      <th>0</th>\n",
       "      <td>DTXSID0020232</td>\n",
       "      <td>58-08-2</td>\n",
       "      <td>Caffeine</td>\n",
       "      <td>1</td>\n",
       "      <td>1</td>\n",
       "      <td>1</td>\n",
       "      <td>1</td>\n",
       "      <td>NaN</td>\n",
       "      <td>NaN</td>\n",
       "      <td>1.0</td>\n",
       "      <td>...</td>\n",
       "      <td>0</td>\n",
       "      <td>1.0</td>\n",
       "      <td>0.303733</td>\n",
       "      <td>1.0</td>\n",
       "      <td>0.000000</td>\n",
       "      <td>0</td>\n",
       "      <td>0</td>\n",
       "      <td>1</td>\n",
       "      <td>NaN</td>\n",
       "      <td>1.0</td>\n",
       "    </tr>\n",
       "    <tr>\n",
       "      <th>1</th>\n",
       "      <td>DTXSID0020234</td>\n",
       "      <td>62-54-4</td>\n",
       "      <td>Calcium acetate</td>\n",
       "      <td>0</td>\n",
       "      <td>0</td>\n",
       "      <td>0</td>\n",
       "      <td>0</td>\n",
       "      <td>NaN</td>\n",
       "      <td>1.0</td>\n",
       "      <td>NaN</td>\n",
       "      <td>...</td>\n",
       "      <td>0</td>\n",
       "      <td>NaN</td>\n",
       "      <td>NaN</td>\n",
       "      <td>NaN</td>\n",
       "      <td>NaN</td>\n",
       "      <td>0</td>\n",
       "      <td>0</td>\n",
       "      <td>0</td>\n",
       "      <td>1.0</td>\n",
       "      <td>NaN</td>\n",
       "    </tr>\n",
       "    <tr>\n",
       "      <th>2</th>\n",
       "      <td>DTXSID0020280</td>\n",
       "      <td>88-73-3</td>\n",
       "      <td>1-Chloro-2-nitrobenzene</td>\n",
       "      <td>1</td>\n",
       "      <td>1</td>\n",
       "      <td>1</td>\n",
       "      <td>1</td>\n",
       "      <td>NaN</td>\n",
       "      <td>NaN</td>\n",
       "      <td>1.0</td>\n",
       "      <td>...</td>\n",
       "      <td>0</td>\n",
       "      <td>0.0</td>\n",
       "      <td>0.000000</td>\n",
       "      <td>1.0</td>\n",
       "      <td>0.468392</td>\n",
       "      <td>1</td>\n",
       "      <td>0</td>\n",
       "      <td>0</td>\n",
       "      <td>NaN</td>\n",
       "      <td>NaN</td>\n",
       "    </tr>\n",
       "    <tr>\n",
       "      <th>3</th>\n",
       "      <td>DTXSID0020446</td>\n",
       "      <td>330-54-1</td>\n",
       "      <td>Diuron</td>\n",
       "      <td>4</td>\n",
       "      <td>4</td>\n",
       "      <td>4</td>\n",
       "      <td>4</td>\n",
       "      <td>NaN</td>\n",
       "      <td>NaN</td>\n",
       "      <td>NaN</td>\n",
       "      <td>...</td>\n",
       "      <td>0</td>\n",
       "      <td>1.0</td>\n",
       "      <td>0.297922</td>\n",
       "      <td>1.0</td>\n",
       "      <td>0.000000</td>\n",
       "      <td>0</td>\n",
       "      <td>1</td>\n",
       "      <td>0</td>\n",
       "      <td>NaN</td>\n",
       "      <td>1.0</td>\n",
       "    </tr>\n",
       "    <tr>\n",
       "      <th>4</th>\n",
       "      <td>DTXSID0020448</td>\n",
       "      <td>78-87-5</td>\n",
       "      <td>1,2-Dichloropropane</td>\n",
       "      <td>5</td>\n",
       "      <td>4</td>\n",
       "      <td>4</td>\n",
       "      <td>4</td>\n",
       "      <td>NaN</td>\n",
       "      <td>NaN</td>\n",
       "      <td>1.0</td>\n",
       "      <td>...</td>\n",
       "      <td>0</td>\n",
       "      <td>0.0</td>\n",
       "      <td>0.000000</td>\n",
       "      <td>1.0</td>\n",
       "      <td>2.517750</td>\n",
       "      <td>0</td>\n",
       "      <td>0</td>\n",
       "      <td>0</td>\n",
       "      <td>NaN</td>\n",
       "      <td>NaN</td>\n",
       "    </tr>\n",
       "  </tbody>\n",
       "</table>\n",
       "<p>5 rows × 102 columns</p>\n",
       "</div>"
      ],
      "text/plain": [
       "  dsstox_substance_id     casrn                     name  bin_med_seem2  \\\n",
       "0       DTXSID0020232   58-08-2                 Caffeine              1   \n",
       "1       DTXSID0020234   62-54-4          Calcium acetate              0   \n",
       "2       DTXSID0020280   88-73-3  1-Chloro-2-nitrobenzene              1   \n",
       "3       DTXSID0020446  330-54-1                   Diuron              4   \n",
       "4       DTXSID0020448   78-87-5      1,2-Dichloropropane              5   \n",
       "\n",
       "   bin_u95_seem2  bin_med_seem3  bin_u95_seem3  UVCB  RBP  SIDS   ...     \\\n",
       "0              1              1              1   NaN  NaN   1.0   ...      \n",
       "1              0              0              0   NaN  1.0   NaN   ...      \n",
       "2              1              1              1   NaN  NaN   1.0   ...      \n",
       "3              4              4              4   NaN  NaN   NaN   ...      \n",
       "4              4              4              4   NaN  NaN   1.0   ...      \n",
       "\n",
       "   genotoxicity  HTTK.invitro  HTTK.Css95.invitro  HTTK.insilico  \\\n",
       "0             0           1.0            0.303733            1.0   \n",
       "1             0           NaN                 NaN            NaN   \n",
       "2             0           0.0            0.000000            1.0   \n",
       "3             0           1.0            0.297922            1.0   \n",
       "4             0           0.0            0.000000            1.0   \n",
       "\n",
       "   HTTK.Css95.insilico genotoxicity.pick  aop.pick  eco.gen.pick  \\\n",
       "0             0.000000                 0         0             1   \n",
       "1                  NaN                 0         0             0   \n",
       "2             0.468392                 1         0             0   \n",
       "3             0.000000                 0         1             0   \n",
       "4             2.517750                 0         0             0   \n",
       "\n",
       "   scil.gras.pick  Has_BER  \n",
       "0             NaN      1.0  \n",
       "1             1.0      NaN  \n",
       "2             NaN      NaN  \n",
       "3             NaN      1.0  \n",
       "4             NaN      NaN  \n",
       "\n",
       "[5 rows x 102 columns]"
      ]
     },
     "execution_count": 109,
     "metadata": {},
     "output_type": "execute_result"
    }
   ],
   "source": [
    "tscaact_poc.head()"
   ]
  },
  {
   "cell_type": "code",
   "execution_count": 110,
   "metadata": {},
   "outputs": [],
   "source": [
    "tsca215list = tscaact_poc.iloc[:,0].tolist()"
   ]
  },
  {
   "cell_type": "code",
   "execution_count": 111,
   "metadata": {},
   "outputs": [
    {
     "data": {
      "text/plain": [
       "215"
      ]
     },
     "execution_count": 111,
     "metadata": {},
     "output_type": "execute_result"
    }
   ],
   "source": [
    "len(tsca215list)"
   ]
  },
  {
   "cell_type": "code",
   "execution_count": 112,
   "metadata": {},
   "outputs": [
    {
     "data": {
      "text/html": [
       "<div>\n",
       "<style scoped>\n",
       "    .dataframe tbody tr th:only-of-type {\n",
       "        vertical-align: middle;\n",
       "    }\n",
       "\n",
       "    .dataframe tbody tr th {\n",
       "        vertical-align: top;\n",
       "    }\n",
       "\n",
       "    .dataframe thead th {\n",
       "        text-align: right;\n",
       "    }\n",
       "</style>\n",
       "<table border=\"1\" class=\"dataframe\">\n",
       "  <thead>\n",
       "    <tr style=\"text-align: right;\">\n",
       "      <th></th>\n",
       "      <th>dtxsid</th>\n",
       "      <th>Overall_genetox_call</th>\n",
       "      <th>overall_genetox_score</th>\n",
       "    </tr>\n",
       "  </thead>\n",
       "  <tbody>\n",
       "    <tr>\n",
       "      <th>0</th>\n",
       "      <td>DTXSID001000726</td>\n",
       "      <td>pred clastogen</td>\n",
       "      <td>3</td>\n",
       "    </tr>\n",
       "    <tr>\n",
       "      <th>1</th>\n",
       "      <td>DTXSID001003875</td>\n",
       "      <td>pred gentox</td>\n",
       "      <td>3</td>\n",
       "    </tr>\n",
       "    <tr>\n",
       "      <th>2</th>\n",
       "      <td>DTXSID00100498</td>\n",
       "      <td>not clastogen</td>\n",
       "      <td>1</td>\n",
       "    </tr>\n",
       "    <tr>\n",
       "      <th>3</th>\n",
       "      <td>DTXSID001006300</td>\n",
       "      <td>pred gentox</td>\n",
       "      <td>3</td>\n",
       "    </tr>\n",
       "    <tr>\n",
       "      <th>4</th>\n",
       "      <td>DTXSID00100670</td>\n",
       "      <td>non gentox</td>\n",
       "      <td>1</td>\n",
       "    </tr>\n",
       "  </tbody>\n",
       "</table>\n",
       "</div>"
      ],
      "text/plain": [
       "            dtxsid Overall_genetox_call  overall_genetox_score\n",
       "0  DTXSID001000726       pred clastogen                      3\n",
       "1  DTXSID001003875          pred gentox                      3\n",
       "2   DTXSID00100498        not clastogen                      1\n",
       "3  DTXSID001006300          pred gentox                      3\n",
       "4   DTXSID00100670           non gentox                      1"
      ]
     },
     "execution_count": 112,
     "metadata": {},
     "output_type": "execute_result"
    }
   ],
   "source": [
    "calls_df.head()"
   ]
  },
  {
   "cell_type": "code",
   "execution_count": 113,
   "metadata": {},
   "outputs": [],
   "source": [
    "calls215 = calls_df[calls_df['dtxsid'].isin(tsca215list)]"
   ]
  },
  {
   "cell_type": "code",
   "execution_count": 114,
   "metadata": {},
   "outputs": [
    {
     "data": {
      "text/plain": [
       "202"
      ]
     },
     "execution_count": 114,
     "metadata": {},
     "output_type": "execute_result"
    }
   ],
   "source": [
    "calls215.dtxsid.nunique()"
   ]
  },
  {
   "cell_type": "code",
   "execution_count": 115,
   "metadata": {},
   "outputs": [],
   "source": [
    "xls238 = pd.ExcelFile('/share/home3/gpatlewi/python/genetox_tsca/QCdatasets/POC238_280419.xlsx')"
   ]
  },
  {
   "cell_type": "code",
   "execution_count": 116,
   "metadata": {},
   "outputs": [
    {
     "data": {
      "text/plain": [
       "['Sheet1']"
      ]
     },
     "execution_count": 116,
     "metadata": {},
     "output_type": "execute_result"
    }
   ],
   "source": [
    "xls238.sheet_names"
   ]
  },
  {
   "cell_type": "code",
   "execution_count": 117,
   "metadata": {},
   "outputs": [],
   "source": [
    "poc238 = xls238.parse('Sheet1')"
   ]
  },
  {
   "cell_type": "code",
   "execution_count": 118,
   "metadata": {},
   "outputs": [
    {
     "data": {
      "text/plain": [
       "238"
      ]
     },
     "execution_count": 118,
     "metadata": {},
     "output_type": "execute_result"
    }
   ],
   "source": [
    "poc238.dsstox_substance_id.nunique()"
   ]
  },
  {
   "cell_type": "code",
   "execution_count": 119,
   "metadata": {},
   "outputs": [],
   "source": [
    "poc238_lst = poc238[poc238['TSCA_POC']==1]['dsstox_substance_id'].tolist()"
   ]
  },
  {
   "cell_type": "code",
   "execution_count": 120,
   "metadata": {},
   "outputs": [],
   "source": [
    "calls_poc = calls_df[calls_df['dtxsid'].isin(poc238_lst)]"
   ]
  },
  {
   "cell_type": "code",
   "execution_count": 121,
   "metadata": {},
   "outputs": [
    {
     "data": {
      "text/plain": [
       "gentox             81\n",
       "non gentox         77\n",
       "clastogen          33\n",
       "pred non gentox    10\n",
       "pred gentox         8\n",
       "inconclusive        6\n",
       "pred clastogen      6\n",
       "not clastogen       4\n",
       "Name: Overall_genetox_call, dtype: int64"
      ]
     },
     "execution_count": 121,
     "metadata": {},
     "output_type": "execute_result"
    }
   ],
   "source": [
    "calls_poc['Overall_genetox_call'].value_counts(dropna = False, normalize = False)"
   ]
  },
  {
   "cell_type": "code",
   "execution_count": 122,
   "metadata": {},
   "outputs": [
    {
     "data": {
      "text/plain": [
       "Index(['dtxsid', 'Overall_genetox_call', 'overall_genetox_score'], dtype='object')"
      ]
     },
     "execution_count": 122,
     "metadata": {},
     "output_type": "execute_result"
    }
   ],
   "source": [
    "calls_poc.columns"
   ]
  },
  {
   "cell_type": "code",
   "execution_count": 123,
   "metadata": {},
   "outputs": [
    {
     "data": {
      "text/plain": [
       "4    0.506667\n",
       "1    0.404444\n",
       "3    0.062222\n",
       "2    0.026667\n",
       "Name: overall_genetox_score, dtype: float64"
      ]
     },
     "execution_count": 123,
     "metadata": {},
     "output_type": "execute_result"
    }
   ],
   "source": [
    "calls_poc['overall_genetox_score'].value_counts(dropna = False, normalize = True)"
   ]
  },
  {
   "cell_type": "code",
   "execution_count": 124,
   "metadata": {},
   "outputs": [
    {
     "data": {
      "text/plain": [
       "(225, 3)"
      ]
     },
     "execution_count": 124,
     "metadata": {},
     "output_type": "execute_result"
    }
   ],
   "source": [
    "calls_poc.shape\n"
   ]
  },
  {
   "cell_type": "code",
   "execution_count": 125,
   "metadata": {},
   "outputs": [
    {
     "name": "stderr",
     "output_type": "stream",
     "text": [
      "/home/gpatlewi/anaconda3/lib/python3.6/site-packages/ipykernel_launcher.py:1: SettingWithCopyWarning: \n",
      "A value is trying to be set on a copy of a slice from a DataFrame.\n",
      "Try using .loc[row_indexer,col_indexer] = value instead\n",
      "\n",
      "See the caveats in the documentation: http://pandas.pydata.org/pandas-docs/stable/indexing.html#indexing-view-versus-copy\n",
      "  \"\"\"Entry point for launching an IPython kernel.\n"
     ]
    }
   ],
   "source": [
    "calls_poc['summary_outcome'] = calls_poc['Overall_genetox_call']"
   ]
  },
  {
   "cell_type": "code",
   "execution_count": 126,
   "metadata": {},
   "outputs": [],
   "source": [
    "tag_poc = {'gentox': 'genotoxic',\\\n",
    "           'non gentox': 'non-genotoxic',\\\n",
    "           'clastogen': 'genotoxic',\\\n",
    "           'pred non gentox': 'pred non-genotoxic',\\\n",
    "           'pred gentox': 'pred genotoxic', \\\n",
    "          'pred clastogen' : 'pred genotoxic',\\\n",
    "          'not clastogen': 'non-genotoxic'}"
   ]
  },
  {
   "cell_type": "code",
   "execution_count": 127,
   "metadata": {},
   "outputs": [
    {
     "name": "stderr",
     "output_type": "stream",
     "text": [
      "/home/gpatlewi/anaconda3/lib/python3.6/site-packages/pandas/core/generic.py:5886: SettingWithCopyWarning: \n",
      "A value is trying to be set on a copy of a slice from a DataFrame\n",
      "\n",
      "See the caveats in the documentation: http://pandas.pydata.org/pandas-docs/stable/indexing.html#indexing-view-versus-copy\n",
      "  self._update_inplace(new_data)\n"
     ]
    }
   ],
   "source": [
    "calls_poc['summary_outcome'].replace(tag_poc, inplace = True)"
   ]
  },
  {
   "cell_type": "code",
   "execution_count": 128,
   "metadata": {},
   "outputs": [
    {
     "data": {
      "text/plain": [
       "genotoxic             0.506667\n",
       "non-genotoxic         0.360000\n",
       "pred genotoxic        0.062222\n",
       "pred non-genotoxic    0.044444\n",
       "inconclusive          0.026667\n",
       "Name: summary_outcome, dtype: float64"
      ]
     },
     "execution_count": 128,
     "metadata": {},
     "output_type": "execute_result"
    }
   ],
   "source": [
    "calls_poc.summary_outcome.value_counts(dropna = False, normalize = True)"
   ]
  },
  {
   "cell_type": "code",
   "execution_count": 129,
   "metadata": {},
   "outputs": [
    {
     "data": {
      "text/html": [
       "<div>\n",
       "<style scoped>\n",
       "    .dataframe tbody tr th:only-of-type {\n",
       "        vertical-align: middle;\n",
       "    }\n",
       "\n",
       "    .dataframe tbody tr th {\n",
       "        vertical-align: top;\n",
       "    }\n",
       "\n",
       "    .dataframe thead th {\n",
       "        text-align: right;\n",
       "    }\n",
       "</style>\n",
       "<table border=\"1\" class=\"dataframe\">\n",
       "  <thead>\n",
       "    <tr style=\"text-align: right;\">\n",
       "      <th></th>\n",
       "      <th>dtxsid</th>\n",
       "      <th>Overall_genetox_call</th>\n",
       "      <th>overall_genetox_score</th>\n",
       "      <th>summary_outcome</th>\n",
       "    </tr>\n",
       "  </thead>\n",
       "  <tbody>\n",
       "    <tr>\n",
       "      <th>145</th>\n",
       "      <td>DTXSID0020280</td>\n",
       "      <td>gentox</td>\n",
       "      <td>4</td>\n",
       "      <td>genotoxic</td>\n",
       "    </tr>\n",
       "  </tbody>\n",
       "</table>\n",
       "</div>"
      ],
      "text/plain": [
       "            dtxsid Overall_genetox_call  overall_genetox_score summary_outcome\n",
       "145  DTXSID0020280               gentox                      4       genotoxic"
      ]
     },
     "execution_count": 129,
     "metadata": {},
     "output_type": "execute_result"
    }
   ],
   "source": [
    "calls_poc[calls_poc['dtxsid'] == 'DTXSID0020280']"
   ]
  },
  {
   "cell_type": "code",
   "execution_count": 130,
   "metadata": {},
   "outputs": [],
   "source": [
    "dtx_spec = genetox_final[genetox_final['dtxsid'] == 'DTXSID0020280']"
   ]
  },
  {
   "cell_type": "code",
   "execution_count": 131,
   "metadata": {},
   "outputs": [
    {
     "data": {
      "text/plain": [
       "1.0    1\n",
       "0.0    1\n",
       "Name: assay_outcome, dtype: int64"
      ]
     },
     "execution_count": 131,
     "metadata": {},
     "output_type": "execute_result"
    }
   ],
   "source": [
    "dtx_spec[dtx_spec['simple_aggregate']== 'pclastogen']['assay_outcome'].value_counts()"
   ]
  },
  {
   "cell_type": "code",
   "execution_count": 132,
   "metadata": {},
   "outputs": [],
   "source": [
    "tsca_all = pd.read_excel('TSCA_all.xlsx')"
   ]
  },
  {
   "cell_type": "code",
   "execution_count": 133,
   "metadata": {},
   "outputs": [
    {
     "data": {
      "text/plain": [
       "(33364, 14)"
      ]
     },
     "execution_count": 133,
     "metadata": {},
     "output_type": "execute_result"
    }
   ],
   "source": [
    "tsca_all.shape"
   ]
  },
  {
   "cell_type": "code",
   "execution_count": 134,
   "metadata": {},
   "outputs": [
    {
     "data": {
      "text/plain": [
       "(22516, 3)"
      ]
     },
     "execution_count": 134,
     "metadata": {},
     "output_type": "execute_result"
    }
   ],
   "source": [
    "calls_df.shape"
   ]
  },
  {
   "cell_type": "code",
   "execution_count": 135,
   "metadata": {},
   "outputs": [],
   "source": [
    "tsca_lst = tsca_all.DTXSID.tolist()"
   ]
  },
  {
   "cell_type": "code",
   "execution_count": 136,
   "metadata": {},
   "outputs": [],
   "source": [
    "calls_tsca = calls_df[calls_df['dtxsid'].isin(tsca_lst)]"
   ]
  },
  {
   "cell_type": "code",
   "execution_count": 137,
   "metadata": {},
   "outputs": [
    {
     "data": {
      "text/plain": [
       "pred gentox        7016\n",
       "pred non gentox    5125\n",
       "non gentox         4190\n",
       "pred clastogen     1933\n",
       "gentox             1294\n",
       "clastogen           518\n",
       "not clastogen       192\n",
       "inconclusive        103\n",
       "Name: Overall_genetox_call, dtype: int64"
      ]
     },
     "execution_count": 137,
     "metadata": {},
     "output_type": "execute_result"
    }
   ],
   "source": [
    "calls_tsca.Overall_genetox_call.value_counts()"
   ]
  },
  {
   "cell_type": "code",
   "execution_count": 138,
   "metadata": {},
   "outputs": [
    {
     "data": {
      "text/plain": [
       "1    9507\n",
       "3    8949\n",
       "4    1812\n",
       "2     103\n",
       "Name: overall_genetox_score, dtype: int64"
      ]
     },
     "execution_count": 138,
     "metadata": {},
     "output_type": "execute_result"
    }
   ],
   "source": [
    "calls_tsca.overall_genetox_score.value_counts(dropna = False)"
   ]
  },
  {
   "cell_type": "code",
   "execution_count": 139,
   "metadata": {},
   "outputs": [
    {
     "data": {
      "text/plain": [
       "1    0.466693\n",
       "3    0.439301\n",
       "4    0.088950\n",
       "2    0.005056\n",
       "Name: overall_genetox_score, dtype: float64"
      ]
     },
     "execution_count": 139,
     "metadata": {},
     "output_type": "execute_result"
    }
   ],
   "source": [
    "calls_tsca.overall_genetox_score.value_counts(dropna = False, normalize = True)"
   ]
  },
  {
   "cell_type": "code",
   "execution_count": 140,
   "metadata": {},
   "outputs": [
    {
     "data": {
      "text/plain": [
       "(20371, 3)"
      ]
     },
     "execution_count": 140,
     "metadata": {},
     "output_type": "execute_result"
    }
   ],
   "source": [
    "calls_tsca.shape"
   ]
  },
  {
   "cell_type": "code",
   "execution_count": 141,
   "metadata": {},
   "outputs": [
    {
     "data": {
      "text/plain": [
       "array(['pred clastogen', 'pred gentox', 'not clastogen', 'non gentox',\n",
       "       'gentox', 'clastogen', 'pred non gentox', 'inconclusive'],\n",
       "      dtype=object)"
      ]
     },
     "execution_count": 141,
     "metadata": {},
     "output_type": "execute_result"
    }
   ],
   "source": [
    "calls_tsca.Overall_genetox_call.unique()"
   ]
  },
  {
   "cell_type": "code",
   "execution_count": 142,
   "metadata": {},
   "outputs": [
    {
     "data": {
      "image/png": "[encoded data removed]",
      "text/plain": [
       "<Figure size 648x432 with 1 Axes>"
      ]
     },
     "metadata": {},
     "output_type": "display_data"
    }
   ],
   "source": [
    "plt.style.use('grayscale')\n",
    "plt.figure(figsize = (9,6))\n",
    "calls_tsca.Overall_genetox_call.value_counts().plot.bar()\n",
    "plt.xlabel('Overall Genotoxicity call')\n",
    "plt.ylabel('Count')\n",
    "plt.xticks(rotation = 45)\n",
    "plt.tight_layout()\n",
    "plt.savefig('TSCA_calls.png', dpi = 300)"
   ]
  },
  {
   "cell_type": "code",
   "execution_count": 143,
   "metadata": {},
   "outputs": [
    {
     "data": {
      "image/png": "[encoded data removed]",
      "text/plain": [
       "<Figure size 648x432 with 1 Axes>"
      ]
     },
     "metadata": {},
     "output_type": "display_data"
    }
   ],
   "source": [
    "plt.style.use('grayscale')\n",
    "plt.figure(figsize = (9,6))\n",
    "calls_poc.Overall_genetox_call.value_counts().plot.bar()\n",
    "plt.xlabel('Overall Genotoxicity call')\n",
    "plt.ylabel('Count')\n",
    "plt.xticks(rotation = 45)\n",
    "plt.tight_layout()\n",
    "plt.savefig('POC_calls.png', dpi = 300)"
   ]
  },
  {
   "cell_type": "code",
   "execution_count": 144,
   "metadata": {},
   "outputs": [
    {
     "data": {
      "image/png": "[encoded data removed]",
      "text/plain": [
       "<Figure size 648x432 with 1 Axes>"
      ]
     },
     "metadata": {},
     "output_type": "display_data"
    }
   ],
   "source": [
    "plt.style.use('grayscale')\n",
    "plt.figure(figsize = (9,6))\n",
    "calls_tsca.overall_genetox_score.value_counts().sort_index().plot.bar()\n",
    "plt.xlabel('Overall Genotoxicity call')\n",
    "plt.ylabel('Count')\n",
    "plt.xticks(rotation = 0)\n",
    "plt.tight_layout()\n",
    "plt.savefig('TSCA_scores.png', dpi = 300)"
   ]
  },
  {
   "cell_type": "code",
   "execution_count": 145,
   "metadata": {},
   "outputs": [
    {
     "data": {
      "image/png": "[encoded data removed]",
      "text/plain": [
       "<Figure size 648x432 with 1 Axes>"
      ]
     },
     "metadata": {},
     "output_type": "display_data"
    }
   ],
   "source": [
    "plt.style.use('grayscale')\n",
    "plt.figure(figsize = (9,6))\n",
    "calls_poc.overall_genetox_score.value_counts().sort_index().plot.bar()\n",
    "plt.xlabel('Overall Genotoxicity call')\n",
    "plt.ylabel('Count')\n",
    "plt.xticks(rotation = 0)\n",
    "plt.tight_layout()\n",
    "plt.savefig('POC_scores.png', dpi = 300)"
   ]
  },
  {
   "cell_type": "code",
   "execution_count": 146,
   "metadata": {},
   "outputs": [],
   "source": [
    "expt_calls_df = calls_tsca[calls_tsca.Overall_genetox_call.isin(['non gentox',\n",
    "       'gentox', 'clastogen','not clastogen', 'non gentox'])]"
   ]
  },
  {
   "cell_type": "code",
   "execution_count": 147,
   "metadata": {},
   "outputs": [
    {
     "data": {
      "text/plain": [
       "(6194, 3)"
      ]
     },
     "execution_count": 147,
     "metadata": {},
     "output_type": "execute_result"
    }
   ],
   "source": [
    "expt_calls_df.shape"
   ]
  },
  {
   "cell_type": "code",
   "execution_count": 148,
   "metadata": {},
   "outputs": [],
   "source": [
    "expt_ids = expt_calls_df.dtxsid.tolist()"
   ]
  },
  {
   "cell_type": "code",
   "execution_count": 149,
   "metadata": {},
   "outputs": [],
   "source": [
    "insilico_df = insilico.reset_index()"
   ]
  },
  {
   "cell_type": "code",
   "execution_count": 150,
   "metadata": {},
   "outputs": [
    {
     "data": {
      "text/html": [
       "<div>\n",
       "<style scoped>\n",
       "    .dataframe tbody tr th:only-of-type {\n",
       "        vertical-align: middle;\n",
       "    }\n",
       "\n",
       "    .dataframe tbody tr th {\n",
       "        vertical-align: top;\n",
       "    }\n",
       "\n",
       "    .dataframe thead th {\n",
       "        text-align: right;\n",
       "    }\n",
       "</style>\n",
       "<table border=\"1\" class=\"dataframe\">\n",
       "  <thead>\n",
       "    <tr style=\"text-align: right;\">\n",
       "      <th></th>\n",
       "      <th>index</th>\n",
       "      <th>aggregate_study_type</th>\n",
       "      <th>assay_outcome</th>\n",
       "      <th>simple_aggregate</th>\n",
       "    </tr>\n",
       "  </thead>\n",
       "  <tbody>\n",
       "    <tr>\n",
       "      <th>0</th>\n",
       "      <td>DTXSID2020004</td>\n",
       "      <td>DNA_Ames_CA_MNT_OASIS</td>\n",
       "      <td>0.0</td>\n",
       "      <td>pAmes</td>\n",
       "    </tr>\n",
       "    <tr>\n",
       "      <th>1</th>\n",
       "      <td>DTXSID7020005</td>\n",
       "      <td>DNA_Ames_CA_MNT_OASIS</td>\n",
       "      <td>0.0</td>\n",
       "      <td>pAmes</td>\n",
       "    </tr>\n",
       "    <tr>\n",
       "      <th>2</th>\n",
       "      <td>DTXSID2020006</td>\n",
       "      <td>DNA_Ames_CA_MNT_OASIS</td>\n",
       "      <td>0.0</td>\n",
       "      <td>pAmes</td>\n",
       "    </tr>\n",
       "    <tr>\n",
       "      <th>3</th>\n",
       "      <td>DTXSID7020009</td>\n",
       "      <td>DNA_Ames_CA_MNT_OASIS</td>\n",
       "      <td>0.0</td>\n",
       "      <td>pAmes</td>\n",
       "    </tr>\n",
       "    <tr>\n",
       "      <th>4</th>\n",
       "      <td>DTXSID6020010</td>\n",
       "      <td>DNA_Ames_CA_MNT_OASIS</td>\n",
       "      <td>0.0</td>\n",
       "      <td>pAmes</td>\n",
       "    </tr>\n",
       "  </tbody>\n",
       "</table>\n",
       "</div>"
      ],
      "text/plain": [
       "           index   aggregate_study_type  assay_outcome simple_aggregate\n",
       "0  DTXSID2020004  DNA_Ames_CA_MNT_OASIS            0.0            pAmes\n",
       "1  DTXSID7020005  DNA_Ames_CA_MNT_OASIS            0.0            pAmes\n",
       "2  DTXSID2020006  DNA_Ames_CA_MNT_OASIS            0.0            pAmes\n",
       "3  DTXSID7020009  DNA_Ames_CA_MNT_OASIS            0.0            pAmes\n",
       "4  DTXSID6020010  DNA_Ames_CA_MNT_OASIS            0.0            pAmes"
      ]
     },
     "execution_count": 150,
     "metadata": {},
     "output_type": "execute_result"
    }
   ],
   "source": [
    "insilico_df.head()"
   ]
  },
  {
   "cell_type": "code",
   "execution_count": 151,
   "metadata": {},
   "outputs": [],
   "source": [
    "insilico_calls = {}\n",
    "for i, group in insilico_df.groupby('index'):\n",
    "    subset = group[['simple_aggregate', 'assay_outcome']]\n",
    "    tuples = [tuple(x) for x in subset.values]\n",
    "    if ('Ames', 1) in tuples:\n",
    "        insilico_calls[i]='gentox'\n",
    "    elif ('clastogen', 1) in tuples:\n",
    "        insilico_calls[i]='clastogen'  \n",
    "    elif ('Ames', 2) in tuples:\n",
    "        insilico_calls[i]='inconclusive'    \n",
    "    elif ('clastogen', 2) in tuples:\n",
    "        insilico_calls[i]='inconclusive' \n",
    "    elif ('Ames', 0) in tuples:\n",
    "        insilico_insilico_calls[i]='non gentox'\n",
    "    elif ('clastogen', 0) in tuples:\n",
    "        insilico_calls[i]='not clastogen'    \n",
    "    elif ('pAmes', 1) in tuples:\n",
    "        insilico_calls[i]='pred gentox'\n",
    "    elif ('pclastogen', 1) in tuples:\n",
    "        insilico_calls[i]='pred clastogen'\n",
    "    elif ('pAmes', 0) in tuples:\n",
    "        insilico_calls[i]='pred non gentox'\n",
    "    elif ('pclastogen', 0) in tuples:\n",
    "        insilico_calls[i]='pred non clastogen'\n",
    "    else:\n",
    "        None"
   ]
  },
  {
   "cell_type": "code",
   "execution_count": 152,
   "metadata": {},
   "outputs": [],
   "source": [
    "insilico_calls_df = pd.DataFrame(list(insilico_calls.items()), columns = ['dtxsid', 'overall_call'])"
   ]
  },
  {
   "cell_type": "code",
   "execution_count": 153,
   "metadata": {},
   "outputs": [
    {
     "data": {
      "text/html": [
       "<div>\n",
       "<style scoped>\n",
       "    .dataframe tbody tr th:only-of-type {\n",
       "        vertical-align: middle;\n",
       "    }\n",
       "\n",
       "    .dataframe tbody tr th {\n",
       "        vertical-align: top;\n",
       "    }\n",
       "\n",
       "    .dataframe thead th {\n",
       "        text-align: right;\n",
       "    }\n",
       "</style>\n",
       "<table border=\"1\" class=\"dataframe\">\n",
       "  <thead>\n",
       "    <tr style=\"text-align: right;\">\n",
       "      <th></th>\n",
       "      <th>dtxsid</th>\n",
       "      <th>overall_call</th>\n",
       "    </tr>\n",
       "  </thead>\n",
       "  <tbody>\n",
       "    <tr>\n",
       "      <th>0</th>\n",
       "      <td>DTXSID001000726</td>\n",
       "      <td>pred clastogen</td>\n",
       "    </tr>\n",
       "    <tr>\n",
       "      <th>1</th>\n",
       "      <td>DTXSID001003875</td>\n",
       "      <td>pred gentox</td>\n",
       "    </tr>\n",
       "    <tr>\n",
       "      <th>2</th>\n",
       "      <td>DTXSID001006300</td>\n",
       "      <td>pred gentox</td>\n",
       "    </tr>\n",
       "    <tr>\n",
       "      <th>3</th>\n",
       "      <td>DTXSID001007489</td>\n",
       "      <td>pred gentox</td>\n",
       "    </tr>\n",
       "    <tr>\n",
       "      <th>4</th>\n",
       "      <td>DTXSID001009104</td>\n",
       "      <td>pred clastogen</td>\n",
       "    </tr>\n",
       "  </tbody>\n",
       "</table>\n",
       "</div>"
      ],
      "text/plain": [
       "            dtxsid    overall_call\n",
       "0  DTXSID001000726  pred clastogen\n",
       "1  DTXSID001003875     pred gentox\n",
       "2  DTXSID001006300     pred gentox\n",
       "3  DTXSID001007489     pred gentox\n",
       "4  DTXSID001009104  pred clastogen"
      ]
     },
     "execution_count": 153,
     "metadata": {},
     "output_type": "execute_result"
    }
   ],
   "source": [
    "insilico_calls_df.head()"
   ]
  },
  {
   "cell_type": "code",
   "execution_count": 154,
   "metadata": {},
   "outputs": [],
   "source": [
    "tag_pred = {'pred gentox': 4, 'pred non gentox': 1, 'pred clastogen' :4}"
   ]
  },
  {
   "cell_type": "code",
   "execution_count": 155,
   "metadata": {},
   "outputs": [],
   "source": [
    "preds_df = insilico_calls_df[insilico_calls_df['dtxsid'].isin(expt_ids)]"
   ]
  },
  {
   "cell_type": "code",
   "execution_count": 156,
   "metadata": {},
   "outputs": [],
   "source": [
    "#expt_calls_df"
   ]
  },
  {
   "cell_type": "code",
   "execution_count": 157,
   "metadata": {},
   "outputs": [],
   "source": [
    "merged_df = pd.merge(preds_df, expt_calls_df, on = 'dtxsid')"
   ]
  },
  {
   "cell_type": "code",
   "execution_count": 158,
   "metadata": {},
   "outputs": [],
   "source": [
    "merged_df['predicted_score'] = merged_df['overall_call'].map(tag_pred)"
   ]
  },
  {
   "cell_type": "code",
   "execution_count": 159,
   "metadata": {},
   "outputs": [],
   "source": [
    "tag_pred2 ={4:1, 1:0}"
   ]
  },
  {
   "cell_type": "code",
   "execution_count": 160,
   "metadata": {},
   "outputs": [],
   "source": [
    "merged_df = merged_df.replace(tag_pred2)"
   ]
  },
  {
   "cell_type": "code",
   "execution_count": 161,
   "metadata": {},
   "outputs": [
    {
     "data": {
      "text/plain": [
       "0    3636\n",
       "1    1594\n",
       "Name: overall_genetox_score, dtype: int64"
      ]
     },
     "execution_count": 161,
     "metadata": {},
     "output_type": "execute_result"
    }
   ],
   "source": [
    "merged_df.overall_genetox_score.value_counts()"
   ]
  },
  {
   "cell_type": "code",
   "execution_count": 162,
   "metadata": {},
   "outputs": [],
   "source": [
    "from sklearn.metrics import recall_score\n",
    "#from sklearn.metrics import balanced_accuracy\n",
    "from sklearn.metrics import roc_auc_score"
   ]
  },
  {
   "cell_type": "code",
   "execution_count": 165,
   "metadata": {},
   "outputs": [],
   "source": [
    "from sklearn.metrics import confusion_matrix\n",
    "from sklearn.metrics import classification_report"
   ]
  },
  {
   "cell_type": "code",
   "execution_count": 166,
   "metadata": {},
   "outputs": [
    {
     "name": "stdout",
     "output_type": "stream",
     "text": [
      "0.5753202672839429\n"
     ]
    }
   ],
   "source": [
    "print(roc_auc_score(merged_df['overall_genetox_score'], merged_df['predicted_score']))"
   ]
  },
  {
   "cell_type": "code",
   "execution_count": 167,
   "metadata": {},
   "outputs": [
    {
     "data": {
      "text/plain": [
       "array([[1394, 2242],\n",
       "       [ 371, 1223]])"
      ]
     },
     "execution_count": 167,
     "metadata": {},
     "output_type": "execute_result"
    }
   ],
   "source": [
    "confusion_matrix(merged_df['overall_genetox_score'], merged_df['predicted_score'])"
   ]
  },
  {
   "cell_type": "code",
   "execution_count": 171,
   "metadata": {},
   "outputs": [],
   "source": [
    "tn, fp, fn, tp = pd.crosstab(merged_df['overall_genetox_score'], merged_df['predicted_score']).values.ravel()"
   ]
  },
  {
   "cell_type": "code",
   "execution_count": 173,
   "metadata": {},
   "outputs": [
    {
     "name": "stdout",
     "output_type": "stream",
     "text": [
      "0.7672521957340025\n"
     ]
    }
   ],
   "source": [
    "sens = tp/(tp+fn)\n",
    "print(sens)"
   ]
  },
  {
   "cell_type": "code",
   "execution_count": 174,
   "metadata": {},
   "outputs": [
    {
     "name": "stdout",
     "output_type": "stream",
     "text": [
      "0.3833883388338834\n"
     ]
    }
   ],
   "source": [
    "spec = tn/(tn+fp)\n",
    "print(spec)"
   ]
  },
  {
   "cell_type": "code",
   "execution_count": 175,
   "metadata": {},
   "outputs": [
    {
     "name": "stdout",
     "output_type": "stream",
     "text": [
      "0.5753202672839429\n"
     ]
    }
   ],
   "source": [
    "print((sens + spec)/2)"
   ]
  },
  {
   "cell_type": "code",
   "execution_count": null,
   "metadata": {},
   "outputs": [],
   "source": []
  }
 ],
 "metadata": {
  "kernelspec": {
   "display_name": "Python 3",
   "language": "python",
   "name": "python3"
  },
  "language_info": {
   "codemirror_mode": {
    "name": "ipython",
    "version": 3
   },
   "file_extension": ".py",
   "mimetype": "text/x-python",
   "name": "python",
   "nbconvert_exporter": "python",
   "pygments_lexer": "ipython3",
   "version": "3.6.5"
  }
 },
 "nbformat": 4,
 "nbformat_minor": 2
}
