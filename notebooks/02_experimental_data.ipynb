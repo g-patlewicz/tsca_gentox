{
 "cells": [
  {
   "cell_type": "code",
   "execution_count": 1,
   "metadata": {},
   "outputs": [],
   "source": [
    "import numpy as np\n",
    "import pandas as pd\n",
    "import matplotlib.pyplot as plt\n",
    "import seaborn as sns\n",
    "%matplotlib inline"
   ]
  },
  {
   "cell_type": "code",
   "execution_count": 2,
   "metadata": {},
   "outputs": [],
   "source": [
    "import os"
   ]
  },
  {
   "cell_type": "markdown",
   "metadata": {},
   "source": [
    "#### Importing relevant libraries and setting up directory structure to open and export files more readily."
   ]
  },
  {
   "cell_type": "code",
   "execution_count": 3,
   "metadata": {},
   "outputs": [],
   "source": [
    "TOP = os.getcwd().replace('notebooks', '')\n",
    "raw_dir = TOP + 'data/raw/'\n",
    "processed_dir = TOP + 'data/processed/'\n",
    "interim_dir = TOP + 'data/interim/'\n",
    "external_dir = TOP + 'data/external/'\n",
    "figures_dir = TOP + 'reports/figures/'"
   ]
  },
  {
   "cell_type": "code",
   "execution_count": 4,
   "metadata": {},
   "outputs": [],
   "source": [
    "genetox_df = pd.read_excel(processed_dir+'genetox_merged_110221_final.xlsx')"
   ]
  },
  {
   "cell_type": "code",
   "execution_count": 5,
   "metadata": {},
   "outputs": [],
   "source": [
    "genetox_df.drop(['Unnamed: 0'], axis = 1, inplace = True)"
   ]
  },
  {
   "cell_type": "code",
   "execution_count": 6,
   "metadata": {},
   "outputs": [
    {
     "data": {
      "text/html": [
       "<div>\n",
       "<style scoped>\n",
       "    .dataframe tbody tr th:only-of-type {\n",
       "        vertical-align: middle;\n",
       "    }\n",
       "\n",
       "    .dataframe tbody tr th {\n",
       "        vertical-align: top;\n",
       "    }\n",
       "\n",
       "    .dataframe thead th {\n",
       "        text-align: right;\n",
       "    }\n",
       "</style>\n",
       "<table border=\"1\" class=\"dataframe\">\n",
       "  <thead>\n",
       "    <tr style=\"text-align: right;\">\n",
       "      <th></th>\n",
       "      <th>source</th>\n",
       "      <th>name</th>\n",
       "      <th>casrn</th>\n",
       "      <th>assay_category</th>\n",
       "      <th>assay_type</th>\n",
       "      <th>assay_result</th>\n",
       "      <th>species</th>\n",
       "      <th>strain</th>\n",
       "      <th>metabolic_activation</th>\n",
       "      <th>cytotoxicity</th>\n",
       "      <th>...</th>\n",
       "      <th>dose_response</th>\n",
       "      <th>panel_report</th>\n",
       "      <th>glp</th>\n",
       "      <th>guideline</th>\n",
       "      <th>dtxsid</th>\n",
       "      <th>standard_assay_type</th>\n",
       "      <th>assay_result_std</th>\n",
       "      <th>assay_outcome</th>\n",
       "      <th>aggregate_study_type</th>\n",
       "      <th>simple_aggregate</th>\n",
       "    </tr>\n",
       "  </thead>\n",
       "  <tbody>\n",
       "    <tr>\n",
       "      <th>0</th>\n",
       "      <td>eChemPortal</td>\n",
       "      <td>1,3,5-trinitro-1,3,5-triazinane</td>\n",
       "      <td>121-82-4</td>\n",
       "      <td>in vitro</td>\n",
       "      <td>fluctuation test</td>\n",
       "      <td>negative</td>\n",
       "      <td>S. typhimurium TA 98</td>\n",
       "      <td>NaN</td>\n",
       "      <td>with and without</td>\n",
       "      <td>not determined</td>\n",
       "      <td>...</td>\n",
       "      <td>NaN</td>\n",
       "      <td>NaN</td>\n",
       "      <td>no data</td>\n",
       "      <td>equivalent or similar to OECD Guideline 471 (B...</td>\n",
       "      <td>DTXSID9024142</td>\n",
       "      <td>bacterial fluctuation assay</td>\n",
       "      <td>negative</td>\n",
       "      <td>0</td>\n",
       "      <td>other</td>\n",
       "      <td>other</td>\n",
       "    </tr>\n",
       "    <tr>\n",
       "      <th>1</th>\n",
       "      <td>eChemPortal</td>\n",
       "      <td>1,3,5-trinitro-1,3,5-triazinane</td>\n",
       "      <td>121-82-4</td>\n",
       "      <td>in vitro</td>\n",
       "      <td>fluctuation test</td>\n",
       "      <td>negative</td>\n",
       "      <td>S. typhimurium TA 100</td>\n",
       "      <td>NaN</td>\n",
       "      <td>with and without</td>\n",
       "      <td>not determined</td>\n",
       "      <td>...</td>\n",
       "      <td>NaN</td>\n",
       "      <td>NaN</td>\n",
       "      <td>no data</td>\n",
       "      <td>equivalent or similar to OECD Guideline 471 (B...</td>\n",
       "      <td>DTXSID9024142</td>\n",
       "      <td>bacterial fluctuation assay</td>\n",
       "      <td>negative</td>\n",
       "      <td>0</td>\n",
       "      <td>other</td>\n",
       "      <td>other</td>\n",
       "    </tr>\n",
       "    <tr>\n",
       "      <th>2</th>\n",
       "      <td>eChemPortal</td>\n",
       "      <td>1,3,5-trinitro-1,3,5-triazinane</td>\n",
       "      <td>121-82-4</td>\n",
       "      <td>in vitro</td>\n",
       "      <td>fluctuation test</td>\n",
       "      <td>negative</td>\n",
       "      <td>S. typhimurium TA 98</td>\n",
       "      <td>NaN</td>\n",
       "      <td>with and without</td>\n",
       "      <td>not determined</td>\n",
       "      <td>...</td>\n",
       "      <td>NaN</td>\n",
       "      <td>NaN</td>\n",
       "      <td>no data</td>\n",
       "      <td>equivalent or similar to OECD Guideline 471 (B...</td>\n",
       "      <td>DTXSID9024142</td>\n",
       "      <td>bacterial fluctuation assay</td>\n",
       "      <td>negative</td>\n",
       "      <td>0</td>\n",
       "      <td>other</td>\n",
       "      <td>other</td>\n",
       "    </tr>\n",
       "    <tr>\n",
       "      <th>3</th>\n",
       "      <td>eChemPortal</td>\n",
       "      <td>nickel(2+) dichloride</td>\n",
       "      <td>7718-54-9</td>\n",
       "      <td>in vitro</td>\n",
       "      <td>bacterial fluctuation assay</td>\n",
       "      <td>negative</td>\n",
       "      <td>other: E. coli strains WP2+, WP2-, WP6, WP67, ...</td>\n",
       "      <td>NaN</td>\n",
       "      <td>with</td>\n",
       "      <td>yes</td>\n",
       "      <td>...</td>\n",
       "      <td>NaN</td>\n",
       "      <td>NaN</td>\n",
       "      <td>no data</td>\n",
       "      <td>according to other guideline: Gatehouse 1978 (...</td>\n",
       "      <td>DTXSID7040316</td>\n",
       "      <td>bacterial fluctuation assay</td>\n",
       "      <td>negative</td>\n",
       "      <td>0</td>\n",
       "      <td>other</td>\n",
       "      <td>other</td>\n",
       "    </tr>\n",
       "    <tr>\n",
       "      <th>4</th>\n",
       "      <td>eChemPortal</td>\n",
       "      <td>nickel(2+) ion dichloride</td>\n",
       "      <td>7718-54-9</td>\n",
       "      <td>in vitro</td>\n",
       "      <td>bacterial fluctuation assay</td>\n",
       "      <td>negative</td>\n",
       "      <td>other: E. coli strains WP2+, WP2-, WP6, WP67, ...</td>\n",
       "      <td>NaN</td>\n",
       "      <td>with</td>\n",
       "      <td>yes</td>\n",
       "      <td>...</td>\n",
       "      <td>NaN</td>\n",
       "      <td>NaN</td>\n",
       "      <td>no data</td>\n",
       "      <td>according to other guideline: Gatehouse 1978 (...</td>\n",
       "      <td>DTXSID7040316</td>\n",
       "      <td>bacterial fluctuation assay</td>\n",
       "      <td>negative</td>\n",
       "      <td>0</td>\n",
       "      <td>other</td>\n",
       "      <td>other</td>\n",
       "    </tr>\n",
       "  </tbody>\n",
       "</table>\n",
       "<p>5 rows × 35 columns</p>\n",
       "</div>"
      ],
      "text/plain": [
       "        source                             name      casrn assay_category  \\\n",
       "0  eChemPortal  1,3,5-trinitro-1,3,5-triazinane   121-82-4       in vitro   \n",
       "1  eChemPortal  1,3,5-trinitro-1,3,5-triazinane   121-82-4       in vitro   \n",
       "2  eChemPortal  1,3,5-trinitro-1,3,5-triazinane   121-82-4       in vitro   \n",
       "3  eChemPortal            nickel(2+) dichloride  7718-54-9       in vitro   \n",
       "4  eChemPortal        nickel(2+) ion dichloride  7718-54-9       in vitro   \n",
       "\n",
       "                    assay_type assay_result  \\\n",
       "0             fluctuation test     negative   \n",
       "1             fluctuation test     negative   \n",
       "2             fluctuation test     negative   \n",
       "3  bacterial fluctuation assay     negative   \n",
       "4  bacterial fluctuation assay     negative   \n",
       "\n",
       "                                             species strain  \\\n",
       "0                               S. typhimurium TA 98    NaN   \n",
       "1                              S. typhimurium TA 100    NaN   \n",
       "2                               S. typhimurium TA 98    NaN   \n",
       "3  other: E. coli strains WP2+, WP2-, WP6, WP67, ...    NaN   \n",
       "4  other: E. coli strains WP2+, WP2-, WP6, WP67, ...    NaN   \n",
       "\n",
       "  metabolic_activation    cytotoxicity  ... dose_response panel_report  \\\n",
       "0     with and without  not determined  ...           NaN          NaN   \n",
       "1     with and without  not determined  ...           NaN          NaN   \n",
       "2     with and without  not determined  ...           NaN          NaN   \n",
       "3                 with             yes  ...           NaN          NaN   \n",
       "4                 with             yes  ...           NaN          NaN   \n",
       "\n",
       "       glp                                          guideline         dtxsid  \\\n",
       "0  no data  equivalent or similar to OECD Guideline 471 (B...  DTXSID9024142   \n",
       "1  no data  equivalent or similar to OECD Guideline 471 (B...  DTXSID9024142   \n",
       "2  no data  equivalent or similar to OECD Guideline 471 (B...  DTXSID9024142   \n",
       "3  no data  according to other guideline: Gatehouse 1978 (...  DTXSID7040316   \n",
       "4  no data  according to other guideline: Gatehouse 1978 (...  DTXSID7040316   \n",
       "\n",
       "           standard_assay_type assay_result_std  assay_outcome  \\\n",
       "0  bacterial fluctuation assay         negative              0   \n",
       "1  bacterial fluctuation assay         negative              0   \n",
       "2  bacterial fluctuation assay         negative              0   \n",
       "3  bacterial fluctuation assay         negative              0   \n",
       "4  bacterial fluctuation assay         negative              0   \n",
       "\n",
       "   aggregate_study_type simple_aggregate  \n",
       "0                 other            other  \n",
       "1                 other            other  \n",
       "2                 other            other  \n",
       "3                 other            other  \n",
       "4                 other            other  \n",
       "\n",
       "[5 rows x 35 columns]"
      ]
     },
     "execution_count": 6,
     "metadata": {},
     "output_type": "execute_result"
    }
   ],
   "source": [
    "genetox_df.head()"
   ]
  },
  {
   "cell_type": "code",
   "execution_count": 8,
   "metadata": {},
   "outputs": [
    {
     "data": {
      "text/plain": [
       "(54805, 35)"
      ]
     },
     "execution_count": 8,
     "metadata": {},
     "output_type": "execute_result"
    }
   ],
   "source": [
    "genetox_df.shape"
   ]
  },
  {
   "cell_type": "code",
   "execution_count": 9,
   "metadata": {},
   "outputs": [
    {
     "data": {
      "text/plain": [
       "9299"
      ]
     },
     "execution_count": 9,
     "metadata": {},
     "output_type": "execute_result"
    }
   ],
   "source": [
    "genetox_df.dtxsid.nunique()"
   ]
  },
  {
   "cell_type": "code",
   "execution_count": 10,
   "metadata": {},
   "outputs": [
    {
     "data": {
      "text/plain": [
       "Ames             0.458188\n",
       "clastogen        0.262677\n",
       "other            0.182958\n",
       "gene_mutation    0.096177\n",
       "Name: simple_aggregate, dtype: float64"
      ]
     },
     "execution_count": 10,
     "metadata": {},
     "output_type": "execute_result"
    }
   ],
   "source": [
    "genetox_df.simple_aggregate.value_counts(dropna = False, normalize = True)"
   ]
  },
  {
   "cell_type": "code",
   "execution_count": 11,
   "metadata": {},
   "outputs": [
    {
     "data": {
      "text/plain": [
       "Ames             25111\n",
       "clastogen        14396\n",
       "other            10027\n",
       "gene_mutation     5271\n",
       "Name: simple_aggregate, dtype: int64"
      ]
     },
     "execution_count": 11,
     "metadata": {},
     "output_type": "execute_result"
    }
   ],
   "source": [
    "genetox_df.simple_aggregate.value_counts(dropna = False)"
   ]
  },
  {
   "cell_type": "code",
   "execution_count": 12,
   "metadata": {},
   "outputs": [],
   "source": [
    "test_for_plotting = genetox_df.groupby(['dtxsid', 'simple_aggregate']).size().reset_index()"
   ]
  },
  {
   "cell_type": "code",
   "execution_count": 13,
   "metadata": {},
   "outputs": [],
   "source": [
    "test_for_plotting =test_for_plotting.iloc[:50, :]"
   ]
  },
  {
   "cell_type": "code",
   "execution_count": 89,
   "metadata": {},
   "outputs": [
    {
     "data": {
      "image/png": "[encoded data removed]",
      "text/plain": [
       "<Figure size 1080x864 with 1 Axes>"
      ]
     },
     "metadata": {},
     "output_type": "display_data"
    }
   ],
   "source": [
    "plt.style.use('ggplot')\n",
    "plt.figure(figsize = (15,12))\n",
    "sns.barplot(data = test_for_plotting, y =  'dtxsid', x = 0, hue = 'simple_aggregate')\n",
    "plt.xlabel('count of studies')\n",
    "plt.savefig(figures_dir+'Figure2.png', dpi = 300)"
   ]
  },
  {
   "cell_type": "code",
   "execution_count": 25,
   "metadata": {},
   "outputs": [],
   "source": [
    "g = genetox_df.groupby(['dtxsid', 'simple_aggregate']).size().reset_index()"
   ]
  },
  {
   "cell_type": "code",
   "execution_count": 28,
   "metadata": {},
   "outputs": [],
   "source": [
    "g.columns = ['dtxsid', 'simple_aggregate', '#studies']"
   ]
  },
  {
   "cell_type": "markdown",
   "metadata": {},
   "source": [
    "#### How many chemicals tend to have 1 or more Ames studies"
   ]
  },
  {
   "cell_type": "code",
   "execution_count": 82,
   "metadata": {},
   "outputs": [
    {
     "data": {
      "text/plain": [
       "1    0.396873\n",
       "2    0.199677\n",
       "3    0.163936\n",
       "4    0.071482\n",
       "6    0.039092\n",
       "Name: #studies, dtype: float64"
      ]
     },
     "execution_count": 82,
     "metadata": {},
     "output_type": "execute_result"
    }
   ],
   "source": [
    "g[(g['simple_aggregate'] == 'Ames')]['#studies'].value_counts(normalize = True).head()"
   ]
  },
  {
   "cell_type": "code",
   "execution_count": 87,
   "metadata": {},
   "outputs": [
    {
     "data": {
      "text/plain": [
       "1    3198\n",
       "2    1609\n",
       "3    1321\n",
       "4     576\n",
       "6     315\n",
       "Name: #studies, dtype: int64"
      ]
     },
     "execution_count": 87,
     "metadata": {},
     "output_type": "execute_result"
    }
   ],
   "source": [
    "g[(g['simple_aggregate'] == 'Ames')]['#studies'].value_counts(normalize = False).head()"
   ]
  },
  {
   "cell_type": "markdown",
   "metadata": {},
   "source": [
    "#### How many chemicals tend to have 1 or more clastogen studies"
   ]
  },
  {
   "cell_type": "code",
   "execution_count": 85,
   "metadata": {},
   "outputs": [
    {
     "data": {
      "text/plain": [
       "1    0.356617\n",
       "2    0.308858\n",
       "4    0.096150\n",
       "3    0.091732\n",
       "6    0.027562\n",
       "Name: #studies, dtype: float64"
      ]
     },
     "execution_count": 85,
     "metadata": {},
     "output_type": "execute_result"
    }
   ],
   "source": [
    "g[(g['simple_aggregate'] == 'clastogen')]['#studies'].value_counts(normalize = True).head()"
   ]
  },
  {
   "cell_type": "code",
   "execution_count": 86,
   "metadata": {},
   "outputs": [
    {
     "data": {
      "text/plain": [
       "1    1695\n",
       "2    1468\n",
       "4     457\n",
       "3     436\n",
       "6     131\n",
       "Name: #studies, dtype: int64"
      ]
     },
     "execution_count": 86,
     "metadata": {},
     "output_type": "execute_result"
    }
   ],
   "source": [
    "g[(g['simple_aggregate'] == 'clastogen')]['#studies'].value_counts(normalize = False).head()"
   ]
  },
  {
   "cell_type": "markdown",
   "metadata": {},
   "source": [
    "#### Histograms to explore the number of studies per chemical across aggregate study types"
   ]
  },
  {
   "cell_type": "code",
   "execution_count": 90,
   "metadata": {},
   "outputs": [
    {
     "data": {
      "image/png": "[encoded data removed]",
      "text/plain": [
       "<Figure size 1080x864 with 4 Axes>"
      ]
     },
     "metadata": {},
     "output_type": "display_data"
    }
   ],
   "source": [
    "f, ax = plt.subplots(1,4, figsize = (15,12), sharex = False, sharey = False)\n",
    "ax[0].hist(g[(g['simple_aggregate'] == 'Ames')]['#studies'], bins = 15, color = 'r', label = 'Ames', alpha = 0.5)\n",
    "ax[1].hist(g[(g['simple_aggregate'] == 'clastogen')]['#studies'], color = 'b', alpha = 0.3, label = 'clastogen')\n",
    "ax[2].hist(g[(g['simple_aggregate'] == 'other')]['#studies'], color = 'g', alpha = 0.5, label = 'other')\n",
    "ax[3].hist(g[(g['simple_aggregate'] == 'gene_mutation')]['#studies'], color = 'black', label = 'gene_mutation')\n",
    "ax[0].legend()\n",
    "ax[1].legend()\n",
    "ax[2].legend()\n",
    "ax[3].legend()\n",
    "\n",
    "ax[1].set_xlabel('Count of studies per chemical')\n",
    "f.savefig(figures_dir+'Figure3.png', dpi = 300)"
   ]
  },
  {
   "cell_type": "code",
   "execution_count": 92,
   "metadata": {},
   "outputs": [
    {
     "data": {
      "text/html": [
       "<div>\n",
       "<style scoped>\n",
       "    .dataframe tbody tr th:only-of-type {\n",
       "        vertical-align: middle;\n",
       "    }\n",
       "\n",
       "    .dataframe tbody tr th {\n",
       "        vertical-align: top;\n",
       "    }\n",
       "\n",
       "    .dataframe thead th {\n",
       "        text-align: right;\n",
       "    }\n",
       "</style>\n",
       "<table border=\"1\" class=\"dataframe\">\n",
       "  <thead>\n",
       "    <tr style=\"text-align: right;\">\n",
       "      <th></th>\n",
       "      <th>dtxsid</th>\n",
       "      <th>simple_aggregate</th>\n",
       "      <th>#studies</th>\n",
       "    </tr>\n",
       "  </thead>\n",
       "  <tbody>\n",
       "    <tr>\n",
       "      <th>3783</th>\n",
       "      <td>DTXSID2020216</td>\n",
       "      <td>other</td>\n",
       "      <td>106</td>\n",
       "    </tr>\n",
       "  </tbody>\n",
       "</table>\n",
       "</div>"
      ],
      "text/plain": [
       "             dtxsid simple_aggregate  #studies\n",
       "3783  DTXSID2020216            other       106"
      ]
     },
     "execution_count": 92,
     "metadata": {},
     "output_type": "execute_result"
    }
   ],
   "source": [
    "g[g['#studies'] == g['#studies'].max()]"
   ]
  },
  {
   "cell_type": "code",
   "execution_count": 34,
   "metadata": {},
   "outputs": [
    {
     "data": {
      "text/html": [
       "<div>\n",
       "<style scoped>\n",
       "    .dataframe tbody tr th:only-of-type {\n",
       "        vertical-align: middle;\n",
       "    }\n",
       "\n",
       "    .dataframe tbody tr th {\n",
       "        vertical-align: top;\n",
       "    }\n",
       "\n",
       "    .dataframe thead th {\n",
       "        text-align: right;\n",
       "    }\n",
       "</style>\n",
       "<table border=\"1\" class=\"dataframe\">\n",
       "  <thead>\n",
       "    <tr style=\"text-align: right;\">\n",
       "      <th></th>\n",
       "      <th>dtxsid</th>\n",
       "      <th>simple_aggregate</th>\n",
       "      <th>#studies</th>\n",
       "    </tr>\n",
       "  </thead>\n",
       "  <tbody>\n",
       "    <tr>\n",
       "      <th>3783</th>\n",
       "      <td>DTXSID2020216</td>\n",
       "      <td>other</td>\n",
       "      <td>106</td>\n",
       "    </tr>\n",
       "  </tbody>\n",
       "</table>\n",
       "</div>"
      ],
      "text/plain": [
       "             dtxsid simple_aggregate  #studies\n",
       "3783  DTXSID2020216            other       106"
      ]
     },
     "execution_count": 34,
     "metadata": {},
     "output_type": "execute_result"
    }
   ],
   "source": [
    "g[g['#studies'] == 106]"
   ]
  },
  {
   "cell_type": "code",
   "execution_count": 93,
   "metadata": {},
   "outputs": [
    {
     "data": {
      "text/plain": [
       "other            106\n",
       "Ames              30\n",
       "clastogen         19\n",
       "gene_mutation      1\n",
       "Name: simple_aggregate, dtype: int64"
      ]
     },
     "execution_count": 93,
     "metadata": {},
     "output_type": "execute_result"
    }
   ],
   "source": [
    "genetox_df[genetox_df['dtxsid'] == 'DTXSID2020216']['simple_aggregate'].value_counts()"
   ]
  },
  {
   "cell_type": "code",
   "execution_count": 96,
   "metadata": {},
   "outputs": [
    {
     "data": {
      "text/plain": [
       "156"
      ]
     },
     "execution_count": 96,
     "metadata": {},
     "output_type": "execute_result"
    }
   ],
   "source": [
    "genetox_df[genetox_df['dtxsid'] == 'DTXSID2020216']['simple_aggregate'].count()"
   ]
  },
  {
   "cell_type": "code",
   "execution_count": 94,
   "metadata": {},
   "outputs": [
    {
     "data": {
      "text/html": [
       "<div>\n",
       "<style scoped>\n",
       "    .dataframe tbody tr th:only-of-type {\n",
       "        vertical-align: middle;\n",
       "    }\n",
       "\n",
       "    .dataframe tbody tr th {\n",
       "        vertical-align: top;\n",
       "    }\n",
       "\n",
       "    .dataframe thead th {\n",
       "        text-align: right;\n",
       "    }\n",
       "</style>\n",
       "<table border=\"1\" class=\"dataframe\">\n",
       "  <thead>\n",
       "    <tr style=\"text-align: right;\">\n",
       "      <th></th>\n",
       "      <th>source</th>\n",
       "      <th>name</th>\n",
       "      <th>casrn</th>\n",
       "      <th>assay_category</th>\n",
       "      <th>assay_type</th>\n",
       "      <th>assay_result</th>\n",
       "      <th>species</th>\n",
       "      <th>strain</th>\n",
       "      <th>metabolic_activation</th>\n",
       "      <th>cytotoxicity</th>\n",
       "      <th>...</th>\n",
       "      <th>dose_response</th>\n",
       "      <th>panel_report</th>\n",
       "      <th>glp</th>\n",
       "      <th>guideline</th>\n",
       "      <th>dtxsid</th>\n",
       "      <th>standard_assay_type</th>\n",
       "      <th>assay_result_std</th>\n",
       "      <th>assay_outcome</th>\n",
       "      <th>aggregate_study_type</th>\n",
       "      <th>simple_aggregate</th>\n",
       "    </tr>\n",
       "  </thead>\n",
       "  <tbody>\n",
       "    <tr>\n",
       "      <th>612</th>\n",
       "      <td>COSMOS</td>\n",
       "      <td>BHT (INCI); BHT (Preferred Term)</td>\n",
       "      <td>128-37-0</td>\n",
       "      <td>in vitro</td>\n",
       "      <td>Bacterial Mutagenesis</td>\n",
       "      <td>negative</td>\n",
       "      <td>SALMONELLA TYPHIMURIUM</td>\n",
       "      <td>TA1537</td>\n",
       "      <td>NaN</td>\n",
       "      <td>NaN</td>\n",
       "      <td>...</td>\n",
       "      <td>NaN</td>\n",
       "      <td>NaN</td>\n",
       "      <td>NaN</td>\n",
       "      <td>NaN</td>\n",
       "      <td>DTXSID2020216</td>\n",
       "      <td>bacterial reverse mutation test</td>\n",
       "      <td>negative</td>\n",
       "      <td>0</td>\n",
       "      <td>Ames</td>\n",
       "      <td>Ames</td>\n",
       "    </tr>\n",
       "    <tr>\n",
       "      <th>613</th>\n",
       "      <td>COSMOS</td>\n",
       "      <td>BHT (INCI); BHT (Preferred Term)</td>\n",
       "      <td>128-37-0</td>\n",
       "      <td>in vitro</td>\n",
       "      <td>Bacterial Mutagenesis</td>\n",
       "      <td>negative</td>\n",
       "      <td>SALMONELLA TYPHIMURIUM</td>\n",
       "      <td>TA1535</td>\n",
       "      <td>NaN</td>\n",
       "      <td>NaN</td>\n",
       "      <td>...</td>\n",
       "      <td>NaN</td>\n",
       "      <td>NaN</td>\n",
       "      <td>NaN</td>\n",
       "      <td>NaN</td>\n",
       "      <td>DTXSID2020216</td>\n",
       "      <td>bacterial reverse mutation test</td>\n",
       "      <td>negative</td>\n",
       "      <td>0</td>\n",
       "      <td>Ames</td>\n",
       "      <td>Ames</td>\n",
       "    </tr>\n",
       "    <tr>\n",
       "      <th>614</th>\n",
       "      <td>COSMOS</td>\n",
       "      <td>BHT (INCI); BHT (Preferred Term)</td>\n",
       "      <td>128-37-0</td>\n",
       "      <td>in vitro</td>\n",
       "      <td>Bacterial Mutagenesis</td>\n",
       "      <td>positive</td>\n",
       "      <td>SALMONELLA TYPHIMURIUM</td>\n",
       "      <td>TA1535</td>\n",
       "      <td>NaN</td>\n",
       "      <td>NaN</td>\n",
       "      <td>...</td>\n",
       "      <td>NaN</td>\n",
       "      <td>NaN</td>\n",
       "      <td>NaN</td>\n",
       "      <td>NaN</td>\n",
       "      <td>DTXSID2020216</td>\n",
       "      <td>bacterial reverse mutation test</td>\n",
       "      <td>positive</td>\n",
       "      <td>1</td>\n",
       "      <td>Ames</td>\n",
       "      <td>Ames</td>\n",
       "    </tr>\n",
       "    <tr>\n",
       "      <th>615</th>\n",
       "      <td>COSMOS</td>\n",
       "      <td>BHT (INCI); BHT (Preferred Term)</td>\n",
       "      <td>128-37-0</td>\n",
       "      <td>in vitro</td>\n",
       "      <td>Bacterial Mutagenesis</td>\n",
       "      <td>positive</td>\n",
       "      <td>SALMONELLA TYPHIMURIUM</td>\n",
       "      <td>TA100</td>\n",
       "      <td>NaN</td>\n",
       "      <td>NaN</td>\n",
       "      <td>...</td>\n",
       "      <td>NaN</td>\n",
       "      <td>NaN</td>\n",
       "      <td>NaN</td>\n",
       "      <td>NaN</td>\n",
       "      <td>DTXSID2020216</td>\n",
       "      <td>bacterial reverse mutation test</td>\n",
       "      <td>positive</td>\n",
       "      <td>1</td>\n",
       "      <td>Ames</td>\n",
       "      <td>Ames</td>\n",
       "    </tr>\n",
       "    <tr>\n",
       "      <th>616</th>\n",
       "      <td>COSMOS</td>\n",
       "      <td>BHT (INCI); BHT (Preferred Term)</td>\n",
       "      <td>128-37-0</td>\n",
       "      <td>in vitro</td>\n",
       "      <td>Bacterial Mutagenesis</td>\n",
       "      <td>positive</td>\n",
       "      <td>SALMONELLA TYPHIMURIUM</td>\n",
       "      <td>TA100</td>\n",
       "      <td>NaN</td>\n",
       "      <td>NaN</td>\n",
       "      <td>...</td>\n",
       "      <td>NaN</td>\n",
       "      <td>NaN</td>\n",
       "      <td>NaN</td>\n",
       "      <td>NaN</td>\n",
       "      <td>DTXSID2020216</td>\n",
       "      <td>bacterial reverse mutation test</td>\n",
       "      <td>positive</td>\n",
       "      <td>1</td>\n",
       "      <td>Ames</td>\n",
       "      <td>Ames</td>\n",
       "    </tr>\n",
       "    <tr>\n",
       "      <th>...</th>\n",
       "      <td>...</td>\n",
       "      <td>...</td>\n",
       "      <td>...</td>\n",
       "      <td>...</td>\n",
       "      <td>...</td>\n",
       "      <td>...</td>\n",
       "      <td>...</td>\n",
       "      <td>...</td>\n",
       "      <td>...</td>\n",
       "      <td>...</td>\n",
       "      <td>...</td>\n",
       "      <td>...</td>\n",
       "      <td>...</td>\n",
       "      <td>...</td>\n",
       "      <td>...</td>\n",
       "      <td>...</td>\n",
       "      <td>...</td>\n",
       "      <td>...</td>\n",
       "      <td>...</td>\n",
       "      <td>...</td>\n",
       "      <td>...</td>\n",
       "    </tr>\n",
       "    <tr>\n",
       "      <th>53704</th>\n",
       "      <td>COSMOS</td>\n",
       "      <td>BHT (INCI); BHT (Preferred Term)</td>\n",
       "      <td>128-37-0</td>\n",
       "      <td>in vitro</td>\n",
       "      <td>In Vivo Non-mammalian Mutagenesis</td>\n",
       "      <td>positive</td>\n",
       "      <td>DROSOPHILA MELANOGASTER</td>\n",
       "      <td>NaN</td>\n",
       "      <td>NaN</td>\n",
       "      <td>NaN</td>\n",
       "      <td>...</td>\n",
       "      <td>NaN</td>\n",
       "      <td>NaN</td>\n",
       "      <td>NaN</td>\n",
       "      <td>NaN</td>\n",
       "      <td>DTXSID2020216</td>\n",
       "      <td>Other mutation</td>\n",
       "      <td>positive</td>\n",
       "      <td>1</td>\n",
       "      <td>other</td>\n",
       "      <td>other</td>\n",
       "    </tr>\n",
       "    <tr>\n",
       "      <th>53705</th>\n",
       "      <td>COSMOS</td>\n",
       "      <td>BHT (INCI); BHT (Preferred Term)</td>\n",
       "      <td>128-37-0</td>\n",
       "      <td>in vitro</td>\n",
       "      <td>In Vivo Non-mammalian Mutagenesis</td>\n",
       "      <td>positive</td>\n",
       "      <td>DROSOPHILA MELANOGASTER</td>\n",
       "      <td>NaN</td>\n",
       "      <td>NaN</td>\n",
       "      <td>NaN</td>\n",
       "      <td>...</td>\n",
       "      <td>NaN</td>\n",
       "      <td>NaN</td>\n",
       "      <td>NaN</td>\n",
       "      <td>NaN</td>\n",
       "      <td>DTXSID2020216</td>\n",
       "      <td>Other mutation</td>\n",
       "      <td>positive</td>\n",
       "      <td>1</td>\n",
       "      <td>other</td>\n",
       "      <td>other</td>\n",
       "    </tr>\n",
       "    <tr>\n",
       "      <th>53706</th>\n",
       "      <td>COSMOS</td>\n",
       "      <td>BHT (INCI); BHT (Preferred Term)</td>\n",
       "      <td>128-37-0</td>\n",
       "      <td>in vitro</td>\n",
       "      <td>In Vivo Non-mammalian Mutagenesis</td>\n",
       "      <td>positive</td>\n",
       "      <td>DROSOPHILA MELANOGASTER</td>\n",
       "      <td>NaN</td>\n",
       "      <td>NaN</td>\n",
       "      <td>NaN</td>\n",
       "      <td>...</td>\n",
       "      <td>NaN</td>\n",
       "      <td>NaN</td>\n",
       "      <td>NaN</td>\n",
       "      <td>NaN</td>\n",
       "      <td>DTXSID2020216</td>\n",
       "      <td>Other mutation</td>\n",
       "      <td>positive</td>\n",
       "      <td>1</td>\n",
       "      <td>other</td>\n",
       "      <td>other</td>\n",
       "    </tr>\n",
       "    <tr>\n",
       "      <th>53707</th>\n",
       "      <td>COSMOS</td>\n",
       "      <td>BHT (INCI); BHT (Preferred Term)</td>\n",
       "      <td>128-37-0</td>\n",
       "      <td>in vitro</td>\n",
       "      <td>In Vivo Non-mammalian Mutagenesis</td>\n",
       "      <td>positive</td>\n",
       "      <td>DROSOPHILA MELANOGASTER</td>\n",
       "      <td>NaN</td>\n",
       "      <td>NaN</td>\n",
       "      <td>NaN</td>\n",
       "      <td>...</td>\n",
       "      <td>NaN</td>\n",
       "      <td>NaN</td>\n",
       "      <td>NaN</td>\n",
       "      <td>NaN</td>\n",
       "      <td>DTXSID2020216</td>\n",
       "      <td>Other mutation</td>\n",
       "      <td>positive</td>\n",
       "      <td>1</td>\n",
       "      <td>other</td>\n",
       "      <td>other</td>\n",
       "    </tr>\n",
       "    <tr>\n",
       "      <th>54741</th>\n",
       "      <td>TOXNET</td>\n",
       "      <td>BUTYLATED HYDROXYTOLUENE</td>\n",
       "      <td>128-37-0</td>\n",
       "      <td>in vitro</td>\n",
       "      <td>Aneuploidy, whole sex chromosome loss, chromos...</td>\n",
       "      <td>positive</td>\n",
       "      <td>Drosophila melanogaster</td>\n",
       "      <td>NaN</td>\n",
       "      <td>NaN</td>\n",
       "      <td>NaN</td>\n",
       "      <td>...</td>\n",
       "      <td>NaN</td>\n",
       "      <td>EMICBACK/52867; MUTAT RES 134:61-88,1984</td>\n",
       "      <td>NaN</td>\n",
       "      <td>NaN</td>\n",
       "      <td>DTXSID2020216</td>\n",
       "      <td>Other chromosomal aberration</td>\n",
       "      <td>positive</td>\n",
       "      <td>1</td>\n",
       "      <td>other</td>\n",
       "      <td>other</td>\n",
       "    </tr>\n",
       "  </tbody>\n",
       "</table>\n",
       "<p>156 rows × 35 columns</p>\n",
       "</div>"
      ],
      "text/plain": [
       "       source                              name     casrn assay_category  \\\n",
       "612    COSMOS  BHT (INCI); BHT (Preferred Term)  128-37-0       in vitro   \n",
       "613    COSMOS  BHT (INCI); BHT (Preferred Term)  128-37-0       in vitro   \n",
       "614    COSMOS  BHT (INCI); BHT (Preferred Term)  128-37-0       in vitro   \n",
       "615    COSMOS  BHT (INCI); BHT (Preferred Term)  128-37-0       in vitro   \n",
       "616    COSMOS  BHT (INCI); BHT (Preferred Term)  128-37-0       in vitro   \n",
       "...       ...                               ...       ...            ...   \n",
       "53704  COSMOS  BHT (INCI); BHT (Preferred Term)  128-37-0       in vitro   \n",
       "53705  COSMOS  BHT (INCI); BHT (Preferred Term)  128-37-0       in vitro   \n",
       "53706  COSMOS  BHT (INCI); BHT (Preferred Term)  128-37-0       in vitro   \n",
       "53707  COSMOS  BHT (INCI); BHT (Preferred Term)  128-37-0       in vitro   \n",
       "54741  TOXNET          BUTYLATED HYDROXYTOLUENE  128-37-0       in vitro   \n",
       "\n",
       "                                              assay_type assay_result  \\\n",
       "612                                Bacterial Mutagenesis     negative   \n",
       "613                                Bacterial Mutagenesis     negative   \n",
       "614                                Bacterial Mutagenesis     positive   \n",
       "615                                Bacterial Mutagenesis     positive   \n",
       "616                                Bacterial Mutagenesis     positive   \n",
       "...                                                  ...          ...   \n",
       "53704                  In Vivo Non-mammalian Mutagenesis     positive   \n",
       "53705                  In Vivo Non-mammalian Mutagenesis     positive   \n",
       "53706                  In Vivo Non-mammalian Mutagenesis     positive   \n",
       "53707                  In Vivo Non-mammalian Mutagenesis     positive   \n",
       "54741  Aneuploidy, whole sex chromosome loss, chromos...     positive   \n",
       "\n",
       "                       species  strain metabolic_activation cytotoxicity  ...  \\\n",
       "612     SALMONELLA TYPHIMURIUM  TA1537                  NaN          NaN  ...   \n",
       "613     SALMONELLA TYPHIMURIUM  TA1535                  NaN          NaN  ...   \n",
       "614     SALMONELLA TYPHIMURIUM  TA1535                  NaN          NaN  ...   \n",
       "615     SALMONELLA TYPHIMURIUM   TA100                  NaN          NaN  ...   \n",
       "616     SALMONELLA TYPHIMURIUM   TA100                  NaN          NaN  ...   \n",
       "...                        ...     ...                  ...          ...  ...   \n",
       "53704  DROSOPHILA MELANOGASTER     NaN                  NaN          NaN  ...   \n",
       "53705  DROSOPHILA MELANOGASTER     NaN                  NaN          NaN  ...   \n",
       "53706  DROSOPHILA MELANOGASTER     NaN                  NaN          NaN  ...   \n",
       "53707  DROSOPHILA MELANOGASTER     NaN                  NaN          NaN  ...   \n",
       "54741  Drosophila melanogaster     NaN                  NaN          NaN  ...   \n",
       "\n",
       "      dose_response                              panel_report  glp  guideline  \\\n",
       "612             NaN                                       NaN  NaN        NaN   \n",
       "613             NaN                                       NaN  NaN        NaN   \n",
       "614             NaN                                       NaN  NaN        NaN   \n",
       "615             NaN                                       NaN  NaN        NaN   \n",
       "616             NaN                                       NaN  NaN        NaN   \n",
       "...             ...                                       ...  ...        ...   \n",
       "53704           NaN                                       NaN  NaN        NaN   \n",
       "53705           NaN                                       NaN  NaN        NaN   \n",
       "53706           NaN                                       NaN  NaN        NaN   \n",
       "53707           NaN                                       NaN  NaN        NaN   \n",
       "54741           NaN  EMICBACK/52867; MUTAT RES 134:61-88,1984  NaN        NaN   \n",
       "\n",
       "              dtxsid              standard_assay_type assay_result_std  \\\n",
       "612    DTXSID2020216  bacterial reverse mutation test         negative   \n",
       "613    DTXSID2020216  bacterial reverse mutation test         negative   \n",
       "614    DTXSID2020216  bacterial reverse mutation test         positive   \n",
       "615    DTXSID2020216  bacterial reverse mutation test         positive   \n",
       "616    DTXSID2020216  bacterial reverse mutation test         positive   \n",
       "...              ...                              ...              ...   \n",
       "53704  DTXSID2020216                   Other mutation         positive   \n",
       "53705  DTXSID2020216                   Other mutation         positive   \n",
       "53706  DTXSID2020216                   Other mutation         positive   \n",
       "53707  DTXSID2020216                   Other mutation         positive   \n",
       "54741  DTXSID2020216     Other chromosomal aberration         positive   \n",
       "\n",
       "       assay_outcome  aggregate_study_type simple_aggregate  \n",
       "612                0                  Ames             Ames  \n",
       "613                0                  Ames             Ames  \n",
       "614                1                  Ames             Ames  \n",
       "615                1                  Ames             Ames  \n",
       "616                1                  Ames             Ames  \n",
       "...              ...                   ...              ...  \n",
       "53704              1                 other            other  \n",
       "53705              1                 other            other  \n",
       "53706              1                 other            other  \n",
       "53707              1                 other            other  \n",
       "54741              1                 other            other  \n",
       "\n",
       "[156 rows x 35 columns]"
      ]
     },
     "execution_count": 94,
     "metadata": {},
     "output_type": "execute_result"
    }
   ],
   "source": [
    "genetox_df[genetox_df['dtxsid'] == 'DTXSID2020216']"
   ]
  },
  {
   "cell_type": "code",
   "execution_count": null,
   "metadata": {},
   "outputs": [],
   "source": []
  },
  {
   "cell_type": "code",
   "execution_count": null,
   "metadata": {},
   "outputs": [],
   "source": []
  }
 ],
 "metadata": {
  "kernelspec": {
   "display_name": "Python 3",
   "language": "python",
   "name": "python3"
  },
  "language_info": {
   "codemirror_mode": {
    "name": "ipython",
    "version": 3
   },
   "file_extension": ".py",
   "mimetype": "text/x-python",
   "name": "python",
   "nbconvert_exporter": "python",
   "pygments_lexer": "ipython3",
   "version": "3.7.6"
  }
 },
 "nbformat": 4,
 "nbformat_minor": 4
}
